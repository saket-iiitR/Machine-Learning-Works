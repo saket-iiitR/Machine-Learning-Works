{
 "cells": [
  {
   "cell_type": "markdown",
   "metadata": {},
   "source": [
    "<h1>KNN ALGORITHM</h1>\n",
    "<h6>Saket Tiwari</h6>\n",
    "Date: 17 June 2019"
   ]
  },
  {
   "cell_type": "code",
   "execution_count": 69,
   "metadata": {},
   "outputs": [],
   "source": [
    "import numpy as np\n",
    "import matplotlib.pyplot as plt\n",
    "%matplotlib inline \n",
    "#prevents the matplotlib to display the result on another dialog box."
   ]
  },
  {
   "cell_type": "code",
   "execution_count": 70,
   "metadata": {},
   "outputs": [],
   "source": [
    "from sklearn.datasets import load_digits\n",
    "dataset=load_digits()"
   ]
  },
  {
   "cell_type": "code",
   "execution_count": 71,
   "metadata": {},
   "outputs": [],
   "source": [
    "# The load_digits() class has 5 columns. It stores the information of (8X8) pixel images.\n",
    "# These 8x8 information is a matrix which contains the color code of each of the grid.\n",
    "# Since it is difficult to work with a matrix with 8x8 (=64) informations when present in bulk,\n",
    "# therefore the matrix is flattened. It has 1797x64 information.\n",
    "# Now load_digits has 'data' which is nothing but that 64x1 information of all the 1797 images.\n",
    "# Now 'target' contains the information about the most relvant digits to the given information.\n",
    "# 'target' has 1797 information ( equal to that of the no of rows in the 'data' as it is the most relevant information about the data.)\n",
    "# 'target_names' has the all the digits. They are the labels in our KNN model.\n",
    "# 'images' contains the complete tensor. storing 1797x8x8 information."
   ]
  },
  {
   "cell_type": "code",
   "execution_count": 72,
   "metadata": {},
   "outputs": [],
   "source": [
    "from sklearn.model_selection import train_test_split"
   ]
  },
  {
   "cell_type": "code",
   "execution_count": 73,
   "metadata": {},
   "outputs": [],
   "source": [
    "X_train,X_test,y_train,y_test= train_test_split(dataset['data'],dataset['target'])\n",
    "\n",
    "# We divided our dataset into test and train datasets.\n",
    "# Default percentage= 25% test datasets"
   ]
  },
  {
   "cell_type": "code",
   "execution_count": 74,
   "metadata": {},
   "outputs": [],
   "source": [
    "X_train=np.asarray(X_train)\n",
    "X_test=np.asarray(X_test)\n",
    "y_train=np.asarray(y_train)\n",
    "y_test=np.asarray(y_test)"
   ]
  },
  {
   "cell_type": "code",
   "execution_count": 75,
   "metadata": {},
   "outputs": [],
   "source": [
    "def knn(X_train,y_train,X_test,k=7):\n",
    "    \n",
    "    vals=[]\n",
    "    for i in range(X_test.shape[0]):\n",
    "        \n",
    "        d=[]\n",
    "        \n",
    "        for j in range(X_train.shape[0]):\n",
    "            \n",
    "            distance=(np.sum((X_test[i]-X_train[j])**2))**0.5\n",
    "            d.append([distance,y_train[j]])\n",
    "        \n",
    "        sorted_labels=sorted(d,key=lambda r:r[0])\n",
    "        neighbors=np.asarray(sorted_labels)[:k,-1]\n",
    "        \n",
    "        freq=np.unique(neighbors,return_counts=True)\n",
    "        index=freq[1].argmax()\n",
    "        \n",
    "        vals.append(int(freq[0][index]))\n",
    "    return vals\n",
    "    "
   ]
  },
  {
   "cell_type": "code",
   "execution_count": 76,
   "metadata": {},
   "outputs": [],
   "source": [
    "def acc(k):\n",
    "    \n",
    "    predictions=knn(X_train,y_train,X_test,k)\n",
    "    preds=np.asarray(predictions)\n",
    "    \n",
    "    return 100*(y_test==preds).sum()/preds.shape[0]       \n",
    "        \n",
    "        "
   ]
  },
  {
   "cell_type": "code",
   "execution_count": 77,
   "metadata": {},
   "outputs": [
    {
     "data": {
      "text/plain": [
       "98.22222222222223"
      ]
     },
     "execution_count": 77,
     "metadata": {},
     "output_type": "execute_result"
    }
   ],
   "source": [
    "acc(1)"
   ]
  },
  {
   "cell_type": "code",
   "execution_count": 78,
   "metadata": {},
   "outputs": [
    {
     "name": "stdout",
     "output_type": "stream",
     "text": [
      "For k=1 acc=98.22222222222223\n",
      "For k=2 acc=98.44444444444444\n",
      "For k=3 acc=98.66666666666667\n",
      "For k=4 acc=98.44444444444444\n",
      "For k=5 acc=98.22222222222223\n",
      "For k=6 acc=98.22222222222223\n",
      "For k=7 acc=98.44444444444444\n",
      "For k=8 acc=98.22222222222223\n",
      "For k=9 acc=98.44444444444444\n"
     ]
    }
   ],
   "source": [
    "for k in range(1,10):\n",
    "    print((f\"For k={k} acc={acc(k)}\"))"
   ]
  }
 ],
 "metadata": {
  "kernelspec": {
   "display_name": "Python 3",
   "language": "python",
   "name": "python3"
  },
  "language_info": {
   "codemirror_mode": {
    "name": "ipython",
    "version": 3
   },
   "file_extension": ".py",
   "mimetype": "text/x-python",
   "name": "python",
   "nbconvert_exporter": "python",
   "pygments_lexer": "ipython3",
   "version": "3.6.8"
  }
 },
 "nbformat": 4,
 "nbformat_minor": 2
}
