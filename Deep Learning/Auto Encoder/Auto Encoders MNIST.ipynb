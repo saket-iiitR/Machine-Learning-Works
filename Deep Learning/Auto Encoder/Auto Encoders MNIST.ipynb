{
 "cells": [
  {
   "cell_type": "markdown",
   "metadata": {},
   "source": [
    "<h1>Auto Encoder on MNIST</h1>\n",
    "<h6>Saket Tiwari</h6>\n",
    "Date: 03 July 2019"
   ]
  },
  {
   "cell_type": "code",
   "execution_count": 0,
   "metadata": {
    "colab": {},
    "colab_type": "code",
    "id": "0dmHh1t8kzzb"
   },
   "outputs": [],
   "source": [
    "import numpy as np\n",
    "import matplotlib.pyplot as plt\n",
    "%matplotlib inline"
   ]
  },
  {
   "cell_type": "code",
   "execution_count": 3,
   "metadata": {
    "colab": {
     "base_uri": "https://localhost:8080/",
     "height": 34
    },
    "colab_type": "code",
    "id": "ZhhUm8cyk78O",
    "outputId": "ddbab375-cbdf-45ef-b65f-988d157817f8"
   },
   "outputs": [
    {
     "name": "stderr",
     "output_type": "stream",
     "text": [
      "Using TensorFlow backend.\n"
     ]
    }
   ],
   "source": [
    "from keras.datasets import mnist"
   ]
  },
  {
   "cell_type": "code",
   "execution_count": 4,
   "metadata": {
    "colab": {
     "base_uri": "https://localhost:8080/",
     "height": 50
    },
    "colab_type": "code",
    "id": "RT6ln6Bnk_aM",
    "outputId": "16d65485-b27e-4db6-b62c-0692640a21c2"
   },
   "outputs": [
    {
     "name": "stdout",
     "output_type": "stream",
     "text": [
      "Downloading data from https://s3.amazonaws.com/img-datasets/mnist.npz\n",
      "11493376/11490434 [==============================] - 0s 0us/step\n"
     ]
    }
   ],
   "source": [
    "(x_train, _), (x_test, _)= mnist.load_data()"
   ]
  },
  {
   "cell_type": "code",
   "execution_count": 0,
   "metadata": {
    "colab": {},
    "colab_type": "code",
    "id": "BsnZsdKwlJyD"
   },
   "outputs": [],
   "source": [
    "x_train = x_train.astype('float32')/255\n",
    "x_test= x_test.astype('float32')/255"
   ]
  },
  {
   "cell_type": "code",
   "execution_count": 6,
   "metadata": {
    "colab": {
     "base_uri": "https://localhost:8080/",
     "height": 34
    },
    "colab_type": "code",
    "id": "cDur5g3PlU56",
    "outputId": "40c670a1-8028-4f96-fd1e-af9a9f26ed29"
   },
   "outputs": [
    {
     "name": "stdout",
     "output_type": "stream",
     "text": [
      "(10000, 28, 28, 1) (60000, 28, 28, 1)\n"
     ]
    }
   ],
   "source": [
    "x_train=x_train.reshape(-1,28,28,1)\n",
    "x_test=x_test.reshape(-1,28,28,1)\n",
    "print(x_test.shape, x_train.shape)"
   ]
  },
  {
   "cell_type": "code",
   "execution_count": 0,
   "metadata": {
    "colab": {},
    "colab_type": "code",
    "id": "29ABMPMAlwhQ"
   },
   "outputs": [],
   "source": [
    "noise_factor= 0.5\n",
    "x_train_noisy = x_train + noise_factor * np.random.normal (loc= 0.0 , scale =1.0, size=x_train.shape)\n",
    "x_test_noisy=x_test+ noise_factor*np.random.normal(loc=0.0, scale =1.0, size = x_test.shape)"
   ]
  },
  {
   "cell_type": "code",
   "execution_count": 0,
   "metadata": {
    "colab": {},
    "colab_type": "code",
    "id": "yvDZqBOmmNjs"
   },
   "outputs": [],
   "source": [
    "x_train_noisy = np.clip(x_train_noisy, 0.,1.)\n",
    "x_test_noisy = np.clip(x_test_noisy, 0.,1.)"
   ]
  },
  {
   "cell_type": "code",
   "execution_count": 9,
   "metadata": {
    "colab": {
     "base_uri": "https://localhost:8080/",
     "height": 99
    },
    "colab_type": "code",
    "id": "1rMdyEE4mdwY",
    "outputId": "54e72313-aae7-4b8c-ceb7-fd1dfe5c7763"
   },
   "outputs": [
    {
     "data": {
      "image/png": "[encoded data removed]",
      "text/plain": [
       "<Figure size 720x144 with 10 Axes>"
      ]
     },
     "metadata": {
      "tags": []
     },
     "output_type": "display_data"
    }
   ],
   "source": [
    "n=10\n",
    "plt.figure(figsize=(10,2))\n",
    "for i in range(1, n+1):\n",
    "  ax= plt.subplot(1,n,i)\n",
    "  plt.imshow(x_test_noisy[i].reshape(28,28))\n",
    "  plt.gray()\n",
    "plt.show()"
   ]
  },
  {
   "cell_type": "code",
   "execution_count": 0,
   "metadata": {
    "colab": {},
    "colab_type": "code",
    "id": "YY7U6Gs2nBIB"
   },
   "outputs": [],
   "source": [
    "import keras\n",
    "from keras.layers import Input, Dense, Conv2D, MaxPooling2D, UpSampling2D\n",
    "from keras.models import Model"
   ]
  },
  {
   "cell_type": "code",
   "execution_count": 11,
   "metadata": {
    "colab": {
     "base_uri": "https://localhost:8080/",
     "height": 793
    },
    "colab_type": "code",
    "id": "X0-fwR5UnXIJ",
    "outputId": "02e6d324-02da-4026-e937-6d18058d4f04"
   },
   "outputs": [
    {
     "name": "stderr",
     "output_type": "stream",
     "text": [
      "WARNING: Logging before flag parsing goes to stderr.\n",
      "W0702 21:45:13.212891 140044181342080 deprecation_wrapper.py:119] From /usr/local/lib/python3.6/dist-packages/keras/backend/tensorflow_backend.py:74: The name tf.get_default_graph is deprecated. Please use tf.compat.v1.get_default_graph instead.\n",
      "\n",
      "W0702 21:45:13.255295 140044181342080 deprecation_wrapper.py:119] From /usr/local/lib/python3.6/dist-packages/keras/backend/tensorflow_backend.py:517: The name tf.placeholder is deprecated. Please use tf.compat.v1.placeholder instead.\n",
      "\n",
      "W0702 21:45:13.345320 140044181342080 deprecation_wrapper.py:119] From /usr/local/lib/python3.6/dist-packages/keras/backend/tensorflow_backend.py:4138: The name tf.random_uniform is deprecated. Please use tf.random.uniform instead.\n",
      "\n",
      "W0702 21:45:13.390486 140044181342080 deprecation_wrapper.py:119] From /usr/local/lib/python3.6/dist-packages/keras/backend/tensorflow_backend.py:3976: The name tf.nn.max_pool is deprecated. Please use tf.nn.max_pool2d instead.\n",
      "\n",
      "W0702 21:45:13.430715 140044181342080 deprecation_wrapper.py:119] From /usr/local/lib/python3.6/dist-packages/keras/backend/tensorflow_backend.py:2018: The name tf.image.resize_nearest_neighbor is deprecated. Please use tf.compat.v1.image.resize_nearest_neighbor instead.\n",
      "\n",
      "W0702 21:45:13.470586 140044181342080 deprecation_wrapper.py:119] From /usr/local/lib/python3.6/dist-packages/keras/optimizers.py:790: The name tf.train.Optimizer is deprecated. Please use tf.compat.v1.train.Optimizer instead.\n",
      "\n",
      "W0702 21:45:13.490446 140044181342080 deprecation_wrapper.py:119] From /usr/local/lib/python3.6/dist-packages/keras/backend/tensorflow_backend.py:3376: The name tf.log is deprecated. Please use tf.math.log instead.\n",
      "\n",
      "W0702 21:45:13.498667 140044181342080 deprecation.py:323] From /usr/local/lib/python3.6/dist-packages/tensorflow/python/ops/nn_impl.py:180: add_dispatch_support.<locals>.wrapper (from tensorflow.python.ops.array_ops) is deprecated and will be removed in a future version.\n",
      "Instructions for updating:\n",
      "Use tf.where in 2.0, which has the same broadcast rule as np.where\n"
     ]
    },
    {
     "name": "stdout",
     "output_type": "stream",
     "text": [
      "_________________________________________________________________\n",
      "Layer (type)                 Output Shape              Param #   \n",
      "=================================================================\n",
      "input_1 (InputLayer)         (None, 28, 28, 1)         0         \n",
      "_________________________________________________________________\n",
      "conv2d_1 (Conv2D)            (None, 28, 28, 32)        320       \n",
      "_________________________________________________________________\n",
      "max_pooling2d_1 (MaxPooling2 (None, 14, 14, 32)        0         \n",
      "_________________________________________________________________\n",
      "conv2d_2 (Conv2D)            (None, 14, 14, 32)        9248      \n",
      "_________________________________________________________________\n",
      "max_pooling2d_2 (MaxPooling2 (None, 7, 7, 32)          0         \n",
      "_________________________________________________________________\n",
      "conv2d_3 (Conv2D)            (None, 7, 7, 32)          9248      \n",
      "_________________________________________________________________\n",
      "up_sampling2d_1 (UpSampling2 (None, 14, 14, 32)        0         \n",
      "_________________________________________________________________\n",
      "conv2d_4 (Conv2D)            (None, 14, 14, 32)        9248      \n",
      "_________________________________________________________________\n",
      "up_sampling2d_2 (UpSampling2 (None, 28, 28, 32)        0         \n",
      "_________________________________________________________________\n",
      "conv2d_5 (Conv2D)            (None, 28, 28, 1)         289       \n",
      "=================================================================\n",
      "Total params: 28,353\n",
      "Trainable params: 28,353\n",
      "Non-trainable params: 0\n",
      "_________________________________________________________________\n"
     ]
    }
   ],
   "source": [
    "input_img = Input(shape=(28,28,1))\n",
    "x=Conv2D(32,(3,3), activation='relu', padding='same')(input_img)\n",
    "x=MaxPooling2D((2,2), padding='same')(x)\n",
    "\n",
    "x=Conv2D(32, (3,3), activation = 'relu', padding='same')(x)\n",
    "encoded=MaxPooling2D((2,2),padding='same')(x)\n",
    "\n",
    "x=Conv2D(32,(3,3), activation='relu', padding='same')(encoded)\n",
    "x=UpSampling2D((2,2))(x)\n",
    "\n",
    "x=Conv2D(32,(3,3), activation='relu', padding='same')(x)\n",
    "x=UpSampling2D((2,2))(x)\n",
    "\n",
    "decoded= Conv2D(1,(3,3), activation='sigmoid',padding='same')(x)\n",
    "\n",
    "autoencoder= Model(input_img, decoded)\n",
    "autoencoder.compile(optimizer='adadelta', loss='binary_crossentropy')\n",
    "autoencoder.summary()"
   ]
  },
  {
   "cell_type": "code",
   "execution_count": 12,
   "metadata": {
    "colab": {
     "base_uri": "https://localhost:8080/",
     "height": 1000
    },
    "colab_type": "code",
    "id": "rSe91P9jo1zl",
    "outputId": "40c6a058-6f4d-4d45-ea53-00aeca0a5757"
   },
   "outputs": [
    {
     "name": "stderr",
     "output_type": "stream",
     "text": [
      "W0702 21:45:13.858235 140044181342080 deprecation_wrapper.py:119] From /usr/local/lib/python3.6/dist-packages/keras/backend/tensorflow_backend.py:986: The name tf.assign_add is deprecated. Please use tf.compat.v1.assign_add instead.\n",
      "\n"
     ]
    },
    {
     "name": "stdout",
     "output_type": "stream",
     "text": [
      "Train on 60000 samples, validate on 10000 samples\n",
      "Epoch 1/100\n",
      "60000/60000 [==============================] - 13s 213us/step - loss: 0.1743 - val_loss: 0.1234\n",
      "Epoch 2/100\n",
      "60000/60000 [==============================] - 7s 121us/step - loss: 0.1173 - val_loss: 0.1092\n",
      "Epoch 3/100\n",
      "60000/60000 [==============================] - 7s 119us/step - loss: 0.1106 - val_loss: 0.1111\n",
      "Epoch 4/100\n",
      "60000/60000 [==============================] - 7s 120us/step - loss: 0.1072 - val_loss: 0.1051\n",
      "Epoch 5/100\n",
      "60000/60000 [==============================] - 7s 120us/step - loss: 0.1051 - val_loss: 0.1046\n",
      "Epoch 6/100\n",
      "60000/60000 [==============================] - 7s 119us/step - loss: 0.1037 - val_loss: 0.1031\n",
      "Epoch 7/100\n",
      "60000/60000 [==============================] - 7s 120us/step - loss: 0.1026 - val_loss: 0.1012\n",
      "Epoch 8/100\n",
      "60000/60000 [==============================] - 7s 120us/step - loss: 0.1018 - val_loss: 0.1015\n",
      "Epoch 9/100\n",
      "60000/60000 [==============================] - 7s 120us/step - loss: 0.1012 - val_loss: 0.1007\n",
      "Epoch 10/100\n",
      "60000/60000 [==============================] - 7s 121us/step - loss: 0.1006 - val_loss: 0.0999\n",
      "Epoch 11/100\n",
      "60000/60000 [==============================] - 7s 120us/step - loss: 0.1002 - val_loss: 0.0984\n",
      "Epoch 12/100\n",
      "60000/60000 [==============================] - 7s 122us/step - loss: 0.0998 - val_loss: 0.0984\n",
      "Epoch 13/100\n",
      "60000/60000 [==============================] - 7s 121us/step - loss: 0.0995 - val_loss: 0.0990\n",
      "Epoch 14/100\n",
      "60000/60000 [==============================] - 7s 124us/step - loss: 0.0991 - val_loss: 0.0978\n",
      "Epoch 15/100\n",
      "60000/60000 [==============================] - 7s 125us/step - loss: 0.0989 - val_loss: 0.0981\n",
      "Epoch 16/100\n",
      "60000/60000 [==============================] - 7s 122us/step - loss: 0.0985 - val_loss: 0.0971\n",
      "Epoch 17/100\n",
      "60000/60000 [==============================] - 7s 121us/step - loss: 0.0982 - val_loss: 0.0976\n",
      "Epoch 18/100\n",
      "60000/60000 [==============================] - 7s 121us/step - loss: 0.0982 - val_loss: 0.0969\n",
      "Epoch 19/100\n",
      "60000/60000 [==============================] - 7s 123us/step - loss: 0.0980 - val_loss: 0.0981\n",
      "Epoch 20/100\n",
      "60000/60000 [==============================] - 7s 123us/step - loss: 0.0978 - val_loss: 0.0975\n",
      "Epoch 21/100\n",
      "60000/60000 [==============================] - 7s 123us/step - loss: 0.0976 - val_loss: 0.0969\n",
      "Epoch 22/100\n",
      "60000/60000 [==============================] - 7s 123us/step - loss: 0.0975 - val_loss: 0.0962\n",
      "Epoch 23/100\n",
      "60000/60000 [==============================] - 7s 123us/step - loss: 0.0972 - val_loss: 0.0970\n",
      "Epoch 24/100\n",
      "60000/60000 [==============================] - 7s 122us/step - loss: 0.0972 - val_loss: 0.0976\n",
      "Epoch 25/100\n",
      "60000/60000 [==============================] - 7s 123us/step - loss: 0.0970 - val_loss: 0.0983\n",
      "Epoch 26/100\n",
      "60000/60000 [==============================] - 7s 123us/step - loss: 0.0969 - val_loss: 0.0960\n",
      "Epoch 27/100\n",
      "60000/60000 [==============================] - 7s 123us/step - loss: 0.0968 - val_loss: 0.0959\n",
      "Epoch 28/100\n",
      "60000/60000 [==============================] - 7s 123us/step - loss: 0.0966 - val_loss: 0.0959\n",
      "Epoch 29/100\n",
      "60000/60000 [==============================] - 7s 124us/step - loss: 0.0965 - val_loss: 0.0957\n",
      "Epoch 30/100\n",
      "60000/60000 [==============================] - 7s 123us/step - loss: 0.0965 - val_loss: 0.0954\n",
      "Epoch 31/100\n",
      "60000/60000 [==============================] - 7s 124us/step - loss: 0.0963 - val_loss: 0.0967\n",
      "Epoch 32/100\n",
      "60000/60000 [==============================] - 7s 123us/step - loss: 0.0962 - val_loss: 0.0957\n",
      "Epoch 33/100\n",
      "60000/60000 [==============================] - 8s 127us/step - loss: 0.0962 - val_loss: 0.0954\n",
      "Epoch 34/100\n",
      "60000/60000 [==============================] - 7s 124us/step - loss: 0.0961 - val_loss: 0.0958\n",
      "Epoch 35/100\n",
      "60000/60000 [==============================] - 7s 122us/step - loss: 0.0960 - val_loss: 0.0956\n",
      "Epoch 36/100\n",
      "60000/60000 [==============================] - 7s 123us/step - loss: 0.0959 - val_loss: 0.0954\n",
      "Epoch 37/100\n",
      "60000/60000 [==============================] - 7s 124us/step - loss: 0.0958 - val_loss: 0.0957\n",
      "Epoch 38/100\n",
      "60000/60000 [==============================] - 7s 124us/step - loss: 0.0959 - val_loss: 0.0954\n",
      "Epoch 39/100\n",
      "60000/60000 [==============================] - 7s 123us/step - loss: 0.0957 - val_loss: 0.0957\n",
      "Epoch 40/100\n",
      "60000/60000 [==============================] - 7s 124us/step - loss: 0.0955 - val_loss: 0.0951\n",
      "Epoch 41/100\n",
      "60000/60000 [==============================] - 7s 123us/step - loss: 0.0956 - val_loss: 0.0948\n",
      "Epoch 42/100\n",
      "60000/60000 [==============================] - 7s 123us/step - loss: 0.0955 - val_loss: 0.0959\n",
      "Epoch 43/100\n",
      "60000/60000 [==============================] - 7s 124us/step - loss: 0.0955 - val_loss: 0.0953\n",
      "Epoch 44/100\n",
      "60000/60000 [==============================] - 7s 123us/step - loss: 0.0954 - val_loss: 0.0953\n",
      "Epoch 45/100\n",
      "60000/60000 [==============================] - 7s 124us/step - loss: 0.0954 - val_loss: 0.0946\n",
      "Epoch 46/100\n",
      "60000/60000 [==============================] - 7s 123us/step - loss: 0.0953 - val_loss: 0.0947\n",
      "Epoch 47/100\n",
      "60000/60000 [==============================] - 7s 123us/step - loss: 0.0953 - val_loss: 0.0948\n",
      "Epoch 48/100\n",
      "60000/60000 [==============================] - 7s 124us/step - loss: 0.0952 - val_loss: 0.0958\n",
      "Epoch 49/100\n",
      "60000/60000 [==============================] - 7s 123us/step - loss: 0.0952 - val_loss: 0.0948\n",
      "Epoch 50/100\n",
      "60000/60000 [==============================] - 7s 123us/step - loss: 0.0952 - val_loss: 0.0947\n",
      "Epoch 51/100\n",
      "60000/60000 [==============================] - 7s 123us/step - loss: 0.0951 - val_loss: 0.0946\n",
      "Epoch 52/100\n",
      "60000/60000 [==============================] - 7s 123us/step - loss: 0.0950 - val_loss: 0.0949\n",
      "Epoch 53/100\n",
      "60000/60000 [==============================] - 7s 123us/step - loss: 0.0949 - val_loss: 0.0945\n",
      "Epoch 54/100\n",
      "60000/60000 [==============================] - 7s 123us/step - loss: 0.0949 - val_loss: 0.0948\n",
      "Epoch 55/100\n",
      "60000/60000 [==============================] - 7s 123us/step - loss: 0.0950 - val_loss: 0.0943\n",
      "Epoch 56/100\n",
      "60000/60000 [==============================] - 7s 124us/step - loss: 0.0949 - val_loss: 0.0945\n",
      "Epoch 57/100\n",
      "60000/60000 [==============================] - 7s 124us/step - loss: 0.0948 - val_loss: 0.0943\n",
      "Epoch 58/100\n",
      "60000/60000 [==============================] - 7s 123us/step - loss: 0.0948 - val_loss: 0.0941\n",
      "Epoch 59/100\n",
      "60000/60000 [==============================] - 7s 123us/step - loss: 0.0948 - val_loss: 0.0953\n",
      "Epoch 60/100\n",
      "60000/60000 [==============================] - 7s 124us/step - loss: 0.0948 - val_loss: 0.0943\n",
      "Epoch 61/100\n",
      "60000/60000 [==============================] - 7s 123us/step - loss: 0.0948 - val_loss: 0.0949\n",
      "Epoch 62/100\n",
      "60000/60000 [==============================] - 7s 123us/step - loss: 0.0946 - val_loss: 0.0951\n",
      "Epoch 63/100\n",
      "60000/60000 [==============================] - 7s 123us/step - loss: 0.0948 - val_loss: 0.0949\n",
      "Epoch 64/100\n",
      "60000/60000 [==============================] - 7s 119us/step - loss: 0.0947 - val_loss: 0.0944\n",
      "Epoch 65/100\n",
      "60000/60000 [==============================] - 7s 119us/step - loss: 0.0946 - val_loss: 0.0951\n",
      "Epoch 66/100\n",
      "60000/60000 [==============================] - 7s 119us/step - loss: 0.0946 - val_loss: 0.0948\n",
      "Epoch 67/100\n",
      "60000/60000 [==============================] - 7s 118us/step - loss: 0.0946 - val_loss: 0.0942\n",
      "Epoch 68/100\n",
      "60000/60000 [==============================] - 7s 118us/step - loss: 0.0945 - val_loss: 0.0940\n",
      "Epoch 69/100\n",
      "60000/60000 [==============================] - 7s 119us/step - loss: 0.0944 - val_loss: 0.0945\n",
      "Epoch 70/100\n",
      "60000/60000 [==============================] - 7s 121us/step - loss: 0.0945 - val_loss: 0.0948\n",
      "Epoch 71/100\n",
      "60000/60000 [==============================] - 7s 120us/step - loss: 0.0945 - val_loss: 0.0939\n",
      "Epoch 72/100\n",
      "60000/60000 [==============================] - 7s 120us/step - loss: 0.0944 - val_loss: 0.0940\n",
      "Epoch 73/100\n",
      "60000/60000 [==============================] - 7s 120us/step - loss: 0.0944 - val_loss: 0.0942\n",
      "Epoch 74/100\n",
      "60000/60000 [==============================] - 7s 122us/step - loss: 0.0944 - val_loss: 0.0941\n",
      "Epoch 75/100\n",
      "60000/60000 [==============================] - 7s 124us/step - loss: 0.0944 - val_loss: 0.0946\n",
      "Epoch 76/100\n",
      "60000/60000 [==============================] - 8s 125us/step - loss: 0.0944 - val_loss: 0.0943\n",
      "Epoch 77/100\n",
      "60000/60000 [==============================] - 7s 124us/step - loss: 0.0943 - val_loss: 0.0940\n",
      "Epoch 78/100\n",
      "60000/60000 [==============================] - 7s 122us/step - loss: 0.0944 - val_loss: 0.0943\n",
      "Epoch 79/100\n",
      "60000/60000 [==============================] - 7s 123us/step - loss: 0.0943 - val_loss: 0.0941\n",
      "Epoch 80/100\n",
      "60000/60000 [==============================] - 7s 123us/step - loss: 0.0942 - val_loss: 0.0938\n",
      "Epoch 81/100\n",
      "60000/60000 [==============================] - 7s 122us/step - loss: 0.0943 - val_loss: 0.0939\n",
      "Epoch 82/100\n",
      "60000/60000 [==============================] - 7s 120us/step - loss: 0.0942 - val_loss: 0.0949\n",
      "Epoch 83/100\n",
      "60000/60000 [==============================] - 7s 119us/step - loss: 0.0941 - val_loss: 0.0937\n",
      "Epoch 84/100\n",
      "60000/60000 [==============================] - 7s 119us/step - loss: 0.0942 - val_loss: 0.0938\n",
      "Epoch 85/100\n",
      "60000/60000 [==============================] - 7s 118us/step - loss: 0.0941 - val_loss: 0.0936\n",
      "Epoch 86/100\n",
      "60000/60000 [==============================] - 7s 119us/step - loss: 0.0941 - val_loss: 0.0937\n",
      "Epoch 87/100\n",
      "60000/60000 [==============================] - 7s 119us/step - loss: 0.0940 - val_loss: 0.0937\n",
      "Epoch 88/100\n",
      "60000/60000 [==============================] - 7s 119us/step - loss: 0.0941 - val_loss: 0.0937\n",
      "Epoch 89/100\n",
      "60000/60000 [==============================] - 7s 119us/step - loss: 0.0941 - val_loss: 0.0944\n",
      "Epoch 90/100\n",
      "60000/60000 [==============================] - 7s 119us/step - loss: 0.0941 - val_loss: 0.0945\n",
      "Epoch 91/100\n",
      "60000/60000 [==============================] - 7s 119us/step - loss: 0.0941 - val_loss: 0.0937\n",
      "Epoch 92/100\n",
      "60000/60000 [==============================] - 7s 121us/step - loss: 0.0940 - val_loss: 0.0940\n",
      "Epoch 93/100\n",
      "60000/60000 [==============================] - 7s 120us/step - loss: 0.0940 - val_loss: 0.0937\n",
      "Epoch 94/100\n",
      "60000/60000 [==============================] - 7s 120us/step - loss: 0.0939 - val_loss: 0.0939\n",
      "Epoch 95/100\n",
      "60000/60000 [==============================] - 7s 120us/step - loss: 0.0939 - val_loss: 0.0941\n",
      "Epoch 96/100\n",
      "60000/60000 [==============================] - 7s 121us/step - loss: 0.0940 - val_loss: 0.0938\n",
      "Epoch 97/100\n",
      "60000/60000 [==============================] - 7s 121us/step - loss: 0.0939 - val_loss: 0.0935\n",
      "Epoch 98/100\n",
      "60000/60000 [==============================] - 7s 123us/step - loss: 0.0939 - val_loss: 0.0948\n",
      "Epoch 99/100\n",
      "60000/60000 [==============================] - 7s 124us/step - loss: 0.0939 - val_loss: 0.0940\n",
      "Epoch 100/100\n",
      "60000/60000 [==============================] - 7s 123us/step - loss: 0.0939 - val_loss: 0.0935\n"
     ]
    },
    {
     "data": {
      "text/plain": [
       "<keras.callbacks.History at 0x7f5e475e71d0>"
      ]
     },
     "execution_count": 12,
     "metadata": {
      "tags": []
     },
     "output_type": "execute_result"
    }
   ],
   "source": [
    "autoencoder.fit(x_train_noisy, x_train, epochs=100, batch_size=128, shuffle=True, validation_data=(x_test_noisy,x_test))"
   ]
  },
  {
   "cell_type": "code",
   "execution_count": 0,
   "metadata": {
    "colab": {},
    "colab_type": "code",
    "id": "GQY62TvFpS8C"
   },
   "outputs": [],
   "source": [
    "pred=autoencoder.predict(x_test_noisy)"
   ]
  },
  {
   "cell_type": "code",
   "execution_count": 23,
   "metadata": {
    "colab": {
     "base_uri": "https://localhost:8080/",
     "height": 454
    },
    "colab_type": "code",
    "id": "pUFdmvT3u2km",
    "outputId": "9db548b0-5041-4a5b-db85-81fccdd95370"
   },
   "outputs": [
    {
     "name": "stdout",
     "output_type": "stream",
     "text": [
      "Test Images\n"
     ]
    },
    {
     "data": {
      "image/png": "[encoded data removed]",
      "text/plain": [
       "<Figure size 1440x288 with 10 Axes>"
      ]
     },
     "metadata": {
      "tags": []
     },
     "output_type": "display_data"
    },
    {
     "name": "stdout",
     "output_type": "stream",
     "text": [
      "Test Images with Noise\n"
     ]
    },
    {
     "data": {
      "image/png": "[encoded data removed]",
      "text/plain": [
       "<Figure size 1440x288 with 10 Axes>"
      ]
     },
     "metadata": {
      "tags": []
     },
     "output_type": "display_data"
    },
    {
     "name": "stdout",
     "output_type": "stream",
     "text": [
      "Reconstruction of Noisy Test Images\n"
     ]
    },
    {
     "data": {
      "image/png": "[encoded data removed]",
      "text/plain": [
       "<Figure size 1440x288 with 10 Axes>"
      ]
     },
     "metadata": {
      "tags": []
     },
     "output_type": "display_data"
    }
   ],
   "source": [
    "plt.figure(figsize=(20, 4))\n",
    "print(\"Test Images\")\n",
    "for i in range(10,20,1):\n",
    "    plt.subplot(2, 10, i+1)\n",
    "    plt.imshow(x_test[i].reshape(28,28), cmap='gray')\n",
    "plt.show()    \n",
    "plt.figure(figsize=(20, 4))\n",
    "print(\"Test Images with Noise\")\n",
    "for i in range(10,20,1):\n",
    "    plt.subplot(2, 10, i+1)\n",
    "    plt.imshow(x_test_noisy[i].reshape(28,28), cmap='gray')\n",
    "plt.show()    \n",
    "\n",
    "plt.figure(figsize=(20, 4))\n",
    "print(\"Reconstruction of Noisy Test Images\")\n",
    "for i in range(10,20,1):\n",
    "    plt.subplot(2, 10, i+1)\n",
    "    plt.imshow(pred[i].reshape(28,28), cmap='gray')  \n",
    "plt.show()\n"
   ]
  },
  {
   "cell_type": "code",
   "execution_count": 0,
   "metadata": {
    "colab": {},
    "colab_type": "code",
    "id": "gW_MiGGnu6vY"
   },
   "outputs": [],
   "source": []
  }
 ],
 "metadata": {
  "accelerator": "GPU",
  "colab": {
   "name": "Untitled1.ipynb",
   "provenance": [],
   "version": "0.3.2"
  },
  "kernelspec": {
   "display_name": "Python 3",
   "language": "python",
   "name": "python3"
  },
  "language_info": {
   "codemirror_mode": {
    "name": "ipython",
    "version": 3
   },
   "file_extension": ".py",
   "mimetype": "text/x-python",
   "name": "python",
   "nbconvert_exporter": "python",
   "pygments_lexer": "ipython3",
   "version": "3.6.8"
  }
 },
 "nbformat": 4,
 "nbformat_minor": 1
}
