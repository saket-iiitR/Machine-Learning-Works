{
 "cells": [
  {
   "cell_type": "markdown",
   "metadata": {},
   "source": [
    "<h1>Numpy Basics</h1>\n",
    "<h6>Saket Tiwari</h6>\n",
    "Date: 14 June 2019"
   ]
  },
  {
   "cell_type": "code",
   "execution_count": 2,
   "metadata": {},
   "outputs": [],
   "source": [
    "import numpy as np"
   ]
  },
  {
   "cell_type": "code",
   "execution_count": 2,
   "metadata": {},
   "outputs": [
    {
     "data": {
      "text/plain": [
       "array([1. , 1.5, 2. , 2.5, 3. , 3.5, 4. , 4.5])"
      ]
     },
     "execution_count": 2,
     "metadata": {},
     "output_type": "execute_result"
    }
   ],
   "source": [
    "a=np.arange(1,5,0.5)\n",
    "a"
   ]
  },
  {
   "cell_type": "code",
   "execution_count": 5,
   "metadata": {},
   "outputs": [
    {
     "data": {
      "text/plain": [
       "array([[1, 2, 3],\n",
       "       [4, 5, 6]])"
      ]
     },
     "execution_count": 5,
     "metadata": {},
     "output_type": "execute_result"
    }
   ],
   "source": [
    "b=np.array([[1,2,3],[4,5,6]])\n",
    "b"
   ]
  },
  {
   "cell_type": "code",
   "execution_count": 6,
   "metadata": {},
   "outputs": [
    {
     "data": {
      "text/plain": [
       "array([ 0,  1,  2,  3,  4,  5,  6,  7,  8,  9, 10, 11])"
      ]
     },
     "execution_count": 6,
     "metadata": {},
     "output_type": "execute_result"
    }
   ],
   "source": [
    "c=np.arange(12)\n",
    "c"
   ]
  },
  {
   "cell_type": "code",
   "execution_count": 7,
   "metadata": {},
   "outputs": [
    {
     "data": {
      "text/plain": [
       "array([[ 0,  1,  2,  3],\n",
       "       [ 4,  5,  6,  7],\n",
       "       [ 8,  9, 10, 11]])"
      ]
     },
     "execution_count": 7,
     "metadata": {},
     "output_type": "execute_result"
    }
   ],
   "source": [
    "c.reshape(3,4)"
   ]
  },
  {
   "cell_type": "code",
   "execution_count": 8,
   "metadata": {},
   "outputs": [
    {
     "data": {
      "text/plain": [
       "array([[ 0,  1],\n",
       "       [ 2,  3],\n",
       "       [ 4,  5],\n",
       "       [ 6,  7],\n",
       "       [ 8,  9],\n",
       "       [10, 11]])"
      ]
     },
     "execution_count": 8,
     "metadata": {},
     "output_type": "execute_result"
    }
   ],
   "source": [
    "c.reshape(6,2)"
   ]
  },
  {
   "cell_type": "code",
   "execution_count": 9,
   "metadata": {},
   "outputs": [
    {
     "data": {
      "text/plain": [
       "array([ 0,  1,  2,  3,  4,  5,  6,  7,  8,  9, 10, 11])"
      ]
     },
     "execution_count": 9,
     "metadata": {},
     "output_type": "execute_result"
    }
   ],
   "source": [
    "c"
   ]
  },
  {
   "cell_type": "code",
   "execution_count": null,
   "metadata": {},
   "outputs": [],
   "source": []
  },
  {
   "cell_type": "code",
   "execution_count": 13,
   "metadata": {},
   "outputs": [
    {
     "data": {
      "text/plain": [
       "array([ -1,   0,   1, 100])"
      ]
     },
     "execution_count": 13,
     "metadata": {},
     "output_type": "execute_result"
    }
   ],
   "source": [
    "#python list pass hua h..jisko array me convert kiya h\n",
    "b=np.array([-1,0,1,100])\n",
    "b"
   ]
  },
  {
   "cell_type": "code",
   "execution_count": 18,
   "metadata": {},
   "outputs": [
    {
     "data": {
      "text/plain": [
       "array([2, 4, 6])"
      ]
     },
     "execution_count": 18,
     "metadata": {},
     "output_type": "execute_result"
    }
   ],
   "source": [
    "a=np.array([1,2,3])\n",
    "a=a*2\n",
    "a"
   ]
  },
  {
   "cell_type": "code",
   "execution_count": 20,
   "metadata": {},
   "outputs": [
    {
     "data": {
      "text/plain": [
       "array([ -2,   0,   2, -56], dtype=int8)"
      ]
     },
     "execution_count": 20,
     "metadata": {},
     "output_type": "execute_result"
    }
   ],
   "source": [
    "a=np.array([-1,0,1.5,100],dtype='int8')\n",
    "a=a*2\n",
    "a\n",
    "#since it cworks on C therefore all the data is converted into floating vALUE as in C data type must be same\n",
    "#due to data overflow data changes to -56 as minimum data in int8(8 bit integer)=-128 and maxm=127(range is from 0-127)"
   ]
  },
  {
   "cell_type": "code",
   "execution_count": 21,
   "metadata": {},
   "outputs": [
    {
     "data": {
      "text/plain": [
       "array([  2, -56], dtype=int8)"
      ]
     },
     "execution_count": 21,
     "metadata": {},
     "output_type": "execute_result"
    }
   ],
   "source": [
    "a[2:5]"
   ]
  },
  {
   "cell_type": "code",
   "execution_count": 22,
   "metadata": {},
   "outputs": [
    {
     "data": {
      "text/plain": [
       "array([-56,   2,   0,  -2], dtype=int8)"
      ]
     },
     "execution_count": 22,
     "metadata": {},
     "output_type": "execute_result"
    }
   ],
   "source": [
    "a[::-1]"
   ]
  },
  {
   "cell_type": "code",
   "execution_count": 23,
   "metadata": {},
   "outputs": [
    {
     "data": {
      "text/plain": [
       "array([ 0,  1,  2,  3,  4,  5,  6,  7,  8,  9, 10, 11])"
      ]
     },
     "execution_count": 23,
     "metadata": {},
     "output_type": "execute_result"
    }
   ],
   "source": [
    "a=np.arange(12)\n",
    "a"
   ]
  },
  {
   "cell_type": "code",
   "execution_count": 24,
   "metadata": {},
   "outputs": [
    {
     "data": {
      "text/plain": [
       "array([ 0,  2,  4,  6,  8, 10])"
      ]
     },
     "execution_count": 24,
     "metadata": {},
     "output_type": "execute_result"
    }
   ],
   "source": [
    "a[::2]"
   ]
  },
  {
   "cell_type": "code",
   "execution_count": 25,
   "metadata": {},
   "outputs": [
    {
     "data": {
      "text/plain": [
       "array([100,   1,   2,   3,   4,   5,   6,   7,   8,   9,  10,  11])"
      ]
     },
     "execution_count": 25,
     "metadata": {},
     "output_type": "execute_result"
    }
   ],
   "source": [
    "a[0]=100\n",
    "a"
   ]
  },
  {
   "cell_type": "code",
   "execution_count": 26,
   "metadata": {},
   "outputs": [
    {
     "data": {
      "text/plain": [
       "array([[100,   1,   2,   3],\n",
       "       [  4,   5,   6,   7],\n",
       "       [  8,   9,  10,  11]])"
      ]
     },
     "execution_count": 26,
     "metadata": {},
     "output_type": "execute_result"
    }
   ],
   "source": [
    "a=a.reshape(3,4)\n",
    "a"
   ]
  },
  {
   "cell_type": "code",
   "execution_count": 29,
   "metadata": {},
   "outputs": [
    {
     "data": {
      "text/plain": [
       "array([ 7, 11])"
      ]
     },
     "execution_count": 29,
     "metadata": {},
     "output_type": "execute_result"
    }
   ],
   "source": [
    "a[1:3, -1]"
   ]
  },
  {
   "cell_type": "code",
   "execution_count": 31,
   "metadata": {},
   "outputs": [
    {
     "data": {
      "text/plain": [
       "array([[ 1,  2],\n",
       "       [ 5,  6],\n",
       "       [ 9, 10]])"
      ]
     },
     "execution_count": 31,
     "metadata": {},
     "output_type": "execute_result"
    }
   ],
   "source": [
    "a[:,1:3]"
   ]
  },
  {
   "cell_type": "code",
   "execution_count": 32,
   "metadata": {},
   "outputs": [
    {
     "data": {
      "text/plain": [
       "array([[[ 0,  1,  2,  3],\n",
       "        [ 4,  5,  6,  7],\n",
       "        [ 8,  9, 10, 11]],\n",
       "\n",
       "       [[12, 13, 14, 15],\n",
       "        [16, 17, 18, 19],\n",
       "        [20, 21, 22, 23]]])"
      ]
     },
     "execution_count": 32,
     "metadata": {},
     "output_type": "execute_result"
    }
   ],
   "source": [
    "c=np.arange(24).reshape(2,3,4)\n",
    "c"
   ]
  },
  {
   "cell_type": "code",
   "execution_count": 33,
   "metadata": {},
   "outputs": [
    {
     "data": {
      "text/plain": [
       "17"
      ]
     },
     "execution_count": 33,
     "metadata": {},
     "output_type": "execute_result"
    }
   ],
   "source": [
    "c[1,1,1]"
   ]
  },
  {
   "cell_type": "code",
   "execution_count": 34,
   "metadata": {},
   "outputs": [
    {
     "ename": "SyntaxError",
     "evalue": "invalid syntax (<ipython-input-34-291fceec7f96>, line 1)",
     "output_type": "error",
     "traceback": [
      "\u001b[1;36m  File \u001b[1;32m\"<ipython-input-34-291fceec7f96>\"\u001b[1;36m, line \u001b[1;32m1\u001b[0m\n\u001b[1;33m    c[1,,]\u001b[0m\n\u001b[1;37m        ^\u001b[0m\n\u001b[1;31mSyntaxError\u001b[0m\u001b[1;31m:\u001b[0m invalid syntax\n"
     ]
    }
   ],
   "source": [
    "c[1,,]"
   ]
  },
  {
   "cell_type": "code",
   "execution_count": 35,
   "metadata": {},
   "outputs": [
    {
     "data": {
      "text/plain": [
       "array([[[12, 13, 14, 15],\n",
       "        [16, 17, 18, 19],\n",
       "        [20, 21, 22, 23]]])"
      ]
     },
     "execution_count": 35,
     "metadata": {},
     "output_type": "execute_result"
    }
   ],
   "source": [
    "c[1:,:,:]"
   ]
  },
  {
   "cell_type": "code",
   "execution_count": 36,
   "metadata": {},
   "outputs": [
    {
     "data": {
      "text/plain": [
       "array([[12, 13, 14, 15],\n",
       "       [16, 17, 18, 19],\n",
       "       [20, 21, 22, 23]])"
      ]
     },
     "execution_count": 36,
     "metadata": {},
     "output_type": "execute_result"
    }
   ],
   "source": [
    "c[1]"
   ]
  },
  {
   "cell_type": "code",
   "execution_count": null,
   "metadata": {},
   "outputs": [],
   "source": []
  },
  {
   "cell_type": "code",
   "execution_count": null,
   "metadata": {},
   "outputs": [],
   "source": []
  },
  {
   "cell_type": "markdown",
   "metadata": {},
   "source": [
    "Vectorization"
   ]
  },
  {
   "cell_type": "markdown",
   "metadata": {},
   "source": [
    "#Vectorization"
   ]
  },
  {
   "cell_type": "markdown",
   "metadata": {},
   "source": [
    "##Vectorization"
   ]
  },
  {
   "cell_type": "code",
   "execution_count": 39,
   "metadata": {},
   "outputs": [
    {
     "data": {
      "text/plain": [
       "array([ 0,  1,  2,  3,  4,  5,  6,  7,  8,  9, 10, 11])"
      ]
     },
     "execution_count": 39,
     "metadata": {},
     "output_type": "execute_result"
    }
   ],
   "source": [
    "a=np.arange(12)\n",
    "a"
   ]
  },
  {
   "cell_type": "code",
   "execution_count": 40,
   "metadata": {},
   "outputs": [
    {
     "data": {
      "text/plain": [
       "array([[ 0,  1,  2,  3],\n",
       "       [ 4,  5,  6,  7],\n",
       "       [ 8,  9, 10, 11]])"
      ]
     },
     "execution_count": 40,
     "metadata": {},
     "output_type": "execute_result"
    }
   ],
   "source": [
    "b=a.reshape(3,4)\n",
    "b"
   ]
  },
  {
   "cell_type": "code",
   "execution_count": 41,
   "metadata": {},
   "outputs": [
    {
     "data": {
      "text/plain": [
       "array([ 0,  2,  4,  6,  8, 10, 12, 14, 16, 18, 20, 22])"
      ]
     },
     "execution_count": 41,
     "metadata": {},
     "output_type": "execute_result"
    }
   ],
   "source": [
    "a*2"
   ]
  },
  {
   "cell_type": "code",
   "execution_count": 42,
   "metadata": {},
   "outputs": [
    {
     "data": {
      "text/plain": [
       "array([[ 0,  2,  4,  6],\n",
       "       [ 8, 10, 12, 14],\n",
       "       [16, 18, 20, 22]])"
      ]
     },
     "execution_count": 42,
     "metadata": {},
     "output_type": "execute_result"
    }
   ],
   "source": [
    "#numpy is a vectorized library\n",
    "b*2"
   ]
  },
  {
   "cell_type": "code",
   "execution_count": 43,
   "metadata": {},
   "outputs": [
    {
     "data": {
      "text/plain": [
       "array([ 2,  3,  4,  5,  6,  7,  8,  9, 10, 11, 12, 13])"
      ]
     },
     "execution_count": 43,
     "metadata": {},
     "output_type": "execute_result"
    }
   ],
   "source": [
    "a+2"
   ]
  },
  {
   "cell_type": "code",
   "execution_count": 44,
   "metadata": {},
   "outputs": [
    {
     "data": {
      "text/plain": [
       "array([  0,   1,   4,   9,  16,  25,  36,  49,  64,  81, 100, 121],\n",
       "      dtype=int32)"
      ]
     },
     "execution_count": 44,
     "metadata": {},
     "output_type": "execute_result"
    }
   ],
   "source": [
    "a**2"
   ]
  },
  {
   "cell_type": "code",
   "execution_count": 45,
   "metadata": {},
   "outputs": [
    {
     "data": {
      "text/plain": [
       "array([[  0,   1,   4,   9],\n",
       "       [ 16,  25,  36,  49],\n",
       "       [ 64,  81, 100, 121]], dtype=int32)"
      ]
     },
     "execution_count": 45,
     "metadata": {},
     "output_type": "execute_result"
    }
   ],
   "source": [
    "b**2"
   ]
  },
  {
   "cell_type": "code",
   "execution_count": null,
   "metadata": {},
   "outputs": [],
   "source": []
  },
  {
   "cell_type": "code",
   "execution_count": 46,
   "metadata": {},
   "outputs": [
    {
     "data": {
      "text/plain": [
       "array([False, False, False, False, False, False, False,  True,  True,\n",
       "        True,  True,  True])"
      ]
     },
     "execution_count": 46,
     "metadata": {},
     "output_type": "execute_result"
    }
   ],
   "source": [
    "a>6"
   ]
  },
  {
   "cell_type": "code",
   "execution_count": 48,
   "metadata": {},
   "outputs": [],
   "source": [
    "a=np.arange(12)\n",
    "b=np.arange(12)"
   ]
  },
  {
   "cell_type": "code",
   "execution_count": 49,
   "metadata": {},
   "outputs": [
    {
     "data": {
      "text/plain": [
       "array([  0,   1,   4,   9,  16,  25,  36,  49,  64,  81, 100, 121])"
      ]
     },
     "execution_count": 49,
     "metadata": {},
     "output_type": "execute_result"
    }
   ],
   "source": [
    "a*b"
   ]
  },
  {
   "cell_type": "code",
   "execution_count": 50,
   "metadata": {},
   "outputs": [
    {
     "data": {
      "text/plain": [
       "array([[  0,   1,   4,   9],\n",
       "       [ 16,  25,  36,  49],\n",
       "       [ 64,  81, 100, 121]])"
      ]
     },
     "execution_count": 50,
     "metadata": {},
     "output_type": "execute_result"
    }
   ],
   "source": [
    "a.reshape(3,4)*b.reshape(3,4)"
   ]
  },
  {
   "cell_type": "code",
   "execution_count": 51,
   "metadata": {},
   "outputs": [
    {
     "data": {
      "text/plain": [
       "506"
      ]
     },
     "execution_count": 51,
     "metadata": {},
     "output_type": "execute_result"
    }
   ],
   "source": [
    "a.dot(b)"
   ]
  },
  {
   "cell_type": "code",
   "execution_count": 54,
   "metadata": {},
   "outputs": [
    {
     "data": {
      "text/plain": [
       "(12,)"
      ]
     },
     "execution_count": 54,
     "metadata": {},
     "output_type": "execute_result"
    }
   ],
   "source": [
    "a.shape"
   ]
  },
  {
   "cell_type": "code",
   "execution_count": 55,
   "metadata": {},
   "outputs": [
    {
     "data": {
      "text/plain": [
       "array([[ 0,  1,  2,  3,  4,  5,  6,  7,  8,  9, 10, 11]])"
      ]
     },
     "execution_count": 55,
     "metadata": {},
     "output_type": "execute_result"
    }
   ],
   "source": [
    "a.reshape(1,12)"
   ]
  },
  {
   "cell_type": "code",
   "execution_count": 56,
   "metadata": {},
   "outputs": [],
   "source": [
    "A=a.reshape(1,12)"
   ]
  },
  {
   "cell_type": "code",
   "execution_count": 58,
   "metadata": {},
   "outputs": [
    {
     "data": {
      "text/plain": [
       "array([ 0,  1,  2,  3,  4,  5,  6,  7,  8,  9, 10, 11])"
      ]
     },
     "execution_count": 58,
     "metadata": {},
     "output_type": "execute_result"
    }
   ],
   "source": [
    "a"
   ]
  },
  {
   "cell_type": "code",
   "execution_count": 59,
   "metadata": {},
   "outputs": [
    {
     "data": {
      "text/plain": [
       "array([[ 0,  1,  2,  3,  4,  5,  6,  7,  8,  9, 10, 11]])"
      ]
     },
     "execution_count": 59,
     "metadata": {},
     "output_type": "execute_result"
    }
   ],
   "source": [
    "A\n"
   ]
  },
  {
   "cell_type": "code",
   "execution_count": 61,
   "metadata": {},
   "outputs": [
    {
     "data": {
      "text/plain": [
       "array([[ 0,  1,  2,  3,  4,  5,  6,  7,  8,  9, 10, 11]])"
      ]
     },
     "execution_count": 61,
     "metadata": {},
     "output_type": "execute_result"
    }
   ],
   "source": [
    "B=b.reshape(1,12)\n",
    "B"
   ]
  },
  {
   "cell_type": "code",
   "execution_count": 63,
   "metadata": {},
   "outputs": [
    {
     "data": {
      "text/plain": [
       "array([[ 0],\n",
       "       [ 1],\n",
       "       [ 2],\n",
       "       [ 3],\n",
       "       [ 4],\n",
       "       [ 5],\n",
       "       [ 6],\n",
       "       [ 7],\n",
       "       [ 8],\n",
       "       [ 9],\n",
       "       [10],\n",
       "       [11]])"
      ]
     },
     "execution_count": 63,
     "metadata": {},
     "output_type": "execute_result"
    }
   ],
   "source": [
    "B.T"
   ]
  },
  {
   "cell_type": "code",
   "execution_count": 66,
   "metadata": {},
   "outputs": [
    {
     "data": {
      "text/plain": [
       "array([[506]])"
      ]
     },
     "execution_count": 66,
     "metadata": {},
     "output_type": "execute_result"
    }
   ],
   "source": [
    "A.dot(B.T)"
   ]
  },
  {
   "cell_type": "code",
   "execution_count": 67,
   "metadata": {},
   "outputs": [
    {
     "data": {
      "text/plain": [
       "array([[  0,   0,   0,   0,   0,   0,   0,   0,   0,   0,   0,   0],\n",
       "       [  0,   1,   2,   3,   4,   5,   6,   7,   8,   9,  10,  11],\n",
       "       [  0,   2,   4,   6,   8,  10,  12,  14,  16,  18,  20,  22],\n",
       "       [  0,   3,   6,   9,  12,  15,  18,  21,  24,  27,  30,  33],\n",
       "       [  0,   4,   8,  12,  16,  20,  24,  28,  32,  36,  40,  44],\n",
       "       [  0,   5,  10,  15,  20,  25,  30,  35,  40,  45,  50,  55],\n",
       "       [  0,   6,  12,  18,  24,  30,  36,  42,  48,  54,  60,  66],\n",
       "       [  0,   7,  14,  21,  28,  35,  42,  49,  56,  63,  70,  77],\n",
       "       [  0,   8,  16,  24,  32,  40,  48,  56,  64,  72,  80,  88],\n",
       "       [  0,   9,  18,  27,  36,  45,  54,  63,  72,  81,  90,  99],\n",
       "       [  0,  10,  20,  30,  40,  50,  60,  70,  80,  90, 100, 110],\n",
       "       [  0,  11,  22,  33,  44,  55,  66,  77,  88,  99, 110, 121]])"
      ]
     },
     "execution_count": 67,
     "metadata": {},
     "output_type": "execute_result"
    }
   ],
   "source": [
    "B.T.dot(A)"
   ]
  },
  {
   "cell_type": "markdown",
   "metadata": {},
   "source": [
    "# Masking"
   ]
  },
  {
   "cell_type": "code",
   "execution_count": 68,
   "metadata": {},
   "outputs": [],
   "source": [
    "a=np.arange(30)"
   ]
  },
  {
   "cell_type": "code",
   "execution_count": 69,
   "metadata": {},
   "outputs": [
    {
     "data": {
      "text/plain": [
       "array([16, 17, 18, 19, 20, 21, 22, 23, 24, 25, 26, 27, 28, 29])"
      ]
     },
     "execution_count": 69,
     "metadata": {},
     "output_type": "execute_result"
    }
   ],
   "source": [
    "a[a>15]"
   ]
  },
  {
   "cell_type": "code",
   "execution_count": 70,
   "metadata": {},
   "outputs": [
    {
     "data": {
      "text/plain": [
       "array([[ 0,  1,  2,  3,  4,  5],\n",
       "       [ 6,  7,  8,  9, 10, 11],\n",
       "       [12, 13, 14, 15, 16, 17],\n",
       "       [18, 19, 20, 21, 22, 23],\n",
       "       [24, 25, 26, 27, 28, 29]])"
      ]
     },
     "execution_count": 70,
     "metadata": {},
     "output_type": "execute_result"
    }
   ],
   "source": [
    "a=np.arange(30).reshape(5,6)\n",
    "a"
   ]
  },
  {
   "cell_type": "code",
   "execution_count": 72,
   "metadata": {},
   "outputs": [
    {
     "data": {
      "text/plain": [
       "array([[16, 17],\n",
       "       [18, 19],\n",
       "       [20, 21],\n",
       "       [22, 23],\n",
       "       [24, 25],\n",
       "       [26, 27],\n",
       "       [28, 29]])"
      ]
     },
     "execution_count": 72,
     "metadata": {},
     "output_type": "execute_result"
    }
   ],
   "source": [
    "a[a>15].reshape(7,2)"
   ]
  },
  {
   "cell_type": "code",
   "execution_count": 73,
   "metadata": {},
   "outputs": [
    {
     "data": {
      "text/plain": [
       "  C_CONTIGUOUS : True\n",
       "  F_CONTIGUOUS : True\n",
       "  OWNDATA : True\n",
       "  WRITEABLE : True\n",
       "  ALIGNED : True\n",
       "  WRITEBACKIFCOPY : False\n",
       "  UPDATEIFCOPY : False"
      ]
     },
     "execution_count": 73,
     "metadata": {},
     "output_type": "execute_result"
    }
   ],
   "source": [
    "a=np.arange(12)\n",
    "a.flags"
   ]
  },
  {
   "cell_type": "code",
   "execution_count": 75,
   "metadata": {},
   "outputs": [
    {
     "data": {
      "text/plain": [
       "  C_CONTIGUOUS : True\n",
       "  F_CONTIGUOUS : False\n",
       "  OWNDATA : False\n",
       "  WRITEABLE : True\n",
       "  ALIGNED : True\n",
       "  WRITEBACKIFCOPY : False\n",
       "  UPDATEIFCOPY : False"
      ]
     },
     "execution_count": 75,
     "metadata": {},
     "output_type": "execute_result"
    }
   ],
   "source": [
    "b=a.reshape(3,4)\n",
    "b.flags"
   ]
  },
  {
   "cell_type": "code",
   "execution_count": 80,
   "metadata": {},
   "outputs": [
    {
     "data": {
      "text/plain": [
       "  C_CONTIGUOUS : True\n",
       "  F_CONTIGUOUS : True\n",
       "  OWNDATA : False\n",
       "  WRITEABLE : True\n",
       "  ALIGNED : True\n",
       "  WRITEBACKIFCOPY : False\n",
       "  UPDATEIFCOPY : False"
      ]
     },
     "execution_count": 80,
     "metadata": {},
     "output_type": "execute_result"
    }
   ],
   "source": [
    "c=a[:5]\n",
    "c.flags"
   ]
  },
  {
   "cell_type": "code",
   "execution_count": 81,
   "metadata": {},
   "outputs": [],
   "source": [
    "a[0]=100"
   ]
  },
  {
   "cell_type": "code",
   "execution_count": 82,
   "metadata": {},
   "outputs": [
    {
     "data": {
      "text/plain": [
       "array([100,   1,   2,   3,   4,   5,   6,   7,   8,   9,  10,  11])"
      ]
     },
     "execution_count": 82,
     "metadata": {},
     "output_type": "execute_result"
    }
   ],
   "source": [
    "a"
   ]
  },
  {
   "cell_type": "code",
   "execution_count": 83,
   "metadata": {},
   "outputs": [
    {
     "data": {
      "text/plain": [
       "array([[100,   1,   2,   3],\n",
       "       [  4,   5,   6,   7],\n",
       "       [  8,   9,  10,  11]])"
      ]
     },
     "execution_count": 83,
     "metadata": {},
     "output_type": "execute_result"
    }
   ],
   "source": [
    "b"
   ]
  },
  {
   "cell_type": "code",
   "execution_count": 84,
   "metadata": {},
   "outputs": [
    {
     "data": {
      "text/plain": [
       "array([100,   1,   2,   3,   4])"
      ]
     },
     "execution_count": 84,
     "metadata": {},
     "output_type": "execute_result"
    }
   ],
   "source": [
    "c"
   ]
  },
  {
   "cell_type": "code",
   "execution_count": 85,
   "metadata": {},
   "outputs": [],
   "source": [
    "#a orignally makes the data and specifications of a is written in a header\n",
    "#if we create b by changing specificcations of a, only another header is formed without changing of orignal data\n",
    "#if there is any change in a made aftr, change in b is automatic"
   ]
  },
  {
   "cell_type": "code",
   "execution_count": 86,
   "metadata": {},
   "outputs": [
    {
     "data": {
      "text/plain": [
       "  C_CONTIGUOUS : True\n",
       "  F_CONTIGUOUS : True\n",
       "  OWNDATA : True\n",
       "  WRITEABLE : True\n",
       "  ALIGNED : True\n",
       "  WRITEBACKIFCOPY : False\n",
       "  UPDATEIFCOPY : False"
      ]
     },
     "execution_count": 86,
     "metadata": {},
     "output_type": "execute_result"
    }
   ],
   "source": [
    "a[a>15]\n",
    "a.flags"
   ]
  },
  {
   "cell_type": "code",
   "execution_count": 87,
   "metadata": {},
   "outputs": [],
   "source": [
    "#only in masking the new data is formed"
   ]
  },
  {
   "cell_type": "code",
   "execution_count": null,
   "metadata": {},
   "outputs": [],
   "source": []
  },
  {
   "cell_type": "code",
   "execution_count": null,
   "metadata": {},
   "outputs": [],
   "source": []
  },
  {
   "cell_type": "code",
   "execution_count": null,
   "metadata": {},
   "outputs": [],
   "source": []
  },
  {
   "cell_type": "code",
   "execution_count": 88,
   "metadata": {},
   "outputs": [
    {
     "data": {
      "text/plain": [
       "array([[ 0,  1,  2,  3],\n",
       "       [ 4,  5,  6,  7],\n",
       "       [ 8,  9, 10, 11]])"
      ]
     },
     "execution_count": 88,
     "metadata": {},
     "output_type": "execute_result"
    }
   ],
   "source": [
    "a=np.arange(12).reshape(3,4)\n",
    "a"
   ]
  },
  {
   "cell_type": "code",
   "execution_count": 90,
   "metadata": {},
   "outputs": [
    {
     "data": {
      "text/plain": [
       "array([ 0,  1,  2,  3,  4,  5,  6,  7,  8,  9, 10, 11])"
      ]
     },
     "execution_count": 90,
     "metadata": {},
     "output_type": "execute_result"
    }
   ],
   "source": [
    "a.reshape(12,)"
   ]
  },
  {
   "cell_type": "code",
   "execution_count": 91,
   "metadata": {},
   "outputs": [
    {
     "data": {
      "text/plain": [
       "array([ 0,  1,  2,  3,  4,  5,  6,  7,  8,  9, 10, 11])"
      ]
     },
     "execution_count": 91,
     "metadata": {},
     "output_type": "execute_result"
    }
   ],
   "source": [
    "a.flatten()"
   ]
  },
  {
   "cell_type": "code",
   "execution_count": 92,
   "metadata": {},
   "outputs": [
    {
     "data": {
      "text/plain": [
       "array([[ 0,  1,  2,  3],\n",
       "       [ 4,  5,  6,  7],\n",
       "       [ 8,  9, 10, 11]])"
      ]
     },
     "execution_count": 92,
     "metadata": {},
     "output_type": "execute_result"
    }
   ],
   "source": [
    "a"
   ]
  },
  {
   "cell_type": "code",
   "execution_count": 93,
   "metadata": {},
   "outputs": [
    {
     "data": {
      "text/plain": [
       "array([[ 0,  1],\n",
       "       [ 2,  3],\n",
       "       [ 4,  5],\n",
       "       [ 6,  7],\n",
       "       [ 8,  9],\n",
       "       [10, 11]])"
      ]
     },
     "execution_count": 93,
     "metadata": {},
     "output_type": "execute_result"
    }
   ],
   "source": [
    "a.reshape(6,-1)"
   ]
  },
  {
   "cell_type": "code",
   "execution_count": 94,
   "metadata": {},
   "outputs": [
    {
     "data": {
      "text/plain": [
       "array([ 0,  1,  2,  3,  4,  5,  6,  7,  8,  9, 10, 11])"
      ]
     },
     "execution_count": 94,
     "metadata": {},
     "output_type": "execute_result"
    }
   ],
   "source": [
    "a.reshape(-1)"
   ]
  },
  {
   "cell_type": "markdown",
   "metadata": {},
   "source": [
    "# Special Arrays"
   ]
  },
  {
   "cell_type": "code",
   "execution_count": 96,
   "metadata": {},
   "outputs": [
    {
     "data": {
      "text/plain": [
       "array([[0, 0, 0, 0],\n",
       "       [0, 0, 0, 0],\n",
       "       [0, 0, 0, 0]], dtype=int8)"
      ]
     },
     "execution_count": 96,
     "metadata": {},
     "output_type": "execute_result"
    }
   ],
   "source": [
    "a=np.zeros((3,4),dtype='int8')\n",
    "a"
   ]
  },
  {
   "cell_type": "code",
   "execution_count": 99,
   "metadata": {},
   "outputs": [
    {
     "data": {
      "text/plain": [
       "array([[5, 5, 5, 5],\n",
       "       [5, 5, 5, 5],\n",
       "       [5, 5, 5, 5]])"
      ]
     },
     "execution_count": 99,
     "metadata": {},
     "output_type": "execute_result"
    }
   ],
   "source": [
    "b=np.ones((3,4),dtype='int32')*5\n",
    "b"
   ]
  },
  {
   "cell_type": "code",
   "execution_count": 101,
   "metadata": {},
   "outputs": [
    {
     "data": {
      "text/plain": [
       "array([[ 4.67296746e-307,  1.69121096e-306,  1.37962320e-306,\n",
       "         1.69121231e-306,  7.56599807e-307],\n",
       "       [ 6.89813979e-307,  9.34603679e-307,  1.11256817e-306,\n",
       "         1.06811422e-306,  1.42417221e-306],\n",
       "       [ 1.11260619e-306,  8.90094053e-307,  1.86919378e-306,\n",
       "         1.06809792e-306,  1.37962456e-306],\n",
       "       [ 1.69111861e-306,  1.78020169e-306,  1.37961777e-306,\n",
       "         7.56599807e-307, -4.20583537e-294]])"
      ]
     },
     "execution_count": 101,
     "metadata": {},
     "output_type": "execute_result"
    }
   ],
   "source": [
    "np.empty((4,5))\n"
   ]
  },
  {
   "cell_type": "code",
   "execution_count": 102,
   "metadata": {},
   "outputs": [
    {
     "data": {
      "text/plain": [
       "array([[1., 0., 0.],\n",
       "       [0., 1., 0.],\n",
       "       [0., 0., 1.]])"
      ]
     },
     "execution_count": 102,
     "metadata": {},
     "output_type": "execute_result"
    }
   ],
   "source": [
    "np.identity(3)"
   ]
  },
  {
   "cell_type": "code",
   "execution_count": 103,
   "metadata": {},
   "outputs": [
    {
     "data": {
      "text/plain": [
       "array([[1., 0., 0., 0.],\n",
       "       [0., 1., 0., 0.],\n",
       "       [0., 0., 1., 0.]])"
      ]
     },
     "execution_count": 103,
     "metadata": {},
     "output_type": "execute_result"
    }
   ],
   "source": [
    "np.eye(3,4)"
   ]
  },
  {
   "cell_type": "code",
   "execution_count": 104,
   "metadata": {},
   "outputs": [
    {
     "data": {
      "text/plain": [
       "array([1.        , 1.66666667, 2.33333333, 3.        , 3.66666667,\n",
       "       4.33333333, 5.        ])"
      ]
     },
     "execution_count": 104,
     "metadata": {},
     "output_type": "execute_result"
    }
   ],
   "source": [
    "np.linspace(1,5,7)\n",
    "#creates 7 equal spaced no b/w 1 & 5"
   ]
  },
  {
   "cell_type": "code",
   "execution_count": null,
   "metadata": {},
   "outputs": [],
   "source": []
  },
  {
   "cell_type": "markdown",
   "metadata": {},
   "source": [
    "# Analysis"
   ]
  },
  {
   "cell_type": "code",
   "execution_count": 105,
   "metadata": {},
   "outputs": [
    {
     "data": {
      "text/plain": [
       "array([ 0,  1,  2,  3,  4,  5,  6,  7,  8,  9, 10, 11])"
      ]
     },
     "execution_count": 105,
     "metadata": {},
     "output_type": "execute_result"
    }
   ],
   "source": [
    "a=np.arange(12)\n",
    "a"
   ]
  },
  {
   "cell_type": "code",
   "execution_count": 106,
   "metadata": {},
   "outputs": [
    {
     "data": {
      "text/plain": [
       "array([[ 0,  1,  2,  3],\n",
       "       [ 4,  5,  6,  7],\n",
       "       [ 8,  9, 10, 11]])"
      ]
     },
     "execution_count": 106,
     "metadata": {},
     "output_type": "execute_result"
    }
   ],
   "source": [
    "b=a.reshape(3,4)\n",
    "b"
   ]
  },
  {
   "cell_type": "code",
   "execution_count": 108,
   "metadata": {},
   "outputs": [
    {
     "data": {
      "text/plain": [
       "11"
      ]
     },
     "execution_count": 108,
     "metadata": {},
     "output_type": "execute_result"
    }
   ],
   "source": [
    "a.max()"
   ]
  },
  {
   "cell_type": "code",
   "execution_count": 112,
   "metadata": {},
   "outputs": [
    {
     "data": {
      "text/plain": [
       "array([ 8,  9, 10, 11])"
      ]
     },
     "execution_count": 112,
     "metadata": {},
     "output_type": "execute_result"
    }
   ],
   "source": [
    "np.max(b,axis=0)"
   ]
  },
  {
   "cell_type": "code",
   "execution_count": 113,
   "metadata": {},
   "outputs": [
    {
     "data": {
      "text/plain": [
       "array([ 3,  7, 11])"
      ]
     },
     "execution_count": 113,
     "metadata": {},
     "output_type": "execute_result"
    }
   ],
   "source": [
    "np.max(b,axis=1)"
   ]
  },
  {
   "cell_type": "code",
   "execution_count": 117,
   "metadata": {},
   "outputs": [
    {
     "data": {
      "text/plain": [
       "array([12, 15, 18, 21])"
      ]
     },
     "execution_count": 117,
     "metadata": {},
     "output_type": "execute_result"
    }
   ],
   "source": [
    "np.sum(b,axis=0)"
   ]
  },
  {
   "cell_type": "code",
   "execution_count": 118,
   "metadata": {},
   "outputs": [
    {
     "data": {
      "text/plain": [
       "array([ 6, 22, 38])"
      ]
     },
     "execution_count": 118,
     "metadata": {},
     "output_type": "execute_result"
    }
   ],
   "source": [
    "np.sum(b,axis=1)"
   ]
  },
  {
   "cell_type": "code",
   "execution_count": 119,
   "metadata": {},
   "outputs": [
    {
     "data": {
      "text/plain": [
       "5.5"
      ]
     },
     "execution_count": 119,
     "metadata": {},
     "output_type": "execute_result"
    }
   ],
   "source": [
    "np.mean(b)"
   ]
  },
  {
   "cell_type": "code",
   "execution_count": 120,
   "metadata": {},
   "outputs": [
    {
     "data": {
      "text/plain": [
       "array([4., 5., 6., 7.])"
      ]
     },
     "execution_count": 120,
     "metadata": {},
     "output_type": "execute_result"
    }
   ],
   "source": [
    "np.mean(b,axis=0)"
   ]
  },
  {
   "cell_type": "code",
   "execution_count": 121,
   "metadata": {},
   "outputs": [
    {
     "data": {
      "text/plain": [
       "array([1.5, 5.5, 9.5])"
      ]
     },
     "execution_count": 121,
     "metadata": {},
     "output_type": "execute_result"
    }
   ],
   "source": [
    "np.mean(b,axis=1)"
   ]
  },
  {
   "cell_type": "code",
   "execution_count": 125,
   "metadata": {},
   "outputs": [
    {
     "data": {
      "text/plain": [
       "array([1.5, 5.5, 9.5])"
      ]
     },
     "execution_count": 125,
     "metadata": {},
     "output_type": "execute_result"
    }
   ],
   "source": [
    "np.median(b,axis=1)"
   ]
  },
  {
   "cell_type": "code",
   "execution_count": 126,
   "metadata": {},
   "outputs": [
    {
     "data": {
      "text/plain": [
       "3.452052529534663"
      ]
     },
     "execution_count": 126,
     "metadata": {},
     "output_type": "execute_result"
    }
   ],
   "source": [
    "np.std(b)"
   ]
  },
  {
   "cell_type": "code",
   "execution_count": 127,
   "metadata": {},
   "outputs": [
    {
     "data": {
      "text/plain": [
       "array([3.26598632, 3.26598632, 3.26598632, 3.26598632])"
      ]
     },
     "execution_count": 127,
     "metadata": {},
     "output_type": "execute_result"
    }
   ],
   "source": [
    "np.std(b,axis=0)"
   ]
  },
  {
   "cell_type": "code",
   "execution_count": 128,
   "metadata": {},
   "outputs": [
    {
     "data": {
      "text/plain": [
       "array([1.11803399, 1.11803399, 1.11803399])"
      ]
     },
     "execution_count": 128,
     "metadata": {},
     "output_type": "execute_result"
    }
   ],
   "source": [
    "np.std(b,axis=1)"
   ]
  },
  {
   "cell_type": "code",
   "execution_count": null,
   "metadata": {},
   "outputs": [],
   "source": []
  },
  {
   "cell_type": "code",
   "execution_count": null,
   "metadata": {},
   "outputs": [],
   "source": []
  },
  {
   "cell_type": "markdown",
   "metadata": {},
   "source": [
    "# Distributions &Randoms"
   ]
  },
  {
   "cell_type": "code",
   "execution_count": 135,
   "metadata": {},
   "outputs": [
    {
     "data": {
      "text/plain": [
       "array([[95.85640251, 95.84495647, 92.191972  ],\n",
       "       [95.55164837, 94.734263  , 92.67860771],\n",
       "       [93.99616036, 96.1587187 , 93.55041414],\n",
       "       [96.05273865, 91.53065394, 92.09074778]])"
      ]
     },
     "execution_count": 135,
     "metadata": {},
     "output_type": "execute_result"
    }
   ],
   "source": [
    "s=90+ np.random.rand(4,3) *10\n",
    "s"
   ]
  },
  {
   "cell_type": "code",
   "execution_count": 137,
   "metadata": {},
   "outputs": [
    {
     "data": {
      "text/plain": [
       "array([[95, 95, 92],\n",
       "       [95, 94, 92],\n",
       "       [93, 96, 93],\n",
       "       [96, 91, 92]], dtype=int8)"
      ]
     },
     "execution_count": 137,
     "metadata": {},
     "output_type": "execute_result"
    }
   ],
   "source": [
    "s.astype('int8')"
   ]
  },
  {
   "cell_type": "code",
   "execution_count": null,
   "metadata": {},
   "outputs": [],
   "source": []
  },
  {
   "cell_type": "code",
   "execution_count": null,
   "metadata": {},
   "outputs": [],
   "source": []
  },
  {
   "cell_type": "code",
   "execution_count": 138,
   "metadata": {},
   "outputs": [],
   "source": [
    "import time"
   ]
  },
  {
   "cell_type": "code",
   "execution_count": 142,
   "metadata": {},
   "outputs": [
    {
     "data": {
      "text/plain": [
       "1559721729.570575"
      ]
     },
     "execution_count": 142,
     "metadata": {},
     "output_type": "execute_result"
    }
   ],
   "source": [
    "ticks=time.time()\n",
    "ticks #Epoch time\n",
    "#it is the time from 1st january 1973\n",
    "#it is time zone independent\n",
    "#random numbers can be generated using epoch time--> the input time which enters into the random function is called Seed"
   ]
  },
  {
   "cell_type": "code",
   "execution_count": 150,
   "metadata": {},
   "outputs": [
    {
     "name": "stdout",
     "output_type": "stream",
     "text": [
      "[0.54340494]\n",
      "[0.27836939]\n",
      "[0.42451759]\n"
     ]
    }
   ],
   "source": [
    "np.random.seed(100)\n",
    "print(np.random.rand(1))\n",
    "print(np.random.rand(1))\n",
    "print(np.random.rand(1))"
   ]
  },
  {
   "cell_type": "code",
   "execution_count": 147,
   "metadata": {},
   "outputs": [
    {
     "data": {
      "text/plain": [
       "array([0.42451759])"
      ]
     },
     "execution_count": 147,
     "metadata": {},
     "output_type": "execute_result"
    }
   ],
   "source": [
    "np.random.rand(1)"
   ]
  },
  {
   "cell_type": "code",
   "execution_count": 151,
   "metadata": {},
   "outputs": [
    {
     "name": "stdout",
     "output_type": "stream",
     "text": [
      "[0.54340494]\n",
      "[0.27836939]\n",
      "[0.42451759]\n"
     ]
    }
   ],
   "source": [
    "np.random.seed(100)\n",
    "print(np.random.rand(1))\n",
    "print(np.random.rand(1))\n",
    "print(np.random.rand(1))"
   ]
  },
  {
   "cell_type": "code",
   "execution_count": 5,
   "metadata": {},
   "outputs": [
    {
     "data": {
      "text/plain": [
       "array([59, 52, 54, 55, 54])"
      ]
     },
     "execution_count": 5,
     "metadata": {},
     "output_type": "execute_result"
    }
   ],
   "source": [
    "np.random.randint(50,60,5)"
   ]
  },
  {
   "cell_type": "code",
   "execution_count": 160,
   "metadata": {},
   "outputs": [
    {
     "data": {
      "text/plain": [
       "array([135.50433995,  96.48162264,  99.9520874 ,  87.5131928 ,\n",
       "        73.44477766,  91.50393983, 114.76923602,  99.59651229,\n",
       "        66.17847507, 101.80183146, 104.16836846, 107.71745572,\n",
       "        80.77567381, 111.24553745, 106.06376823,  91.48376896,\n",
       "        82.95847994, 103.18933099,  83.79672458, 105.65211846,\n",
       "       109.97275017, 112.51566476, 104.11346599, 116.5002579 ,\n",
       "       100.57567627,  85.04107813, 104.66288088,  92.47865826,\n",
       "       111.82895318,  79.7377661 ,  99.54857654,  96.29601261,\n",
       "        95.26726068, 119.45513612,  94.29322164, 104.58798608,\n",
       "       114.93414689, 115.7010118 ,  85.55926371,  99.90935588,\n",
       "       134.75893312, 103.85561032,  74.07302251, 101.91923049,\n",
       "       103.61552382,  93.20225905,  91.71773357,  82.27480182,\n",
       "       105.87466201, 104.28117369,  87.75385346,  93.09239601,\n",
       "       105.75847882, 103.3274661 ,  90.78051533,  99.44635164,\n",
       "       102.30956958,  92.51919327, 110.68302492, 114.95863347,\n",
       "        94.16275441,  90.51434645, 124.81443395, 120.91330177,\n",
       "       129.18743053, 112.0255914 ,  88.72087128,  83.70682088,\n",
       "       108.43799648, 105.56052395,  65.77528455,  95.54742632,\n",
       "       104.32117452,  90.73217461, 101.80523841, 112.95268216,\n",
       "       115.55474071,  86.32286124, 109.5145828 ,  94.10410748,\n",
       "        83.99753812, 124.51591084, 104.64530915,  94.93796297,\n",
       "        75.43951717,  60.37051503, 121.43800128, 107.50727783,\n",
       "       111.42938038,  86.82144292, 121.7460492 , 112.65531592,\n",
       "        87.52626487, 108.13822503, 119.33681815,  85.17068122,\n",
       "        83.55456525,  86.13506729, 111.8994514 ,  97.35766838,\n",
       "       110.09459671,  81.6372933 , 110.3673065 ,  97.31407271,\n",
       "       142.73717226, 125.7904695 , 112.01272694,  90.31408975,\n",
       "       111.5083767 ,  68.65582068,  98.39734098,  91.46594824,\n",
       "        96.52782773,  93.71486841,  89.68853212,  81.04481405,\n",
       "        82.04769022,  87.72035561,  98.75202793, 120.76632527,\n",
       "        84.31899796,  96.76362256,  96.14015037,  81.93651581,\n",
       "       102.19072315, 104.01541784, 104.99125782,  71.74267373,\n",
       "       118.14506145, 109.7751675 , 104.94684327,  88.50363375,\n",
       "       100.51397664, 119.51067065,  90.60276642,  62.37432168,\n",
       "        97.52694247, 105.19776157, 118.57878759, 122.3423444 ,\n",
       "       110.26479348, 104.33797014, 112.6940959 ,  81.13450544,\n",
       "        95.62142496, 111.11560876,  75.2297635 , 100.79653067,\n",
       "       121.07920707,  99.09095435,  76.33255209, 133.3894616 ,\n",
       "       117.6503466 ,  77.3953766 ,  93.75876975,  95.10779712,\n",
       "        65.46360281,  85.09314076,  91.46410576,  91.93687991,\n",
       "        84.60126836, 100.97409755,  86.35495268,  87.77745906,\n",
       "       127.17177625,  88.78064174, 104.78872454,  78.10285434,\n",
       "       109.98809718, 105.95243641, 100.46037167,  68.19496393,\n",
       "        74.99772541,  97.51737943, 128.54767439, 107.02095022,\n",
       "       114.34226753,  96.65310313,  91.55006882, 123.77906202,\n",
       "        85.26228899, 138.21771522, 112.39654067,  97.76394515,\n",
       "        86.50482268,  86.06092814,  88.85424026, 121.30852563,\n",
       "        77.20275132,  93.27242789,  86.0558526 ,  87.6184009 ,\n",
       "        86.31864096,  96.66041972,  97.9831846 ,  86.19064965,\n",
       "       106.22635707, 101.82000572,  94.35487803, 115.58531506,\n",
       "       105.0293195 ,  85.64490288, 125.06641962,  87.29449522,\n",
       "       111.71283111, 109.04894754, 113.92520967,  98.53617151,\n",
       "        74.93360749,  91.23775395,  88.16739834, 106.09746559,\n",
       "       108.07201269, 109.94784784, 102.98997658, 107.45897022,\n",
       "       107.10011726, 119.66520898, 102.07094149, 130.72089869,\n",
       "       113.75860954, 101.75455364,  89.73443528, 103.84616714,\n",
       "        79.15736571, 131.11596   , 107.35504395, 108.41797517,\n",
       "        85.81891443, 116.48776604,  95.90344796,  97.8389325 ,\n",
       "       123.70606306,  67.7738386 , 107.94363204,  92.65446914,\n",
       "       117.35223529, 124.91953366, 118.21140343,  93.76060121,\n",
       "       100.76891245, 100.97864818, 128.28978805, 100.69452383,\n",
       "        97.25417805,  81.40677666,  90.37033513, 107.08486937,\n",
       "        97.25011888,  87.79797634,  98.46086331,  79.99991561,\n",
       "       101.20711301,  97.20978107,  94.92337635,  80.0670892 ,\n",
       "       113.26376228,  92.13571845, 106.02972215,  95.81312387,\n",
       "       115.07006126,  97.03962321, 113.85182352,  96.40320247,\n",
       "        96.59799787, 122.91537977, 103.48692012,  99.69140478,\n",
       "       111.90274671, 107.44132207,  92.93130545,  74.74673502,\n",
       "       113.87416986,  86.85478997,  86.47042291,  97.21173479,\n",
       "        87.1383812 , 102.18336456, 108.4605568 , 104.43730015,\n",
       "        97.00478791,  63.77731576,  85.19199081,  97.7407461 ,\n",
       "       112.31892324, 103.38115972, 111.31689766,  79.08548716,\n",
       "        96.33513915,  84.96882881, 104.4725475 , 105.45480281,\n",
       "       134.76410299,  84.72232323, 100.87204135, 106.38003684,\n",
       "        95.35375427,  98.11346154,  75.88615369, 100.26515558,\n",
       "        98.52765931,  84.68514775,  92.9454181 , 111.26339294,\n",
       "       108.22645974,  74.8183197 , 105.98766616, 101.3388571 ,\n",
       "       101.86502186, 113.25211275,  83.83625875,  98.21676405,\n",
       "        96.61208649, 102.60706615, 100.40389348,  75.26796845,\n",
       "        97.31414112, 114.23432211, 102.94877675,  87.89790019,\n",
       "       100.83897505,  69.19732529, 118.34713996,  84.32625843,\n",
       "        87.78098621,  88.90223073,  94.33944832,  94.16070085,\n",
       "       103.35511121, 107.00442773, 101.49650871,  95.80040839,\n",
       "       114.2243886 ,  93.66041949,  96.27882844,  85.11516216,\n",
       "       120.70007346,  88.3274424 ,  97.62474814, 119.97731316,\n",
       "       100.75327861, 102.29238437, 102.0483902 , 101.47083193,\n",
       "       106.41939493,  99.24915969, 112.31958605, 117.89572068,\n",
       "       112.6160115 , 119.86432505,  89.29064325,  59.66921688,\n",
       "        95.60757065,  90.38926766,  99.55855572, 101.42656183,\n",
       "        89.18825421, 101.50344281, 120.54902842, 118.59006424,\n",
       "       100.91633325,  97.83993699,  84.78719964,  92.53530507,\n",
       "        92.65193518, 100.15909747,  88.87942395,  96.826381  ,\n",
       "       125.69491402, 107.97874661, 101.7048669 , 122.8682671 ,\n",
       "        89.66036163, 113.78218236,  90.18204678, 114.57307105,\n",
       "       118.19427925, 127.28668717,  70.68732248, 111.375548  ,\n",
       "        87.59453645, 112.01460377, 129.35659867,  70.00162862,\n",
       "       115.56018639, 100.69722849,  74.11472435, 112.89593037,\n",
       "        91.58696224,  78.80008972, 107.83426675, 128.61673459,\n",
       "       116.0903775 , 106.43491425, 115.04213221, 125.21258699,\n",
       "        97.88426509,  84.56674658, 111.12800356, 104.41656947,\n",
       "       106.40105292,  99.68455737, 114.73840741, 104.27755705,\n",
       "       102.51191019, 122.91326847,  95.55673247,  94.71762168,\n",
       "        98.93059806,  86.47312553, 107.04987631, 101.9873108 ,\n",
       "       138.07011319,  89.23833481,  86.40321395,  90.64387024,\n",
       "        76.35014255, 108.00180341,  87.15653818,  96.65028048,\n",
       "       129.92475061, 116.64935874, 123.00572927, 108.19111364,\n",
       "       101.816176  ,  92.56554658,  97.92553023, 113.82262537,\n",
       "       107.47641291, 121.23074068, 113.6354707 ,  98.0278879 ,\n",
       "        71.63729979, 104.08029205,  91.26691222, 111.73614661,\n",
       "        99.68043326, 100.85558456, 113.69131277, 109.28688432,\n",
       "        96.96298248, 111.70336925,  84.15817922, 104.57422838,\n",
       "       114.46521374,  92.09658835, 121.47168718,  77.4647891 ,\n",
       "        84.64929534, 101.08646785,  85.21672153,  91.4003929 ,\n",
       "       101.33882025, 107.2081446 ,  96.15209141, 115.98287825,\n",
       "       110.56576133,  99.95115433, 107.24769367,  84.7150743 ,\n",
       "        98.11572647, 116.34665668, 104.5760408 ,  90.43165129,\n",
       "       129.33410647,  74.72512242,  93.55163675,  94.90937123,\n",
       "        82.36801538, 125.03842005,  97.81464276,  82.3875484 ,\n",
       "        87.96157011, 120.39548274,  95.52584064,  95.5387133 ,\n",
       "       129.03467985, 106.24737758, 115.01641532,  78.12279159,\n",
       "        92.87965462, 109.86242577, 101.44592539, 111.06127154,\n",
       "       100.08027777, 112.88552376,  98.37093641,  76.66402228,\n",
       "       106.16584645,  94.27688243, 122.30288483, 102.81901501,\n",
       "       109.7882607 ,  94.96764184,  75.06486094, 122.99608571,\n",
       "       109.95067442,  77.35388059,  99.44634053,  87.25314185,\n",
       "        89.8092193 , 107.47650045,  95.98562061,  88.71251245,\n",
       "       125.92900279,  63.37425564,  98.75339223, 103.88759892,\n",
       "       103.70574204, 101.33843732, 105.59390011,  92.681033  ,\n",
       "       100.88730076,  83.81332847, 106.2926305 ,  86.74539016,\n",
       "       113.54398799, 114.49012721, 106.3005613 , 119.78962739,\n",
       "        85.16898549,  97.05701209, 109.7802715 , 100.23959721,\n",
       "       100.4002998 ,  82.34407922,  94.10374473,  69.83592757,\n",
       "       107.41578989, 107.68793652, 109.48243093,  98.67866279,\n",
       "       112.98169178, 104.89707533, 115.63283322, 102.18823687,\n",
       "        91.39562013,  78.29433635, 115.25494943, 117.00509915,\n",
       "        98.65763984,  98.19283909, 125.41827605, 107.50798953,\n",
       "       109.67269978,  80.54248904,  99.11084455,  96.86350354,\n",
       "        97.785383  ,  82.40345142, 125.0849576 ,  90.42191838,\n",
       "       128.4599608 , 113.18059198,  88.90712357, 111.87151331,\n",
       "       105.40962742,  98.44374349, 102.13879077, 110.37423103,\n",
       "       100.2477138 , 108.40346575, 106.8943047 , 108.60223647,\n",
       "        88.23006235,  98.01555809,  91.04980753, 122.95244197,\n",
       "       107.04450027, 102.34414563,  89.04601066,  93.2503178 ,\n",
       "        97.11475409, 134.89730982,  75.62207175, 113.88926729,\n",
       "       121.91830205,  92.15468828, 113.92902585,  94.42835871,\n",
       "       115.68998794, 102.63624086, 107.69026286, 104.98642048,\n",
       "       141.24339355, 120.58331586,  91.62099881, 111.73223246,\n",
       "        97.81869089,  97.32367062,  85.40763518,  98.48569923,\n",
       "        96.39728721,  90.05464005,  79.91493438,  99.75329105,\n",
       "       111.53799705,  85.6245398 ,  94.17900331,  85.42680127,\n",
       "       100.93408794, 110.40244082,  76.31735167, 109.52091115,\n",
       "       128.5437541 ,  76.44757042,  79.36466104, 103.48771605,\n",
       "        85.11335939, 100.51075733,  91.02443617, 116.27844042,\n",
       "        84.66180651, 100.59330699,  93.11666409,  92.73480601,\n",
       "       112.72307007,  91.91946542, 112.63881606, 117.45015582,\n",
       "       136.59816678, 110.31010676,  82.47215333,  82.22795896,\n",
       "       102.66942735, 106.7253972 ,  72.76216324, 115.78992196,\n",
       "        75.5665318 ,  96.1578835 ,  87.7527712 ,  82.99302627,\n",
       "       127.62942542,  72.65734048,  90.40092084, 107.12374765,\n",
       "       117.15863437, 101.57542174,  90.84535236,  99.7736113 ,\n",
       "       117.57919645,  86.62644711,  79.88315235, 100.51975189,\n",
       "        63.57943011, 102.43372637, 109.20882362,  88.90910013,\n",
       "        97.36850937, 116.30315969, 101.46320494, 125.6124848 ,\n",
       "       108.88477054,  84.5920506 , 117.3356017 , 102.58365064,\n",
       "        90.07467886,  68.72602593, 133.99514531,  77.63681514,\n",
       "       108.42016675, 104.01826559,  83.03397814,  86.58039327,\n",
       "        95.28496963,  87.3720179 ,  91.79186057,  82.00636224,\n",
       "        80.7424658 ,  95.95577609, 107.80438072, 108.22802846,\n",
       "       109.00261939, 106.78615387,  99.35275394,  92.34463349,\n",
       "       115.5917965 ,  96.30504853, 109.81234125, 107.72320545,\n",
       "       116.28127804,  85.75612897, 108.51376727,  91.26958715,\n",
       "       132.91526133, 103.28884345, 104.08864751,  87.39053808,\n",
       "        87.9240537 , 110.68623717, 102.2959134 ,  89.27342606,\n",
       "       102.33431962, 101.21325425, 109.9732298 ,  81.70608456,\n",
       "        92.8586958 ,  95.14929817,  92.69522199, 101.89533469,\n",
       "       100.38202257, 125.72864459,  68.51118002, 104.6451212 ,\n",
       "       112.2602477 ,  98.54502319,  87.72492758, 110.62326117,\n",
       "        99.20916026, 111.10514312,  84.39064392, 108.52561454,\n",
       "        93.47047103, 102.21837964, 109.20885365,  86.17403716,\n",
       "        82.73106574, 104.24831167,  61.65936233,  88.33362893,\n",
       "        76.4945176 , 100.06187165, 109.72788098, 111.44602146,\n",
       "        95.24445095,  61.44502624,  95.43424831,  94.59023204,\n",
       "        95.41922879,  47.2888074 , 101.11462277,  90.37106714,\n",
       "       105.35650924, 104.6769134 ,  95.71633095,  98.20565719,\n",
       "        86.45795467, 103.94497464, 101.36930951,  85.98767942,\n",
       "        99.53556348,  98.2188718 , 126.15300405, 112.61409752,\n",
       "       119.18002554,  82.60793736,  93.32737593, 104.08855359,\n",
       "        81.31864091,  87.16461748,  85.25912151,  94.53332642,\n",
       "       101.14240531,  95.38164996,  97.22576657,  75.98976479,\n",
       "        64.12374591, 106.8004733 ,  98.90699508, 128.19943751,\n",
       "       117.24542676,  98.45853905, 108.33564877, 136.62915688,\n",
       "       105.20197802,  74.66251952,  78.29564418,  89.301043  ,\n",
       "       101.72021308, 106.98581758,  77.40620001, 105.44951005,\n",
       "        99.71890924, 136.93727912, 104.83689739, 105.80748074,\n",
       "       110.54161236,  90.80051757, 108.53062531,  88.09243434,\n",
       "       102.93641687, 100.6474789 ,  95.2945967 ,  91.16809757,\n",
       "        87.17165378,  68.90971471, 103.22976191, 110.60728197,\n",
       "       108.41552106,  97.97461758,  90.1599824 , 126.45452888,\n",
       "       105.83315713,  84.78102805,  95.80321717,  54.72783954,\n",
       "        85.04290493,  81.1133368 ,  87.79385571, 120.24124593,\n",
       "        95.64973806,  73.46644809, 107.10508531,  81.28054428,\n",
       "        88.39183085,  90.44903131,  97.2606121 ,  93.95438993,\n",
       "        90.12906946,  86.98443544,  83.96034424,  92.41601361,\n",
       "       117.75502386,  95.17447831,  88.91109726, 109.88174416,\n",
       "        94.58292607, 101.33063965, 114.52438213,  86.50770959,\n",
       "        99.37998566,  95.06183979,  89.17206574,  89.64750932,\n",
       "       118.08284562, 110.22186057,  97.16115543, 112.30425177,\n",
       "       118.89155923, 124.45805568, 112.85877741,  91.97137558,\n",
       "       104.86708047,  87.48971515, 119.31894464, 127.30543141,\n",
       "        93.42854587,  67.61751441, 122.40338474,  95.29447327,\n",
       "       103.70387403, 100.30558217, 102.38073403,  92.35339646,\n",
       "       116.41039778, 115.86238587,  86.85367067, 132.52615038,\n",
       "        89.64005822,  90.19357191,  93.42716382, 107.16621346,\n",
       "       117.99570591,  64.40782889,  93.9677048 ,  88.91248694,\n",
       "        97.82455673, 119.94476947,  85.76552211, 100.10317411,\n",
       "        87.5303493 ,  81.28839749, 122.73806444, 109.48547321,\n",
       "       105.14208008, 111.77041555,  90.92754799, 115.53163524,\n",
       "        90.43756055,  93.41174662, 106.28718264, 104.67992924,\n",
       "       119.77140696, 107.29227404, 104.51488111,  96.84210243,\n",
       "        77.69452064, 113.59565523, 126.26410401,  71.53562278,\n",
       "        91.33769961,  84.47519626,  98.88943269, 107.85345753,\n",
       "       123.4849577 , 138.01728874, 120.76070048,  72.58711878,\n",
       "        94.14439129,  93.14950251, 120.39069789,  94.73815577,\n",
       "       106.9347671 , 102.44778817,  94.27147556,  89.00806932,\n",
       "       115.27484551,  92.97122136, 108.70944948, 112.77226956,\n",
       "        83.17036334, 107.61297861, 135.62087795, 103.04645354,\n",
       "       105.90279227, 101.89103247,  87.12360321,  99.79704677,\n",
       "        86.6249764 ,  81.26739672,  97.24207698,  89.90793803,\n",
       "        96.7088343 , 102.26128455,  88.85167595, 111.18865987,\n",
       "       102.00438251, 101.36252498, 102.65835807,  84.5509348 ,\n",
       "        86.57639244, 120.25986511, 112.0073061 ,  88.48691108,\n",
       "        87.59403237,  91.39121771,  86.08722054,  92.3019752 ,\n",
       "        90.82792825, 114.42410395,  87.76453386,  83.34916173,\n",
       "       146.49104727,  85.19487222,  84.07788564, 103.68622341,\n",
       "        89.99023381, 106.81922946,  95.22341026,  81.91118441,\n",
       "       106.95597823,  77.95685484,  99.75328165, 111.44363726,\n",
       "        87.75452387, 119.98123325,  95.01141667,  82.99726347,\n",
       "        87.7839906 ,  98.46158012,  92.25079123,  88.76344034,\n",
       "       113.52665814, 101.50483899,  96.61454693,  98.56134914,\n",
       "       100.85848791,  76.11779443,  84.84638719, 107.69016041,\n",
       "       102.24879808,  87.89033391, 103.95387742, 108.95449599,\n",
       "       113.99158465, 143.73555438,  94.17356284,  73.25682237,\n",
       "       103.81886505,  99.3780656 , 108.95381877, 109.18999128,\n",
       "        71.80708038, 114.25376385,  78.50004989, 129.90609283,\n",
       "        88.08423241,  91.92504754,  96.97685525, 129.61144367,\n",
       "       101.94624036, 114.92414518,  80.82283541, 104.56014653,\n",
       "        86.9850817 , 101.91184363,  92.90240167,  97.38249896,\n",
       "       134.86412056, 121.75688861,  86.64928799, 124.97749345,\n",
       "       116.55479567,  99.75501165, 115.30085239,  81.14858644,\n",
       "        99.04158218,  87.53679267,  88.10177966,  71.12813667])"
      ]
     },
     "execution_count": 160,
     "metadata": {},
     "output_type": "execute_result"
    }
   ],
   "source": [
    "mu=100\n",
    "sigma=15\n",
    "s=np.random.normal(mu,sigma, 1000)\n",
    "s"
   ]
  },
  {
   "cell_type": "code",
   "execution_count": 161,
   "metadata": {},
   "outputs": [
    {
     "data": {
      "text/plain": [
       "741"
      ]
     },
     "execution_count": 161,
     "metadata": {},
     "output_type": "execute_result"
    }
   ],
   "source": [
    "len(s[s>90])"
   ]
  },
  {
   "cell_type": "code",
   "execution_count": 162,
   "metadata": {},
   "outputs": [
    {
     "data": {
      "text/plain": [
       "1000"
      ]
     },
     "execution_count": 162,
     "metadata": {},
     "output_type": "execute_result"
    }
   ],
   "source": [
    "len(s)"
   ]
  },
  {
   "cell_type": "code",
   "execution_count": 164,
   "metadata": {},
   "outputs": [
    {
     "data": {
      "text/plain": [
       "99.81396129164277"
      ]
     },
     "execution_count": 164,
     "metadata": {},
     "output_type": "execute_result"
    }
   ],
   "source": [
    "np.mean(s)"
   ]
  },
  {
   "cell_type": "code",
   "execution_count": 165,
   "metadata": {},
   "outputs": [
    {
     "data": {
      "text/plain": [
       "14.799245694711043"
      ]
     },
     "execution_count": 165,
     "metadata": {},
     "output_type": "execute_result"
    }
   ],
   "source": [
    "np.std(s)"
   ]
  },
  {
   "cell_type": "code",
   "execution_count": null,
   "metadata": {},
   "outputs": [],
   "source": []
  }
 ],
 "metadata": {
  "kernelspec": {
   "display_name": "Python 3",
   "language": "python",
   "name": "python3"
  },
  "language_info": {
   "codemirror_mode": {
    "name": "ipython",
    "version": 3
   },
   "file_extension": ".py",
   "mimetype": "text/x-python",
   "name": "python",
   "nbconvert_exporter": "python",
   "pygments_lexer": "ipython3",
   "version": "3.6.8"
  }
 },
 "nbformat": 4,
 "nbformat_minor": 2
}
