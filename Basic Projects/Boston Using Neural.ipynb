{
 "cells": [
  {
   "cell_type": "markdown",
   "metadata": {},
   "source": [
    "<h1>Boston Using Neural</h1>\n",
    "<h6>Saket Tiwari</h6>\n",
    "Date: 29 July 2019"
   ]
  },
  {
   "cell_type": "code",
   "execution_count": 1,
   "metadata": {
    "colab": {},
    "colab_type": "code",
    "id": "d9f76ouSuVFF"
   },
   "outputs": [],
   "source": [
    "import numpy as np\n",
    "import matplotlib.pyplot as plt\n",
    "%matplotlib inline"
   ]
  },
  {
   "cell_type": "code",
   "execution_count": 2,
   "metadata": {
    "colab": {},
    "colab_type": "code",
    "id": "lyIbul6furTC"
   },
   "outputs": [],
   "source": [
    "from sklearn.datasets import load_boston"
   ]
  },
  {
   "cell_type": "code",
   "execution_count": 3,
   "metadata": {
    "colab": {
     "base_uri": "https://localhost:8080/",
     "height": 34
    },
    "colab_type": "code",
    "id": "OSeLqG7puxTz",
    "outputId": "b39e6398-67cf-48bd-8cde-77068365a5c9"
   },
   "outputs": [
    {
     "data": {
      "text/plain": [
       "dict_keys(['data', 'target', 'feature_names', 'DESCR', 'filename'])"
      ]
     },
     "execution_count": 3,
     "metadata": {},
     "output_type": "execute_result"
    }
   ],
   "source": [
    "dataset=load_boston()\n",
    "dataset.keys()"
   ]
  },
  {
   "cell_type": "code",
   "execution_count": 4,
   "metadata": {
    "colab": {
     "base_uri": "https://localhost:8080/",
     "height": 34
    },
    "colab_type": "code",
    "id": "mp2SeAf5u3ef",
    "outputId": "a6b16935-797d-40a4-cdfa-3f735d25630c"
   },
   "outputs": [
    {
     "data": {
      "text/plain": [
       "(506, 13)"
      ]
     },
     "execution_count": 4,
     "metadata": {},
     "output_type": "execute_result"
    }
   ],
   "source": [
    "dataset['data'].shape"
   ]
  },
  {
   "cell_type": "code",
   "execution_count": 5,
   "metadata": {
    "colab": {
     "base_uri": "https://localhost:8080/",
     "height": 34
    },
    "colab_type": "code",
    "id": "CICgMZTju7Eq",
    "outputId": "2b6e21b1-11ab-46a0-d25d-9310f55d09c7"
   },
   "outputs": [
    {
     "data": {
      "text/plain": [
       "(506,)"
      ]
     },
     "execution_count": 5,
     "metadata": {},
     "output_type": "execute_result"
    }
   ],
   "source": [
    "dataset['target'].shape"
   ]
  },
  {
   "cell_type": "code",
   "execution_count": 6,
   "metadata": {
    "colab": {},
    "colab_type": "code",
    "id": "eMDsMy3IvGFf"
   },
   "outputs": [
    {
     "name": "stderr",
     "output_type": "stream",
     "text": [
      "Using TensorFlow backend.\n"
     ]
    }
   ],
   "source": [
    "import keras\n",
    "from keras.layers import Dense,Activation\n",
    "from keras.models import Sequential"
   ]
  },
  {
   "cell_type": "code",
   "execution_count": 7,
   "metadata": {
    "colab": {
     "base_uri": "https://localhost:8080/",
     "height": 106
    },
    "colab_type": "code",
    "id": "gz1OkENLviH0",
    "outputId": "dc2a1100-e04c-4c08-87e6-32e32135b0cb"
   },
   "outputs": [
    {
     "data": {
      "text/html": [
       "<div>\n",
       "<style scoped>\n",
       "    .dataframe tbody tr th:only-of-type {\n",
       "        vertical-align: middle;\n",
       "    }\n",
       "\n",
       "    .dataframe tbody tr th {\n",
       "        vertical-align: top;\n",
       "    }\n",
       "\n",
       "    .dataframe thead th {\n",
       "        text-align: right;\n",
       "    }\n",
       "</style>\n",
       "<table border=\"1\" class=\"dataframe\">\n",
       "  <thead>\n",
       "    <tr style=\"text-align: right;\">\n",
       "      <th></th>\n",
       "      <th>0</th>\n",
       "      <th>1</th>\n",
       "      <th>2</th>\n",
       "      <th>3</th>\n",
       "      <th>4</th>\n",
       "      <th>5</th>\n",
       "      <th>6</th>\n",
       "      <th>7</th>\n",
       "      <th>8</th>\n",
       "      <th>9</th>\n",
       "      <th>10</th>\n",
       "      <th>11</th>\n",
       "      <th>12</th>\n",
       "    </tr>\n",
       "  </thead>\n",
       "  <tbody>\n",
       "    <tr>\n",
       "      <th>0</th>\n",
       "      <td>0.00632</td>\n",
       "      <td>18.0</td>\n",
       "      <td>2.31</td>\n",
       "      <td>0.0</td>\n",
       "      <td>0.538</td>\n",
       "      <td>6.575</td>\n",
       "      <td>65.2</td>\n",
       "      <td>4.0900</td>\n",
       "      <td>1.0</td>\n",
       "      <td>296.0</td>\n",
       "      <td>15.3</td>\n",
       "      <td>396.9</td>\n",
       "      <td>4.98</td>\n",
       "    </tr>\n",
       "    <tr>\n",
       "      <th>1</th>\n",
       "      <td>0.02731</td>\n",
       "      <td>0.0</td>\n",
       "      <td>7.07</td>\n",
       "      <td>0.0</td>\n",
       "      <td>0.469</td>\n",
       "      <td>6.421</td>\n",
       "      <td>78.9</td>\n",
       "      <td>4.9671</td>\n",
       "      <td>2.0</td>\n",
       "      <td>242.0</td>\n",
       "      <td>17.8</td>\n",
       "      <td>396.9</td>\n",
       "      <td>9.14</td>\n",
       "    </tr>\n",
       "  </tbody>\n",
       "</table>\n",
       "</div>"
      ],
      "text/plain": [
       "        0     1     2    3      4      5     6       7    8      9     10  \\\n",
       "0  0.00632  18.0  2.31  0.0  0.538  6.575  65.2  4.0900  1.0  296.0  15.3   \n",
       "1  0.02731   0.0  7.07  0.0  0.469  6.421  78.9  4.9671  2.0  242.0  17.8   \n",
       "\n",
       "      11    12  \n",
       "0  396.9  4.98  \n",
       "1  396.9  9.14  "
      ]
     },
     "execution_count": 7,
     "metadata": {},
     "output_type": "execute_result"
    }
   ],
   "source": [
    "import pandas as pd\n",
    "df=pd.DataFrame(dataset['data'])\n",
    "df.head(2)"
   ]
  },
  {
   "cell_type": "code",
   "execution_count": 8,
   "metadata": {
    "colab": {},
    "colab_type": "code",
    "id": "E_UqsKp7vnOE"
   },
   "outputs": [
    {
     "name": "stdout",
     "output_type": "stream",
     "text": [
      "(379, 13) (127, 13)\n",
      "(379,) (127,)\n"
     ]
    }
   ],
   "source": [
    "from sklearn.model_selection import train_test_split\n",
    "X_train,X_test,y_train,y_test= train_test_split(dataset['data'], dataset['target'])\n",
    "print(X_train.shape,X_test.shape)\n",
    "print(y_train.shape,y_test.shape)"
   ]
  },
  {
   "cell_type": "code",
   "execution_count": 9,
   "metadata": {
    "colab": {
     "base_uri": "https://localhost:8080/",
     "height": 269
    },
    "colab_type": "code",
    "id": "_-ZjOWCZwOL3",
    "outputId": "0c241ea9-256b-4d51-b140-fc3707d45067"
   },
   "outputs": [
    {
     "name": "stderr",
     "output_type": "stream",
     "text": [
      "WARNING: Logging before flag parsing goes to stderr.\n",
      "W0629 16:36:08.596960 11416 deprecation_wrapper.py:119] From c:\\users\\professionally_saket\\appdata\\local\\programs\\python\\python36\\lib\\site-packages\\keras\\backend\\tensorflow_backend.py:74: The name tf.get_default_graph is deprecated. Please use tf.compat.v1.get_default_graph instead.\n",
      "\n",
      "W0629 16:36:08.627912 11416 deprecation_wrapper.py:119] From c:\\users\\professionally_saket\\appdata\\local\\programs\\python\\python36\\lib\\site-packages\\keras\\backend\\tensorflow_backend.py:517: The name tf.placeholder is deprecated. Please use tf.compat.v1.placeholder instead.\n",
      "\n",
      "W0629 16:36:08.634055 11416 deprecation_wrapper.py:119] From c:\\users\\professionally_saket\\appdata\\local\\programs\\python\\python36\\lib\\site-packages\\keras\\backend\\tensorflow_backend.py:4138: The name tf.random_uniform is deprecated. Please use tf.random.uniform instead.\n",
      "\n"
     ]
    },
    {
     "name": "stdout",
     "output_type": "stream",
     "text": [
      "_________________________________________________________________\n",
      "Layer (type)                 Output Shape              Param #   \n",
      "=================================================================\n",
      "dense_1 (Dense)              (None, 10000)             140000    \n",
      "_________________________________________________________________\n",
      "activation_1 (Activation)    (None, 10000)             0         \n",
      "_________________________________________________________________\n",
      "dense_2 (Dense)              (None, 1)                 10001     \n",
      "_________________________________________________________________\n",
      "activation_2 (Activation)    (None, 1)                 0         \n",
      "=================================================================\n",
      "Total params: 150,001\n",
      "Trainable params: 150,001\n",
      "Non-trainable params: 0\n",
      "_________________________________________________________________\n"
     ]
    }
   ],
   "source": [
    "model=Sequential()\n",
    "model.add(Dense(10000, input_shape=(13,)))\n",
    "model.add(Activation('linear'))\n",
    "\n",
    "model.add(Dense(1))\n",
    "model.add(Activation('linear'))\n",
    "model.summary()"
   ]
  },
  {
   "cell_type": "code",
   "execution_count": 11,
   "metadata": {
    "colab": {},
    "colab_type": "code",
    "id": "AmtiT9tBwrEi"
   },
   "outputs": [],
   "source": [
    "model.compile(optimizer='adam', loss='mean_squared_error', metrics=['mse'])"
   ]
  },
  {
   "cell_type": "code",
   "execution_count": 12,
   "metadata": {
    "colab": {
     "base_uri": "https://localhost:8080/",
     "height": 722
    },
    "colab_type": "code",
    "id": "BIWu0oxxwuvM",
    "outputId": "025458dc-f8b4-4fc2-8245-f0b1d2f71a9b"
   },
   "outputs": [
    {
     "name": "stderr",
     "output_type": "stream",
     "text": [
      "W0629 16:36:49.564922 11416 deprecation_wrapper.py:119] From c:\\users\\professionally_saket\\appdata\\local\\programs\\python\\python36\\lib\\site-packages\\keras\\backend\\tensorflow_backend.py:986: The name tf.assign_add is deprecated. Please use tf.compat.v1.assign_add instead.\n",
      "\n",
      "W0629 16:36:49.687777 11416 deprecation_wrapper.py:119] From c:\\users\\professionally_saket\\appdata\\local\\programs\\python\\python36\\lib\\site-packages\\keras\\backend\\tensorflow_backend.py:973: The name tf.assign is deprecated. Please use tf.compat.v1.assign instead.\n",
      "\n"
     ]
    },
    {
     "name": "stdout",
     "output_type": "stream",
     "text": [
      "Train on 379 samples, validate on 127 samples\n",
      "Epoch 1/20\n",
      " - 2s - loss: 941.5405 - mean_squared_error: 941.5405 - val_loss: 76.4345 - val_mean_squared_error: 76.4345\n",
      "Epoch 2/20\n",
      " - 1s - loss: 224.3774 - mean_squared_error: 224.3774 - val_loss: 81.3952 - val_mean_squared_error: 81.3952\n",
      "Epoch 3/20\n",
      " - 1s - loss: 112.2348 - mean_squared_error: 112.2348 - val_loss: 74.6180 - val_mean_squared_error: 74.6180\n",
      "Epoch 4/20\n",
      " - 1s - loss: 81.8822 - mean_squared_error: 81.8822 - val_loss: 70.4446 - val_mean_squared_error: 70.4446\n",
      "Epoch 5/20\n",
      " - 1s - loss: 75.6815 - mean_squared_error: 75.6815 - val_loss: 69.2117 - val_mean_squared_error: 69.2117\n",
      "Epoch 6/20\n",
      " - 1s - loss: 89.4743 - mean_squared_error: 89.4743 - val_loss: 61.6274 - val_mean_squared_error: 61.6274\n",
      "Epoch 7/20\n",
      " - 1s - loss: 75.8234 - mean_squared_error: 75.8234 - val_loss: 115.5485 - val_mean_squared_error: 115.5485\n",
      "Epoch 8/20\n",
      " - 1s - loss: 63.1442 - mean_squared_error: 63.1442 - val_loss: 78.1820 - val_mean_squared_error: 78.1820\n",
      "Epoch 9/20\n",
      " - 1s - loss: 70.3526 - mean_squared_error: 70.3526 - val_loss: 86.5449 - val_mean_squared_error: 86.5449\n",
      "Epoch 10/20\n",
      " - 1s - loss: 70.0078 - mean_squared_error: 70.0078 - val_loss: 141.5404 - val_mean_squared_error: 141.5404\n",
      "Epoch 11/20\n",
      " - 1s - loss: 65.5909 - mean_squared_error: 65.5909 - val_loss: 106.6235 - val_mean_squared_error: 106.6235\n",
      "Epoch 12/20\n",
      " - 1s - loss: 73.6084 - mean_squared_error: 73.6084 - val_loss: 185.0417 - val_mean_squared_error: 185.0417\n",
      "Epoch 13/20\n",
      " - 1s - loss: 81.8195 - mean_squared_error: 81.8195 - val_loss: 67.7608 - val_mean_squared_error: 67.7608\n",
      "Epoch 14/20\n",
      " - 1s - loss: 68.3696 - mean_squared_error: 68.3696 - val_loss: 77.1698 - val_mean_squared_error: 77.1698\n",
      "Epoch 15/20\n",
      " - 1s - loss: 80.8550 - mean_squared_error: 80.8550 - val_loss: 96.6663 - val_mean_squared_error: 96.6663\n",
      "Epoch 16/20\n",
      " - 1s - loss: 80.9166 - mean_squared_error: 80.9166 - val_loss: 356.6851 - val_mean_squared_error: 356.6851\n",
      "Epoch 17/20\n",
      " - 2s - loss: 192.8250 - mean_squared_error: 192.8250 - val_loss: 81.9978 - val_mean_squared_error: 81.9978\n",
      "Epoch 18/20\n",
      " - 1s - loss: 50.4615 - mean_squared_error: 50.4615 - val_loss: 123.7433 - val_mean_squared_error: 123.7433\n",
      "Epoch 19/20\n",
      " - 1s - loss: 54.5158 - mean_squared_error: 54.5158 - val_loss: 47.3312 - val_mean_squared_error: 47.3312\n",
      "Epoch 20/20\n",
      " - 1s - loss: 54.2097 - mean_squared_error: 54.2097 - val_loss: 84.9081 - val_mean_squared_error: 84.9081\n"
     ]
    },
    {
     "data": {
      "text/plain": [
       "<keras.callbacks.History at 0x22c6f83cdd8>"
      ]
     },
     "execution_count": 12,
     "metadata": {},
     "output_type": "execute_result"
    }
   ],
   "source": [
    "model.fit(X_train,y_train,batch_size= 1 ,epochs=20, verbose=2, validation_data = (X_test,y_test))"
   ]
  },
  {
   "cell_type": "code",
   "execution_count": null,
   "metadata": {
    "colab": {},
    "colab_type": "code",
    "id": "KnZnTzcxyCpe"
   },
   "outputs": [],
   "source": []
  }
 ],
 "metadata": {
  "colab": {
   "name": "Untitled4.ipynb",
   "provenance": [],
   "version": "0.3.2"
  },
  "kernelspec": {
   "display_name": "Python 3",
   "language": "python",
   "name": "python3"
  },
  "language_info": {
   "codemirror_mode": {
    "name": "ipython",
    "version": 3
   },
   "file_extension": ".py",
   "mimetype": "text/x-python",
   "name": "python",
   "nbconvert_exporter": "python",
   "pygments_lexer": "ipython3",
   "version": "3.6.8"
  }
 },
 "nbformat": 4,
 "nbformat_minor": 1
}
