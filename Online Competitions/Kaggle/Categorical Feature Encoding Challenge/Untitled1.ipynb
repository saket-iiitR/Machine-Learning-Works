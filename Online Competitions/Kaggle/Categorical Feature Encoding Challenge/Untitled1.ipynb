{
 "cells": [
  {
   "cell_type": "code",
   "execution_count": null,
   "metadata": {},
   "outputs": [],
   "source": [
    "%%time\n",
    "\n",
    "import pandas as pd\n",
    "import numpy as np\n",
    "\n",
    "# Load data\n",
    "train = pd.read_csv('../input/cat-in-the-dat/train.csv')\n",
    "test = pd.read_csv('../input/cat-in-the-dat/test.csv')\n",
    "\n",
    "print(train.shape)\n",
    "print(test.shape)"
   ]
  },
  {
   "cell_type": "code",
   "execution_count": 1,
   "metadata": {},
   "outputs": [
    {
     "ename": "NameError",
     "evalue": "name 'test' is not defined",
     "output_type": "error",
     "traceback": [
      "\u001b[1;31m---------------------------------------------------------------------------\u001b[0m",
      "\u001b[1;31mNameError\u001b[0m                                 Traceback (most recent call last)",
      "\u001b[1;32m<timed exec>\u001b[0m in \u001b[0;36m<module>\u001b[1;34m\u001b[0m\n",
      "\u001b[1;31mNameError\u001b[0m: name 'test' is not defined"
     ]
    }
   ],
   "source": [
    "%%time\n",
    "\n",
    "# Subset\n",
    "test_id = test['id']\n",
    "test.drop('id', axis=1, inplace=True)\n",
    "\n",
    "print(train.shape)\n",
    "print(test.shape)"
   ]
  },
  {
   "cell_type": "code",
   "execution_count": null,
   "metadata": {},
   "outputs": [],
   "source": [
    "%%time\n",
    "\n",
    "# One Hot Encode\n",
    "traintest = pd.concat([train, test])\n",
    "dummies = pd.get_dummies(traintest, columns=traintest.columns, drop_first=True, sparse=True)\n",
    "train_ohe = dummies.iloc[:train.shape[0], :]\n",
    "test_ohe = dummies.iloc[train.shape[0]:, :]\n",
    "\n",
    "print(train_ohe.shape)\n",
    "print(test_ohe.shape)"
   ]
  },
  {
   "cell_type": "code",
   "execution_count": null,
   "metadata": {},
   "outputs": [],
   "source": [
    "%%time\n",
    "\n",
    "# To be honest, I am a bit confused what is going on with the new sparse dataframe interface in Pandas v0.25\n",
    "\n",
    "# It looks like `sparse = True` in `get_dummies` no longer makes anything sparse, and we have to explicitly convert\n",
    "# like this...\n",
    "\n",
    "# If you don't do this, the model takes forever... it is much much faster on sparse data!\n",
    "\n",
    "train_ohe = train_ohe.sparse.to_coo().tocsr()\n",
    "test_ohe = test_ohe.sparse.to_coo().tocsr()"
   ]
  },
  {
   "cell_type": "code",
   "execution_count": null,
   "metadata": {},
   "outputs": [],
   "source": [
    "%%time\n",
    "\n",
    "from sklearn.model_selection import KFold\n",
    "from sklearn.metrics import roc_auc_score as auc\n",
    "from sklearn.linear_model import LogisticRegression\n",
    "\n",
    "# Model\n",
    "def run_cv_model(train, test, target, model_fn, params={}, eval_fn=None, label='model'):\n",
    "    kf = KFold(n_splits=5)\n",
    "    fold_splits = kf.split(train, target)\n",
    "    cv_scores = []\n",
    "    pred_full_test = 0\n",
    "    pred_train = np.zeros((train.shape[0]))\n",
    "    i = 1\n",
    "    for dev_index, val_index in fold_splits:\n",
    "        print('Started ' + label + ' fold ' + str(i) + '/5')\n",
    "        dev_X, val_X = train[dev_index], train[val_index]\n",
    "        dev_y, val_y = target[dev_index], target[val_index]\n",
    "        params2 = params.copy()\n",
    "        pred_val_y, pred_test_y = model_fn(dev_X, dev_y, val_X, val_y, test, params2)\n",
    "        pred_full_test = pred_full_test + pred_test_y\n",
    "        pred_train[val_index] = pred_val_y\n",
    "        if eval_fn is not None:\n",
    "            cv_score = eval_fn(val_y, pred_val_y)\n",
    "            cv_scores.append(cv_score)\n",
    "            print(label + ' cv score {}: {}'.format(i, cv_score))\n",
    "        i += 1\n",
    "    print('{} cv scores : {}'.format(label, cv_scores))\n",
    "    print('{} cv mean score : {}'.format(label, np.mean(cv_scores)))\n",
    "    print('{} cv std score : {}'.format(label, np.std(cv_scores)))\n",
    "    pred_full_test = pred_full_test / 5.0\n",
    "    results = {'label': label,\n",
    "              'train': pred_train, 'test': pred_full_test,\n",
    "              'cv': cv_scores}\n",
    "    return results\n",
    "\n",
    "\n",
    "def runLR(train_X, train_y, test_X, test_y, test_X2, params):\n",
    "    print('Train LR')\n",
    "    model = LogisticRegression(**params)\n",
    "    model.fit(train_X, train_y)\n",
    "    print('Predict 1/2')\n",
    "    pred_test_y = model.predict_proba(test_X)[:, 1]\n",
    "    print('Predict 2/2')\n",
    "    pred_test_y2 = model.predict_proba(test_X2)[:, 1]\n",
    "    return pred_test_y, pred_test_y2\n",
    "\n",
    "\n",
    "lr_params = {'solver': 'lbfgs', 'C': 0.1}\n",
    "results = run_cv_model(train_ohe, test_ohe, target, runLR, lr_params, auc, 'lr')"
   ]
  },
  {
   "cell_type": "code",
   "execution_count": null,
   "metadata": {},
   "outputs": [],
   "source": [
    "%%time\n",
    "\n",
    "# We now have a model with a CV score of 0.8032. Nice! Let's submit that\n",
    "\n",
    "# Make submission\n",
    "submission = pd.DataFrame({'id': test_id, 'target': results['test']})\n",
    "submission.to_csv('submission.csv', index=False)"
   ]
  },
  {
   "cell_type": "code",
   "execution_count": null,
   "metadata": {},
   "outputs": [],
   "source": []
  },
  {
   "cell_type": "code",
   "execution_count": null,
   "metadata": {},
   "outputs": [],
   "source": []
  },
  {
   "cell_type": "code",
   "execution_count": null,
   "metadata": {},
   "outputs": [],
   "source": []
  }
 ],
 "metadata": {
  "kernelspec": {
   "display_name": "Python 3",
   "language": "python",
   "name": "python3"
  },
  "language_info": {
   "codemirror_mode": {
    "name": "ipython",
    "version": 3
   },
   "file_extension": ".py",
   "mimetype": "text/x-python",
   "name": "python",
   "nbconvert_exporter": "python",
   "pygments_lexer": "ipython3",
   "version": "3.6.8"
  }
 },
 "nbformat": 4,
 "nbformat_minor": 2
}
