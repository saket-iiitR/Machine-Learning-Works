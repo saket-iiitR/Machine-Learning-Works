{
 "cells": [
  {
   "cell_type": "code",
   "execution_count": 1,
   "metadata": {},
   "outputs": [],
   "source": [
    "import numpy as np\n",
    "import pandas as pd"
   ]
  },
  {
   "cell_type": "code",
   "execution_count": 2,
   "metadata": {},
   "outputs": [],
   "source": [
    "train=pd.read_csv('train.csv')\n",
    "test=pd.read_csv('test.csv')"
   ]
  },
  {
   "cell_type": "code",
   "execution_count": 3,
   "metadata": {},
   "outputs": [],
   "source": [
    "item=pd.read_csv('item_data.csv')\n",
    "log=pd.read_csv('log_items.csv')"
   ]
  },
  {
   "cell_type": "code",
   "execution_count": 4,
   "metadata": {},
   "outputs": [],
   "source": [
    "y=train['is_click']\n",
    "train.drop('is_click',axis=1,inplace=True)"
   ]
  },
  {
   "cell_type": "code",
   "execution_count": 5,
   "metadata": {},
   "outputs": [],
   "source": [
    "df=pd.concat([train,test],axis=0,sort=False)"
   ]
  },
  {
   "cell_type": "code",
   "execution_count": 6,
   "metadata": {},
   "outputs": [],
   "source": [
    "df.columns=['impression_id', 'server_time', 'user_id', 'app_code', 'os_version',\n",
    "       'is_4G']"
   ]
  },
  {
   "cell_type": "code",
   "execution_count": 7,
   "metadata": {},
   "outputs": [],
   "source": [
    "log.drop('Unnamed: 0',axis=1,inplace=True)"
   ]
  },
  {
   "cell_type": "code",
   "execution_count": 8,
   "metadata": {},
   "outputs": [],
   "source": [
    "server_time=np.array(log['server_time'])\n",
    "for i in range(server_time.shape[0]):\n",
    "    time=int(server_time[i][9:11])\n",
    "    server_time[i]=time\n",
    "log['server_time']=pd.Series(server_time)"
   ]
  },
  {
   "cell_type": "code",
   "execution_count": 9,
   "metadata": {},
   "outputs": [],
   "source": [
    "conditions=[\n",
    "    ((log['server_time']) >=0) & ((log['server_time']) <6),\n",
    "    ((log['server_time']) >=6) & ((log['server_time']) <9),\n",
    "    ((log['server_time']) >=9) & ((log['server_time']) <12),\n",
    "    ((log['server_time']) >=12) & ((log['server_time']) <16),\n",
    "    ((log['server_time']) >=16) & ((log['server_time']) <20),\n",
    "    ((log['server_time']) >=20) & ((log['server_time']) <24),\n",
    "]\n",
    "choices = ['midnight','early_morning','morning','afternoon','evening','night']\n",
    "log['time']=np.select(conditions,choices,default='night')\n",
    "log.drop('server_time',axis=1,inplace=True)"
   ]
  },
  {
   "cell_type": "code",
   "execution_count": 10,
   "metadata": {},
   "outputs": [
    {
     "data": {
      "text/html": [
       "<div>\n",
       "<style scoped>\n",
       "    .dataframe tbody tr th:only-of-type {\n",
       "        vertical-align: middle;\n",
       "    }\n",
       "\n",
       "    .dataframe tbody tr th {\n",
       "        vertical-align: top;\n",
       "    }\n",
       "\n",
       "    .dataframe thead th {\n",
       "        text-align: right;\n",
       "    }\n",
       "</style>\n",
       "<table border=\"1\" class=\"dataframe\">\n",
       "  <thead>\n",
       "    <tr style=\"text-align: right;\">\n",
       "      <th></th>\n",
       "      <th>impression_id</th>\n",
       "      <th>server_time</th>\n",
       "      <th>user_id</th>\n",
       "      <th>app_code</th>\n",
       "      <th>os_version</th>\n",
       "      <th>is_4G</th>\n",
       "    </tr>\n",
       "  </thead>\n",
       "  <tbody>\n",
       "    <tr>\n",
       "      <th>0</th>\n",
       "      <td>c4ca4238a0b923820dcc509a6f75849b</td>\n",
       "      <td>15-11-18 00:00</td>\n",
       "      <td>87862</td>\n",
       "      <td>422</td>\n",
       "      <td>old</td>\n",
       "      <td>0</td>\n",
       "    </tr>\n",
       "    <tr>\n",
       "      <th>1</th>\n",
       "      <td>45c48cce2e2d7fbdea1afc51c7c6ad26</td>\n",
       "      <td>15-11-18 00:01</td>\n",
       "      <td>63410</td>\n",
       "      <td>467</td>\n",
       "      <td>latest</td>\n",
       "      <td>1</td>\n",
       "    </tr>\n",
       "  </tbody>\n",
       "</table>\n",
       "</div>"
      ],
      "text/plain": [
       "                      impression_id     server_time  user_id  app_code  \\\n",
       "0  c4ca4238a0b923820dcc509a6f75849b  15-11-18 00:00    87862       422   \n",
       "1  45c48cce2e2d7fbdea1afc51c7c6ad26  15-11-18 00:01    63410       467   \n",
       "\n",
       "  os_version  is_4G  \n",
       "0        old      0  \n",
       "1     latest      1  "
      ]
     },
     "execution_count": 10,
     "metadata": {},
     "output_type": "execute_result"
    }
   ],
   "source": [
    "df.head(2)"
   ]
  },
  {
   "cell_type": "code",
   "execution_count": 11,
   "metadata": {},
   "outputs": [],
   "source": [
    "server_time=np.array(df['server_time'])\n",
    "for i in range(server_time.shape[0]):\n",
    "    time=int(server_time[i][9:11])\n",
    "    server_time[i]=time\n",
    "df['server_time']=pd.Series(server_time)\n",
    "conditions=[\n",
    "    ((df['server_time']) >=0) & ((df['server_time']) <6),\n",
    "    ((df['server_time']) >=6) & ((df['server_time']) <9),\n",
    "    ((df['server_time']) >=9) & ((df['server_time']) <12),\n",
    "    ((df['server_time']) >=12) & ((df['server_time']) <16),\n",
    "    ((df['server_time']) >=16) & ((df['server_time']) <20),\n",
    "    ((df['server_time']) >=20) & ((df['server_time']) <24),\n",
    "]\n",
    "choices = ['midnight','early_morning','morning','afternoon','evening','night']\n",
    "df['time']=np.select(conditions,choices,default='night')\n",
    "df.drop('server_time',axis=1,inplace=True)"
   ]
  },
  {
   "cell_type": "code",
   "execution_count": 12,
   "metadata": {},
   "outputs": [
    {
     "name": "stdout",
     "output_type": "stream",
     "text": [
      "Wall time: 1.61 s\n"
     ]
    }
   ],
   "source": [
    "%%time\n",
    "string='item_id'\n",
    "df[string]=df[['user_id','time']].merge(log,how='left').item_id\n",
    "df[string].fillna(-1, inplace=True)\n",
    "\n",
    "l=np.array([425.0,76404.0,79527.0 ,68968.0 ,64835.0,119516.0,27574.0,3500.0,84704.0,30152.0,49461.0,127900.0,11871.0,30048.0,113905.0,72120.0,76156.0,61487.0,58320.0,88587.0,126140.0,54546.0,72955.0,33633.0,38922.0,73972.0,85108.0,1528.0,8365.0])\n",
    "\n",
    "\n",
    "item_id=np.array(df['item_id'])\n",
    "con=item_id[0]\n",
    "k=0\n",
    "for i in range(item_id.shape[0]):\n",
    "    if item_id[i]==con:\n",
    "        item_id[i]=l[k%l.shape[0]]\n",
    "        k+=1\n",
    "df['item_id']=pd.Series(item_id)"
   ]
  },
  {
   "cell_type": "code",
   "execution_count": 13,
   "metadata": {},
   "outputs": [
    {
     "name": "stdout",
     "output_type": "stream",
     "text": [
      "Wall time: 1.25 s\n"
     ]
    }
   ],
   "source": [
    "%%time\n",
    "string='device_type'\n",
    "df[string]=df[['user_id','time']].merge(log,how='left').device_type\n",
    "df[string].fillna(df[string].mode()[0], inplace=True)"
   ]
  },
  {
   "cell_type": "code",
   "execution_count": 14,
   "metadata": {},
   "outputs": [
    {
     "name": "stdout",
     "output_type": "stream",
     "text": [
      "Wall time: 1.51 s\n"
     ]
    }
   ],
   "source": [
    "%%time\n",
    "string='session_id'\n",
    "df[string]=df[['user_id','time']].merge(log,how='left').session_id\n",
    "df[string].fillna(-1, inplace=True)\n",
    "l=np.array([886941.0,832824.0,676414.0,632525.0,1047176.0,600140.0,218759.0,268638.0,115450.0,941339.0,146111.0,609165.0,30559.0,749940.0,548210.0,458847.0,628148.0,373409.0,971160.0,144182.0,484416.0,375924.0,507005.0,606519.0,325829.0,947011.0,96485.0 ,842147.0,7883.0,850779.0])\n",
    "\n",
    "\n",
    "item_id=np.array(df['session_id'])\n",
    "con=item_id[0]\n",
    "k=0\n",
    "for i in range(item_id.shape[0]):\n",
    "    if item_id[i]==con:\n",
    "        item_id[i]=l[k%l.shape[0]]\n",
    "        k+=1\n",
    "df['session_id']=pd.Series(item_id)"
   ]
  },
  {
   "cell_type": "code",
   "execution_count": 15,
   "metadata": {},
   "outputs": [
    {
     "data": {
      "text/html": [
       "<div>\n",
       "<style scoped>\n",
       "    .dataframe tbody tr th:only-of-type {\n",
       "        vertical-align: middle;\n",
       "    }\n",
       "\n",
       "    .dataframe tbody tr th {\n",
       "        vertical-align: top;\n",
       "    }\n",
       "\n",
       "    .dataframe thead th {\n",
       "        text-align: right;\n",
       "    }\n",
       "</style>\n",
       "<table border=\"1\" class=\"dataframe\">\n",
       "  <thead>\n",
       "    <tr style=\"text-align: right;\">\n",
       "      <th></th>\n",
       "      <th>impression_id</th>\n",
       "      <th>user_id</th>\n",
       "      <th>app_code</th>\n",
       "      <th>os_version</th>\n",
       "      <th>is_4G</th>\n",
       "      <th>time</th>\n",
       "      <th>item_id</th>\n",
       "      <th>device_type</th>\n",
       "      <th>session_id</th>\n",
       "    </tr>\n",
       "  </thead>\n",
       "  <tbody>\n",
       "    <tr>\n",
       "      <th>0</th>\n",
       "      <td>c4ca4238a0b923820dcc509a6f75849b</td>\n",
       "      <td>87862</td>\n",
       "      <td>422</td>\n",
       "      <td>old</td>\n",
       "      <td>0</td>\n",
       "      <td>midnight</td>\n",
       "      <td>425.0</td>\n",
       "      <td>android</td>\n",
       "      <td>886941.0</td>\n",
       "    </tr>\n",
       "    <tr>\n",
       "      <th>1</th>\n",
       "      <td>45c48cce2e2d7fbdea1afc51c7c6ad26</td>\n",
       "      <td>63410</td>\n",
       "      <td>467</td>\n",
       "      <td>latest</td>\n",
       "      <td>1</td>\n",
       "      <td>midnight</td>\n",
       "      <td>43209.0</td>\n",
       "      <td>android</td>\n",
       "      <td>343558.0</td>\n",
       "    </tr>\n",
       "    <tr>\n",
       "      <th>2</th>\n",
       "      <td>70efdf2ec9b086079795c442636b55fb</td>\n",
       "      <td>71748</td>\n",
       "      <td>259</td>\n",
       "      <td>intermediate</td>\n",
       "      <td>1</td>\n",
       "      <td>midnight</td>\n",
       "      <td>43209.0</td>\n",
       "      <td>android</td>\n",
       "      <td>343558.0</td>\n",
       "    </tr>\n",
       "    <tr>\n",
       "      <th>3</th>\n",
       "      <td>8e296a067a37563370ded05f5a3bf3ec</td>\n",
       "      <td>69209</td>\n",
       "      <td>244</td>\n",
       "      <td>latest</td>\n",
       "      <td>1</td>\n",
       "      <td>midnight</td>\n",
       "      <td>76404.0</td>\n",
       "      <td>android</td>\n",
       "      <td>832824.0</td>\n",
       "    </tr>\n",
       "    <tr>\n",
       "      <th>4</th>\n",
       "      <td>182be0c5cdcd5072bb1864cdee4d3d6e</td>\n",
       "      <td>62873</td>\n",
       "      <td>473</td>\n",
       "      <td>latest</td>\n",
       "      <td>0</td>\n",
       "      <td>midnight</td>\n",
       "      <td>79527.0</td>\n",
       "      <td>android</td>\n",
       "      <td>676414.0</td>\n",
       "    </tr>\n",
       "    <tr>\n",
       "      <th>5</th>\n",
       "      <td>3416a75f4cea9109507cacd8e2f2aefc</td>\n",
       "      <td>67352</td>\n",
       "      <td>409</td>\n",
       "      <td>latest</td>\n",
       "      <td>1</td>\n",
       "      <td>midnight</td>\n",
       "      <td>68968.0</td>\n",
       "      <td>android</td>\n",
       "      <td>632525.0</td>\n",
       "    </tr>\n",
       "    <tr>\n",
       "      <th>6</th>\n",
       "      <td>f457c545a9ded88f18ecee47145a72c0</td>\n",
       "      <td>64356</td>\n",
       "      <td>190</td>\n",
       "      <td>intermediate</td>\n",
       "      <td>0</td>\n",
       "      <td>midnight</td>\n",
       "      <td>64835.0</td>\n",
       "      <td>android</td>\n",
       "      <td>1047176.0</td>\n",
       "    </tr>\n",
       "    <tr>\n",
       "      <th>7</th>\n",
       "      <td>72b32a1f754ba1c09b3695e0cb6cde7f</td>\n",
       "      <td>27329</td>\n",
       "      <td>481</td>\n",
       "      <td>latest</td>\n",
       "      <td>0</td>\n",
       "      <td>midnight</td>\n",
       "      <td>8160.0</td>\n",
       "      <td>android</td>\n",
       "      <td>7621.0</td>\n",
       "    </tr>\n",
       "    <tr>\n",
       "      <th>8</th>\n",
       "      <td>fc490ca45c00b1249bbe3554a4fdf6fb</td>\n",
       "      <td>83318</td>\n",
       "      <td>386</td>\n",
       "      <td>old</td>\n",
       "      <td>0</td>\n",
       "      <td>midnight</td>\n",
       "      <td>63026.0</td>\n",
       "      <td>android</td>\n",
       "      <td>7621.0</td>\n",
       "    </tr>\n",
       "    <tr>\n",
       "      <th>9</th>\n",
       "      <td>d2ddea18f00665ce8623e36bd4e3c7c5</td>\n",
       "      <td>70206</td>\n",
       "      <td>190</td>\n",
       "      <td>latest</td>\n",
       "      <td>0</td>\n",
       "      <td>midnight</td>\n",
       "      <td>63026.0</td>\n",
       "      <td>android</td>\n",
       "      <td>7621.0</td>\n",
       "    </tr>\n",
       "  </tbody>\n",
       "</table>\n",
       "</div>"
      ],
      "text/plain": [
       "                      impression_id  user_id  app_code    os_version  is_4G  \\\n",
       "0  c4ca4238a0b923820dcc509a6f75849b    87862       422           old      0   \n",
       "1  45c48cce2e2d7fbdea1afc51c7c6ad26    63410       467        latest      1   \n",
       "2  70efdf2ec9b086079795c442636b55fb    71748       259  intermediate      1   \n",
       "3  8e296a067a37563370ded05f5a3bf3ec    69209       244        latest      1   \n",
       "4  182be0c5cdcd5072bb1864cdee4d3d6e    62873       473        latest      0   \n",
       "5  3416a75f4cea9109507cacd8e2f2aefc    67352       409        latest      1   \n",
       "6  f457c545a9ded88f18ecee47145a72c0    64356       190  intermediate      0   \n",
       "7  72b32a1f754ba1c09b3695e0cb6cde7f    27329       481        latest      0   \n",
       "8  fc490ca45c00b1249bbe3554a4fdf6fb    83318       386           old      0   \n",
       "9  d2ddea18f00665ce8623e36bd4e3c7c5    70206       190        latest      0   \n",
       "\n",
       "       time  item_id device_type  session_id  \n",
       "0  midnight    425.0     android    886941.0  \n",
       "1  midnight  43209.0     android    343558.0  \n",
       "2  midnight  43209.0     android    343558.0  \n",
       "3  midnight  76404.0     android    832824.0  \n",
       "4  midnight  79527.0     android    676414.0  \n",
       "5  midnight  68968.0     android    632525.0  \n",
       "6  midnight  64835.0     android   1047176.0  \n",
       "7  midnight   8160.0     android      7621.0  \n",
       "8  midnight  63026.0     android      7621.0  \n",
       "9  midnight  63026.0     android      7621.0  "
      ]
     },
     "execution_count": 15,
     "metadata": {},
     "output_type": "execute_result"
    }
   ],
   "source": [
    "df.head(10)"
   ]
  },
  {
   "cell_type": "code",
   "execution_count": 16,
   "metadata": {},
   "outputs": [
    {
     "data": {
      "text/html": [
       "<div>\n",
       "<style scoped>\n",
       "    .dataframe tbody tr th:only-of-type {\n",
       "        vertical-align: middle;\n",
       "    }\n",
       "\n",
       "    .dataframe tbody tr th {\n",
       "        vertical-align: top;\n",
       "    }\n",
       "\n",
       "    .dataframe thead th {\n",
       "        text-align: right;\n",
       "    }\n",
       "</style>\n",
       "<table border=\"1\" class=\"dataframe\">\n",
       "  <thead>\n",
       "    <tr style=\"text-align: right;\">\n",
       "      <th></th>\n",
       "      <th>device_type</th>\n",
       "      <th>session_id</th>\n",
       "      <th>user_id</th>\n",
       "      <th>item_id</th>\n",
       "      <th>item_price</th>\n",
       "      <th>category_1</th>\n",
       "      <th>category_2</th>\n",
       "      <th>category_3</th>\n",
       "      <th>product_type</th>\n",
       "      <th>time</th>\n",
       "    </tr>\n",
       "  </thead>\n",
       "  <tbody>\n",
       "    <tr>\n",
       "      <th>0</th>\n",
       "      <td>android</td>\n",
       "      <td>112333</td>\n",
       "      <td>4557</td>\n",
       "      <td>32970</td>\n",
       "      <td>54685.0</td>\n",
       "      <td>16.0</td>\n",
       "      <td>56.0</td>\n",
       "      <td>253.0</td>\n",
       "      <td>3184.0</td>\n",
       "      <td>early_morning</td>\n",
       "    </tr>\n",
       "  </tbody>\n",
       "</table>\n",
       "</div>"
      ],
      "text/plain": [
       "  device_type  session_id  user_id  item_id  item_price  category_1  \\\n",
       "0     android      112333     4557    32970     54685.0        16.0   \n",
       "\n",
       "   category_2  category_3  product_type           time  \n",
       "0        56.0       253.0        3184.0  early_morning  "
      ]
     },
     "execution_count": 16,
     "metadata": {},
     "output_type": "execute_result"
    }
   ],
   "source": [
    "log.head(1)"
   ]
  },
  {
   "cell_type": "code",
   "execution_count": 17,
   "metadata": {},
   "outputs": [
    {
     "name": "stdout",
     "output_type": "stream",
     "text": [
      "Wall time: 1.58 s\n"
     ]
    }
   ],
   "source": [
    "%%time\n",
    "string='item_price'\n",
    "df[string]=df[['user_id','time']].merge(log,how='left').item_price\n",
    "df[string].fillna(-1, inplace=True)\n",
    "l=np.array([6336.0,2496.0,633.0 ,1856.0,2547.0,1907.0,2227.0,3833.0,1025.0,1145.0,8960.0,627.0 ,3187.0,889.0 ,3225.0,691.0 ,6841.0,5178.0,2560.0,1024.0,576.0 ,2304.0,2553.0,1075.0,2880.0,3136.0,768.0 ,4416.0,1152.0,1728.0])\n",
    "\n",
    "\n",
    "item_id=np.array(df['item_price'])\n",
    "con=item_id[0]\n",
    "k=0\n",
    "for i in range(item_id.shape[0]):\n",
    "    if item_id[i]==con:\n",
    "        item_id[i]=l[k%l.shape[0]]\n",
    "        k+=1\n",
    "df['item_price']=pd.Series(item_id)"
   ]
  },
  {
   "cell_type": "code",
   "execution_count": 18,
   "metadata": {},
   "outputs": [
    {
     "name": "stdout",
     "output_type": "stream",
     "text": [
      "Wall time: 1.51 s\n"
     ]
    }
   ],
   "source": [
    "%%time\n",
    "string='category_1'\n",
    "df[string]=df[['user_id','time']].merge(log,how='left').category_1\n",
    "df[string].fillna(-1, inplace=True)\n",
    "l=np.array([9.0,17.0,1.0 ,4.0 ,11.0,13.0,10.0,7.0 ,8.0 ,14.0,12.0,0.0 ,16.0,15.0,6.0])\n",
    "\n",
    "\n",
    "\n",
    "item_id=np.array(df['category_1'])\n",
    "con=item_id[0]\n",
    "k=0\n",
    "for i in range(item_id.shape[0]):\n",
    "    if item_id[i]==con:\n",
    "        item_id[i]=l[k%l.shape[0]]\n",
    "        k+=1\n",
    "df['category_1']=pd.Series(item_id)"
   ]
  },
  {
   "cell_type": "code",
   "execution_count": 19,
   "metadata": {},
   "outputs": [
    {
     "name": "stdout",
     "output_type": "stream",
     "text": [
      "Wall time: 1.61 s\n"
     ]
    }
   ],
   "source": [
    "%%time\n",
    "string='category_2'\n",
    "df[string]=df[['user_id','time']].merge(log,how='left').category_2\n",
    "df[string].fillna(-1, inplace=True)\n",
    "l=np.array([38.0,8.0,57.0,39.0,43.0,3.0,42.0,9.0 ,51.0,44.0,74.0,58.0,63.0,40.0,45.0,28.0,62.0 ,7.0 ,41.0,26.0,24.0,67.0,6.0 ,61.0,37.0,35.0,36.0,29.0,76.0,56.0])\n",
    "\n",
    "item_id=np.array(df['category_2'])\n",
    "con=item_id[0]\n",
    "k=0\n",
    "for i in range(item_id.shape[0]):\n",
    "    if item_id[i]==con:\n",
    "        item_id[i]=l[k%l.shape[0]]\n",
    "        k+=1\n",
    "df['category_2']=pd.Series(item_id)"
   ]
  },
  {
   "cell_type": "code",
   "execution_count": 20,
   "metadata": {},
   "outputs": [
    {
     "name": "stdout",
     "output_type": "stream",
     "text": [
      "Wall time: 1.59 s\n"
     ]
    }
   ],
   "source": [
    "%%time\n",
    "string='category_3'\n",
    "df[string]=df[['user_id','time']].merge(log,how='left').category_3\n",
    "df[string].fillna(-1, inplace=True)\n",
    "l=np.array([62.0,292.,114.0,223.0 ,279.0,157.0,36.0,159.0 ,84.0,244.0,151.0,252.0,100.0,113.0,90.0,220.0,162.0,263.0,73.0,264.0,111.0,203.0,27.0 ,44.0,147.0,233.0 ,283.0,171.0,301.0,172.0])\n",
    "\n",
    "\n",
    "item_id=np.array(df['category_3'])\n",
    "con=item_id[0]\n",
    "k=0\n",
    "for i in range(item_id.shape[0]):\n",
    "    if item_id[i]==con:\n",
    "        item_id[i]=l[k%l.shape[0]]\n",
    "        k+=1\n",
    "df['category_3']=pd.Series(item_id)"
   ]
  },
  {
   "cell_type": "code",
   "execution_count": 21,
   "metadata": {},
   "outputs": [
    {
     "name": "stdout",
     "output_type": "stream",
     "text": [
      "Wall time: 1.48 s\n"
     ]
    }
   ],
   "source": [
    "%%time\n",
    "string='product_type'\n",
    "df[string]=df[['user_id','time']].merge(log,how='left').product_type\n",
    "df[string].fillna(-1, inplace=True)\n",
    "l=np.array([2874.0,5036.0,10412.0,2106.0,7455.0,5622.0,4524.0,10025.0,6239.0,7791.0,3055.0,5276.0,5251.0,2099.0,8121.0,5164.0,10083.0,1485.0,3928.0,9959.0,10099.0,1923.0,10392.0,1617.0,5168.0,2417.0,10449.0,5609.0,9041.0,907.0])\n",
    "\n",
    "\n",
    "\n",
    "item_id=np.array(df['product_type'])\n",
    "con=item_id[0]\n",
    "k=0\n",
    "for i in range(item_id.shape[0]):\n",
    "    if item_id[i]==con:\n",
    "        item_id[i]=l[k%l.shape[0]]\n",
    "        k+=1\n",
    "df['product_type']=pd.Series(item_id)"
   ]
  },
  {
   "cell_type": "code",
   "execution_count": 22,
   "metadata": {},
   "outputs": [
    {
     "data": {
      "text/html": [
       "<div>\n",
       "<style scoped>\n",
       "    .dataframe tbody tr th:only-of-type {\n",
       "        vertical-align: middle;\n",
       "    }\n",
       "\n",
       "    .dataframe tbody tr th {\n",
       "        vertical-align: top;\n",
       "    }\n",
       "\n",
       "    .dataframe thead th {\n",
       "        text-align: right;\n",
       "    }\n",
       "</style>\n",
       "<table border=\"1\" class=\"dataframe\">\n",
       "  <thead>\n",
       "    <tr style=\"text-align: right;\">\n",
       "      <th></th>\n",
       "      <th>impression_id</th>\n",
       "      <th>user_id</th>\n",
       "      <th>app_code</th>\n",
       "      <th>os_version</th>\n",
       "      <th>is_4G</th>\n",
       "      <th>time</th>\n",
       "      <th>item_id</th>\n",
       "      <th>device_type</th>\n",
       "      <th>session_id</th>\n",
       "      <th>item_price</th>\n",
       "      <th>category_1</th>\n",
       "      <th>category_2</th>\n",
       "      <th>category_3</th>\n",
       "      <th>product_type</th>\n",
       "    </tr>\n",
       "  </thead>\n",
       "  <tbody>\n",
       "    <tr>\n",
       "      <th>0</th>\n",
       "      <td>c4ca4238a0b923820dcc509a6f75849b</td>\n",
       "      <td>87862</td>\n",
       "      <td>422</td>\n",
       "      <td>old</td>\n",
       "      <td>0</td>\n",
       "      <td>midnight</td>\n",
       "      <td>425.0</td>\n",
       "      <td>android</td>\n",
       "      <td>886941.0</td>\n",
       "      <td>6336.0</td>\n",
       "      <td>9.0</td>\n",
       "      <td>38.0</td>\n",
       "      <td>62.0</td>\n",
       "      <td>2874.0</td>\n",
       "    </tr>\n",
       "    <tr>\n",
       "      <th>1</th>\n",
       "      <td>45c48cce2e2d7fbdea1afc51c7c6ad26</td>\n",
       "      <td>63410</td>\n",
       "      <td>467</td>\n",
       "      <td>latest</td>\n",
       "      <td>1</td>\n",
       "      <td>midnight</td>\n",
       "      <td>43209.0</td>\n",
       "      <td>android</td>\n",
       "      <td>343558.0</td>\n",
       "      <td>3421.0</td>\n",
       "      <td>4.0</td>\n",
       "      <td>74.0</td>\n",
       "      <td>292.0</td>\n",
       "      <td>577.0</td>\n",
       "    </tr>\n",
       "  </tbody>\n",
       "</table>\n",
       "</div>"
      ],
      "text/plain": [
       "                      impression_id  user_id  app_code os_version  is_4G  \\\n",
       "0  c4ca4238a0b923820dcc509a6f75849b    87862       422        old      0   \n",
       "1  45c48cce2e2d7fbdea1afc51c7c6ad26    63410       467     latest      1   \n",
       "\n",
       "       time  item_id device_type  session_id  item_price  category_1  \\\n",
       "0  midnight    425.0     android    886941.0      6336.0         9.0   \n",
       "1  midnight  43209.0     android    343558.0      3421.0         4.0   \n",
       "\n",
       "   category_2  category_3  product_type  \n",
       "0        38.0        62.0        2874.0  \n",
       "1        74.0       292.0         577.0  "
      ]
     },
     "execution_count": 22,
     "metadata": {},
     "output_type": "execute_result"
    }
   ],
   "source": [
    "df.head(2)"
   ]
  },
  {
   "cell_type": "code",
   "execution_count": 23,
   "metadata": {},
   "outputs": [
    {
     "data": {
      "text/plain": [
       "android    328169\n",
       "iphone        105\n",
       "web            10\n",
       "Name: device_type, dtype: int64"
      ]
     },
     "execution_count": 23,
     "metadata": {},
     "output_type": "execute_result"
    }
   ],
   "source": [
    "df.device_type.value_counts(dropna=False).head()"
   ]
  },
  {
   "cell_type": "code",
   "execution_count": 24,
   "metadata": {},
   "outputs": [],
   "source": [
    "# df = df[np.isfinite(df['product_type'])]"
   ]
  },
  {
   "cell_type": "code",
   "execution_count": 25,
   "metadata": {},
   "outputs": [
    {
     "data": {
      "text/html": [
       "<div>\n",
       "<style scoped>\n",
       "    .dataframe tbody tr th:only-of-type {\n",
       "        vertical-align: middle;\n",
       "    }\n",
       "\n",
       "    .dataframe tbody tr th {\n",
       "        vertical-align: top;\n",
       "    }\n",
       "\n",
       "    .dataframe thead th {\n",
       "        text-align: right;\n",
       "    }\n",
       "</style>\n",
       "<table border=\"1\" class=\"dataframe\">\n",
       "  <thead>\n",
       "    <tr style=\"text-align: right;\">\n",
       "      <th></th>\n",
       "      <th>impression_id</th>\n",
       "      <th>user_id</th>\n",
       "      <th>app_code</th>\n",
       "      <th>os_version</th>\n",
       "      <th>is_4G</th>\n",
       "      <th>time</th>\n",
       "      <th>item_id</th>\n",
       "      <th>device_type</th>\n",
       "      <th>session_id</th>\n",
       "      <th>item_price</th>\n",
       "      <th>category_1</th>\n",
       "      <th>category_2</th>\n",
       "      <th>category_3</th>\n",
       "      <th>product_type</th>\n",
       "    </tr>\n",
       "  </thead>\n",
       "  <tbody>\n",
       "    <tr>\n",
       "      <th>0</th>\n",
       "      <td>c4ca4238a0b923820dcc509a6f75849b</td>\n",
       "      <td>87862</td>\n",
       "      <td>422</td>\n",
       "      <td>old</td>\n",
       "      <td>0</td>\n",
       "      <td>midnight</td>\n",
       "      <td>425.0</td>\n",
       "      <td>android</td>\n",
       "      <td>886941.0</td>\n",
       "      <td>6336.0</td>\n",
       "      <td>9.0</td>\n",
       "      <td>38.0</td>\n",
       "      <td>62.0</td>\n",
       "      <td>2874.0</td>\n",
       "    </tr>\n",
       "    <tr>\n",
       "      <th>1</th>\n",
       "      <td>45c48cce2e2d7fbdea1afc51c7c6ad26</td>\n",
       "      <td>63410</td>\n",
       "      <td>467</td>\n",
       "      <td>latest</td>\n",
       "      <td>1</td>\n",
       "      <td>midnight</td>\n",
       "      <td>43209.0</td>\n",
       "      <td>android</td>\n",
       "      <td>343558.0</td>\n",
       "      <td>3421.0</td>\n",
       "      <td>4.0</td>\n",
       "      <td>74.0</td>\n",
       "      <td>292.0</td>\n",
       "      <td>577.0</td>\n",
       "    </tr>\n",
       "  </tbody>\n",
       "</table>\n",
       "</div>"
      ],
      "text/plain": [
       "                      impression_id  user_id  app_code os_version  is_4G  \\\n",
       "0  c4ca4238a0b923820dcc509a6f75849b    87862       422        old      0   \n",
       "1  45c48cce2e2d7fbdea1afc51c7c6ad26    63410       467     latest      1   \n",
       "\n",
       "       time  item_id device_type  session_id  item_price  category_1  \\\n",
       "0  midnight    425.0     android    886941.0      6336.0         9.0   \n",
       "1  midnight  43209.0     android    343558.0      3421.0         4.0   \n",
       "\n",
       "   category_2  category_3  product_type  \n",
       "0        38.0        62.0        2874.0  \n",
       "1        74.0       292.0         577.0  "
      ]
     },
     "execution_count": 25,
     "metadata": {},
     "output_type": "execute_result"
    }
   ],
   "source": [
    "df.head(2)"
   ]
  },
  {
   "cell_type": "code",
   "execution_count": 26,
   "metadata": {},
   "outputs": [
    {
     "name": "stderr",
     "output_type": "stream",
     "text": [
      "c:\\users\\professionally_saket\\appdata\\local\\programs\\python\\python36\\lib\\site-packages\\ipykernel_launcher.py:3: SettingWithCopyWarning: \n",
      "A value is trying to be set on a copy of a slice from a DataFrame.\n",
      "Try using .loc[row_indexer,col_indexer] = value instead\n",
      "\n",
      "See the caveats in the documentation: http://pandas.pydata.org/pandas-docs/stable/indexing.html#indexing-view-versus-copy\n",
      "  This is separate from the ipykernel package so we can avoid doing imports until\n"
     ]
    }
   ],
   "source": [
    "x_train=df[:train.shape[0]]\n",
    "x_test=df[train.shape[0]:]\n",
    "x_train['is_click']=y\n",
    "x_train.to_csv('Xx_train.csv',index=False)\n",
    "x_test.to_csv('Xx_test.csv',index=False)"
   ]
  },
  {
   "cell_type": "code",
   "execution_count": null,
   "metadata": {},
   "outputs": [],
   "source": []
  },
  {
   "cell_type": "code",
   "execution_count": null,
   "metadata": {},
   "outputs": [],
   "source": []
  }
 ],
 "metadata": {
  "kernelspec": {
   "display_name": "Python 3",
   "language": "python",
   "name": "python3"
  },
  "language_info": {
   "codemirror_mode": {
    "name": "ipython",
    "version": 3
   },
   "file_extension": ".py",
   "mimetype": "text/x-python",
   "name": "python",
   "nbconvert_exporter": "python",
   "pygments_lexer": "ipython3",
   "version": "3.6.8"
  }
 },
 "nbformat": 4,
 "nbformat_minor": 2
}
