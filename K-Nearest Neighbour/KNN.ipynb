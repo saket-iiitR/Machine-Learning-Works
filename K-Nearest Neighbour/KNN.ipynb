{
 "cells": [
  {
   "cell_type": "markdown",
   "metadata": {},
   "source": [
    "<h1>Topic: K-Nearest Neighbours</h1>\n",
    "<h6>Saket Tiwari</h6>\n",
    "<h6>Date: 20 Jul, 2019</h6>"
   ]
  },
  {
   "cell_type": "code",
   "execution_count": 12,
   "metadata": {},
   "outputs": [],
   "source": [
    "#KNN is a supervised \n",
    "#in knn we measure all he distances from points and we take k nearest points then we do majority voting\n",
    "#knn is called instance based \n",
    "#regression is Parametric\n",
    "#Instance based is not recommended"
   ]
  },
  {
   "cell_type": "code",
   "execution_count": 13,
   "metadata": {},
   "outputs": [],
   "source": [
    "#How to measure distances\n",
    "#1. Euclidean distance(L2 distance) :sqrt((x2-x1)^2 - (y2-y1)^2)\n",
    "#2. Manhattan Distance(L1 distance) : (x2-x1) - (y2-y1)"
   ]
  },
  {
   "cell_type": "code",
   "execution_count": 14,
   "metadata": {},
   "outputs": [],
   "source": [
    "import numpy as np"
   ]
  },
  {
   "cell_type": "code",
   "execution_count": 15,
   "metadata": {},
   "outputs": [
    {
     "name": "stdout",
     "output_type": "stream",
     "text": [
      "5.196152422706632\n",
      "9\n"
     ]
    }
   ],
   "source": [
    "a=[1,2,3]\n",
    "b=[4,5,6]\n",
    "a=np.array(a)\n",
    "b=np.array(b)\n",
    "l2dist=(np.sum((a-b)**2))**0.5\n",
    "print(l2dist)\n",
    "l1dist=np.sum(abs(b)-abs(a))\n",
    "print(l1dist)"
   ]
  },
  {
   "cell_type": "code",
   "execution_count": 3,
   "metadata": {},
   "outputs": [],
   "source": [
    "import numpy as np\n",
    "import matplotlib.pyplot as plt\n",
    "%matplotlib inline"
   ]
  },
  {
   "cell_type": "code",
   "execution_count": 17,
   "metadata": {},
   "outputs": [],
   "source": [
    "# we are creating data as we do not have it"
   ]
  },
  {
   "cell_type": "code",
   "execution_count": 12,
   "metadata": {},
   "outputs": [
    {
     "name": "stdout",
     "output_type": "stream",
     "text": [
      "(500, 2)\n",
      "(500, 2)\n"
     ]
    }
   ],
   "source": [
    "mean1=np.array([1,0])\n",
    "#we are taking two because our coin has two features weight and radius\n",
    "cov1=np.array([[1,0.1],[0.1,1.2]]) \n",
    "#\n",
    "\n",
    "dist1=np.random.multivariate_normal(mean1,cov1,500) #500 samples\n",
    "print(dist1.shape)\n",
    "#covariance bata raha h ki data kitna spread h mean k along\n",
    "\n",
    "mean2=np.array([6,5]) #we are taking two because our coin has two features weight and radius\n",
    "cov2=np.array([[1,0.1],[0.1,1.2]]) #\n",
    "\n",
    "dist2=np.random.multivariate_normal(mean2,cov2,500) #500 samples multivariate normal dist:- mean batana hogaq\n",
    "print(dist2.shape)"
   ]
  },
  {
   "cell_type": "code",
   "execution_count": 13,
   "metadata": {},
   "outputs": [
    {
     "data": {
      "image/png": "[encoded data removed]",
      "text/plain": [
       "<Figure size 432x288 with 1 Axes>"
      ]
     },
     "metadata": {
      "needs_background": "light"
     },
     "output_type": "display_data"
    }
   ],
   "source": [
    "plt.scatter(dist1[:,0],dist1[:,1])\n",
    "plt.scatter(dist2[:,0],dist1[:,1])\n",
    "plt.xlim(-5,10)\n",
    "plt.ylim(-5,10)\n",
    "plt.show()"
   ]
  },
  {
   "cell_type": "code",
   "execution_count": 70,
   "metadata": {},
   "outputs": [
    {
     "name": "stdout",
     "output_type": "stream",
     "text": [
      "(1000, 3)\n"
     ]
    },
    {
     "data": {
      "text/plain": [
       "array([3.56057561, 2.5336745 , 0.5       ])"
      ]
     },
     "execution_count": 70,
     "metadata": {},
     "output_type": "execute_result"
    }
   ],
   "source": [
    "data=np.zeros((1000,3))\n",
    "data[:500,:2]=dist1\n",
    "data[500:,:2]=dist2\n",
    "data[500:,-1]=1\n",
    "print(data.shape)\n",
    "data.mean(axis=0)"
   ]
  },
  {
   "cell_type": "code",
   "execution_count": 71,
   "metadata": {},
   "outputs": [
    {
     "name": "stdout",
     "output_type": "stream",
     "text": [
      "[[ 1.46990291  0.07250623  0.        ]\n",
      " [ 1.79823229  0.07813686  0.        ]\n",
      " [ 0.93445376 -0.07919164  0.        ]\n",
      " [ 2.52853979  1.66570498  0.        ]\n",
      " [ 1.67915287 -1.49164758  0.        ]\n",
      " [ 1.23614503  0.32311617  0.        ]\n",
      " [ 0.23710873  0.84293658  0.        ]\n",
      " [ 0.18593115  1.0849772   0.        ]\n",
      " [ 0.67069995 -0.4962676   0.        ]\n",
      " [ 0.05935277 -0.39344671  0.        ]]\n",
      "[[ 5.73744828  5.73278754  1.        ]\n",
      " [ 6.04128969  5.51375617  1.        ]\n",
      " [ 3.91086008  0.79169959  0.        ]\n",
      " [-1.6809302  -0.12632692  0.        ]\n",
      " [-0.3478339  -1.85680414  0.        ]\n",
      " [ 5.54323998  6.40343564  1.        ]\n",
      " [ 6.1513808   4.67320368  1.        ]\n",
      " [ 6.92642167  3.56427145  1.        ]\n",
      " [ 5.71604562  6.01497646  1.        ]\n",
      " [ 2.49483127  0.48851121  0.        ]]\n"
     ]
    }
   ],
   "source": [
    "print(data[:10])\n",
    "np.random.shuffle(data)\n",
    "print(data[:10])"
   ]
  },
  {
   "cell_type": "code",
   "execution_count": 72,
   "metadata": {},
   "outputs": [],
   "source": [
    "def distance(a,b):\n",
    "    return (np.sum((a-b)**2))**0.5"
   ]
  },
  {
   "cell_type": "code",
   "execution_count": 73,
   "metadata": {},
   "outputs": [],
   "source": [
    "def knn(x_train, y_train, test_point, k=7):\n",
    "    \n",
    "    vals=[]\n",
    "    \n",
    "    for i in range(x_train.shape[0]): #dimension is (1000,2) which is a tuple. we need to iterate over 1000 rows 0th row is 1000\n",
    "        d=distance(x_train[i],test_point) # d is the distance between the x_train and the test_point\n",
    "        vals.append([d,y_train[i]]) # in the val a list conataining the distance and the corresponding label is appended\n",
    "        \n",
    "    sorted_labels=sorted(vals, key=lambda r: r[0]) #values has to shorted on the basis of the 1st element of the list present in vals.\n",
    "    neighbors=np.asarray(sorted_labels)[:k, -1] #same list is used here. No duplication here. therefore memorhy is saved here.\n",
    "    #print(neighbors)\n",
    "    \n",
    "    freq=np.unique(neighbors,return_counts=True) #returns the matrix containing the frequency of unnique numbers\n",
    "    #print(freq)\n",
    "    index=freq[1].argmax() #returns the index of the the highest value in the list\n",
    "    \n",
    "    return freq[0][index]\n",
    "    "
   ]
  },
  {
   "cell_type": "code",
   "execution_count": 74,
   "metadata": {
    "scrolled": true
   },
   "outputs": [
    {
     "data": {
      "text/plain": [
       "1.0"
      ]
     },
     "execution_count": 74,
     "metadata": {},
     "output_type": "execute_result"
    }
   ],
   "source": [
    "x_train=data[:,:2]\n",
    "y_train=data[:,-1]\n",
    "test_point=np.array([4,3])\n",
    "\n",
    "knn(x_train,y_train,test_point)"
   ]
  },
  {
   "cell_type": "code",
   "execution_count": 75,
   "metadata": {},
   "outputs": [
    {
     "name": "stdout",
     "output_type": "stream",
     "text": [
      "(750, 2) (750,)\n",
      "(250, 2) (250,)\n"
     ]
    }
   ],
   "source": [
    "split=int(0.75*data.shape[0])\n",
    "\n",
    "x_train=data[:split, :2]\n",
    "y_train=data[:split,-1]\n",
    "\n",
    "x_test=data[split: ,:2]\n",
    "y_test=data[split:,-1]\n",
    "\n",
    "print(x_train.shape,y_train.shape)\n",
    "print(x_test.shape,y_test.shape)"
   ]
  },
  {
   "cell_type": "code",
   "execution_count": 76,
   "metadata": {},
   "outputs": [],
   "source": [
    "def acc(k):\n",
    "    \n",
    "    predictions=[]\n",
    "    \n",
    "    for i in range(x_test.shape[0]):\n",
    "        #predictions.append(knn(x_train,y_train,x_test[i]))\n",
    "        test_point=x_test[i]\n",
    "        predicted_label=knn(x_train,y_train,test_point,k)\n",
    "        predictions.append(predicted_label)\n",
    "        \n",
    "    preds=np.asarray(predictions)\n",
    "    #print(y_test == preds)\n",
    "    \n",
    "    return 100*(y_test == preds).sum()/preds.shape[0]\n",
    "    "
   ]
  },
  {
   "cell_type": "code",
   "execution_count": 77,
   "metadata": {},
   "outputs": [
    {
     "data": {
      "text/plain": [
       "99.6"
      ]
     },
     "execution_count": 77,
     "metadata": {},
     "output_type": "execute_result"
    }
   ],
   "source": [
    "acc(1)"
   ]
  },
  {
   "cell_type": "code",
   "execution_count": 80,
   "metadata": {},
   "outputs": [],
   "source": [
    "#value of k can be optimized by changing the value of k using binary search , linear search of binary search after linear search"
   ]
  },
  {
   "cell_type": "code",
   "execution_count": 82,
   "metadata": {},
   "outputs": [],
   "source": [
    "import sklearn"
   ]
  },
  {
   "cell_type": "code",
   "execution_count": 83,
   "metadata": {},
   "outputs": [],
   "source": [
    "from sklearn.neighbors import KNeighborsClassifier"
   ]
  },
  {
   "cell_type": "code",
   "execution_count": 86,
   "metadata": {},
   "outputs": [
    {
     "data": {
      "text/plain": [
       "1.0"
      ]
     },
     "execution_count": 86,
     "metadata": {},
     "output_type": "execute_result"
    }
   ],
   "source": [
    "neigh=KNeighborsClassifier(n_neighbors=5)\n",
    "neigh.fit(x_train,y_train)\n",
    "neigh.score(x_test,y_test)"
   ]
  }
 ],
 "metadata": {
  "kernelspec": {
   "display_name": "Python 3",
   "language": "python",
   "name": "python3"
  },
  "language_info": {
   "codemirror_mode": {
    "name": "ipython",
    "version": 3
   },
   "file_extension": ".py",
   "mimetype": "text/x-python",
   "name": "python",
   "nbconvert_exporter": "python",
   "pygments_lexer": "ipython3",
   "version": "3.6.8"
  }
 },
 "nbformat": 4,
 "nbformat_minor": 2
}
