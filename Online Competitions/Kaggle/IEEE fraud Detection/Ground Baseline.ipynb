{
 "cells": [
  {
   "cell_type": "code",
   "execution_count": 1,
   "metadata": {},
   "outputs": [
    {
     "name": "stderr",
     "output_type": "stream",
     "text": [
      "c:\\users\\professionally_saket\\appdata\\local\\programs\\python\\python36\\lib\\importlib\\_bootstrap.py:219: RuntimeWarning: numpy.ufunc size changed, may indicate binary incompatibility. Expected 192 from C header, got 216 from PyObject\n",
      "  return f(*args, **kwds)\n",
      "c:\\users\\professionally_saket\\appdata\\local\\programs\\python\\python36\\lib\\importlib\\_bootstrap.py:219: RuntimeWarning: numpy.ufunc size changed, may indicate binary incompatibility. Expected 192 from C header, got 216 from PyObject\n",
      "  return f(*args, **kwds)\n"
     ]
    },
    {
     "name": "stdout",
     "output_type": "stream",
     "text": [
      "Wall time: 1.47 s\n"
     ]
    }
   ],
   "source": [
    "%%time\n",
    "#General libraries\n",
    "import numpy as np\n",
    "import pandas as pd\n",
    "import os,sys,gc,warnings,random\n",
    "from sklearn import metrics\n",
    "from sklearn.model_selection import train_test_split,KFold\n",
    "from sklearn.preprocessing import LabelEncoder\n",
    "from tqdm import tqdm\n",
    "import math\n",
    "warnings.filterwarnings('ignore')"
   ]
  },
  {
   "cell_type": "code",
   "execution_count": 2,
   "metadata": {},
   "outputs": [],
   "source": [
    "#Seeder\n",
    "# :seed to make all processes deterministic\n",
    "def seed_everything(seed=0):\n",
    "    random.seed(seed)\n",
    "    os.environ['PYTHONHASHSEED']=str(seed)\n",
    "    np.random.seed(seed)"
   ]
  },
  {
   "cell_type": "code",
   "execution_count": 3,
   "metadata": {},
   "outputs": [],
   "source": [
    "SEED=42\n",
    "seed_everything(SEED)\n",
    "LOCAL_TEST=False\n",
    "TARGET='isFraud'"
   ]
  },
  {
   "cell_type": "code",
   "execution_count": 4,
   "metadata": {},
   "outputs": [
    {
     "name": "stdout",
     "output_type": "stream",
     "text": [
      "Load Data\n",
      "Wall time: 10.6 s\n"
     ]
    }
   ],
   "source": [
    "%%time\n",
    "print('Load Data')\n",
    "train_df=pd.read_pickle('train_transaction.pkl')\n",
    "if LOCAL_TEST:\n",
    "    test_df= train_df.iloc[-100000:,].reset_index(drop=True)\n",
    "    train_df=train_df.iloc[:400000,].reset_index(drop=True)\n",
    "    \n",
    "    train_identity=pd.read_pickle('train_identity.pkl')\n",
    "    test_identity=train_identity[train_identity['TransactionID'].isin(test_df['TransactionID'])].reset_index(drop=True)\n",
    "    train_identity=train_identity[train_identity['transactionID'].isin(train_df['TransactionID'])].reset_index(drop=True)\n",
    "    \n",
    "else:\n",
    "    test_df=pd.read_pickle('test_transaction.pkl')\n",
    "    test_identity=pd.read_pickle('test_identity.pkl')"
   ]
  },
  {
   "cell_type": "code",
   "execution_count": 5,
   "metadata": {},
   "outputs": [],
   "source": [
    "#Reset values for 'noise' card1\n",
    "valid_card= train_df['card1'].value_counts()\n",
    "valid_card=valid_card[valid_card>10]\n",
    "valid_card= list(valid_card.index)\n",
    "\n",
    "train_df['card1']=np.where(train_df['card1'].isin(valid_card),train_df['card1'],np.nan)\n",
    "test_df['card1'] = np.where(test_df['card1'].isin(valid_card), test_df['card1'],np.nan)"
   ]
  },
  {
   "cell_type": "code",
   "execution_count": 6,
   "metadata": {},
   "outputs": [],
   "source": [
    "# Frequency encoding\n",
    "i_cols = ['card1','card2','card3','card5',\n",
    "          'C1','C2','C3','C4','C5','C6','C7','C8','C9','C10','C11','C12','C13','C14',\n",
    "          'D1','D2','D3','D4','D5','D6','D7','D8','D9',\n",
    "          'addr1','addr2',\n",
    "          'dist1','dist2',\n",
    "          'P_emaildomain', 'R_emaildomain'\n",
    "         ]\n",
    "for col in i_cols:\n",
    "    temp_df=pd.concat([train_df[[col]],test_df[[col]]])\n",
    "    fq_encode=temp_df[col].value_counts().to_dict()\n",
    "    train_df[col+'_fq_enc'] = train_df[col].map(fq_encode)\n",
    "    test_df[col+'_fq_enc']= test_df[col].map(fq_encode)"
   ]
  },
  {
   "cell_type": "code",
   "execution_count": 7,
   "metadata": {},
   "outputs": [
    {
     "name": "stdout",
     "output_type": "stream",
     "text": [
      "Wall time: 647 ms\n"
     ]
    }
   ],
   "source": [
    "%%time\n",
    "#ProductCD and M4 Target mean\n",
    "for col in ['ProductCD','M4']:\n",
    "    temp_dict = train_df.groupby([col])[TARGET].agg(['mean']).reset_index().rename(columns = {'mean':col+'_target_mean'})\n",
    "    temp_dict.index= temp_dict[col].values\n",
    "    temp_dict=temp_dict[col+'_target_mean'].to_dict()\n",
    "    \n",
    "    train_df[col+'_target_mean']=train_df[col].map(temp_dict)\n",
    "    test_df[col+'_target_mean']= test_df[col].map(temp_dict)"
   ]
  },
  {
   "cell_type": "code",
   "execution_count": 9,
   "metadata": {},
   "outputs": [
    {
     "name": "stdout",
     "output_type": "stream",
     "text": [
      "P_emaildomain\n",
      "R_emaildomain\n",
      "Wall time: 4.11 s\n"
     ]
    }
   ],
   "source": [
    "%%time\n",
    "#Encode str columns\n",
    "for col in list(train_df):\n",
    "    if train_df[col].dtype=='O':\n",
    "        print(col)\n",
    "        train_df[col]=train_df[col].fillna('unseen_before_label')\n",
    "        test_df[col]= test_df[col].fillna('unseen_before_label')\n",
    "        \n",
    "        train_df[col]=train_df[col].astype(str)\n",
    "        test_df[col]=test_df[col].astype(str)\n",
    "        \n",
    "        le= LabelEncoder()\n",
    "        le.fit(list(train_df[col])+list(test_df[col]))\n",
    "        train_df[col]=le.transform(train_df[col])\n",
    "        test_df[col]=le.transform(test_df[col])\n",
    "        \n",
    "        train_df[col]=train_df[col].astype('category')\n",
    "        test_df[col]= test_df[col].astype('category')"
   ]
  },
  {
   "cell_type": "code",
   "execution_count": 10,
   "metadata": {},
   "outputs": [
    {
     "name": "stdout",
     "output_type": "stream",
     "text": [
      "Wall time: 0 ns\n"
     ]
    }
   ],
   "source": [
    "%%time\n",
    "#Model Features\n",
    "# We can set().difference() but order matters\n",
    "\n",
    "rm_cols= ['TransactionID','TransactionDT',TARGET,]\n",
    "features_columns= list(train_df)\n",
    "for col in rm_cols:\n",
    "    if col in features_columns:\n",
    "        features_columns.remove(col)"
   ]
  },
  {
   "cell_type": "code",
   "execution_count": 11,
   "metadata": {},
   "outputs": [],
   "source": [
    "#Model Params\n",
    "lgb_params = {\n",
    "                    'objective':'binary',\n",
    "                    'boosting_type':'gbdt',\n",
    "                    'metric':'auc',\n",
    "                    'n_jobs':-1,\n",
    "                    'learning_rate':0.01,\n",
    "                    'num_leaves': 2**8,\n",
    "                    'max_depth':-1,\n",
    "                    'tree_learner':'serial',\n",
    "                    'colsample_bytree': 0.7,\n",
    "                    'subsample_freq':1,\n",
    "                    'subsample':1,\n",
    "                    'n_estimators':800,\n",
    "                    'max_bin':255,\n",
    "                    'verbose':-1,\n",
    "                    'seed': SEED,\n",
    "                    'early_stopping_rounds':100, \n",
    "                } "
   ]
  },
  {
   "cell_type": "code",
   "execution_count": 15,
   "metadata": {},
   "outputs": [],
   "source": [
    "#Model\n",
    "import lightgbm as lgb\n",
    "\n",
    "def make_predictions(tr_df,tt_df,features_columns,target,lgb_params,NFOLDS=2):\n",
    "    \n",
    "    folds=KFold(n_splits=NFOLDS,shuffle=True,random_state=SEED)\n",
    "    X,y = tr_df[features_columns],train_df[target]\n",
    "    P,P_y=tt_df[features_columns], tt_df[target]\n",
    "    \n",
    "    tt_df = tt_df[['TransactionID',target]]\n",
    "    predictions= np.zeros(len(tt_df))\n",
    "    predictions = np.zeros(len(tt_df))\n",
    "    \n",
    "    for fold_, (trn_idx, val_idx) in enumerate(folds.split(X, y)):\n",
    "        print('Fold:',fold_)\n",
    "        tr_x, tr_y = X.iloc[trn_idx,:], y[trn_idx]\n",
    "        vl_x, vl_y = X.iloc[val_idx,:], y[val_idx]\n",
    "            \n",
    "        print(len(tr_x),len(vl_x))\n",
    "        tr_data = lgb.Dataset(tr_x, label=tr_y)\n",
    "\n",
    "        if LOCAL_TEST:\n",
    "            vl_data = lgb.Dataset(P, label=P_y) \n",
    "        else:\n",
    "            vl_data = lgb.Dataset(vl_x, label=vl_y)  \n",
    "\n",
    "        estimator = lgb.train(\n",
    "            lgb_params,\n",
    "            tr_data,\n",
    "            valid_sets = [tr_data, vl_data],\n",
    "            verbose_eval = 200,\n",
    "        )   \n",
    "        \n",
    "        pp_p = estimator.predict(P)\n",
    "        predictions += pp_p/NFOLDS\n",
    "\n",
    "        if LOCAL_TEST:\n",
    "            feature_imp = pd.DataFrame(sorted(zip(estimator.feature_importance(),X.columns)), columns=['Value','Feature'])\n",
    "            print(feature_imp)\n",
    "        \n",
    "        del tr_x, tr_y, vl_x, vl_y, tr_data, vl_data\n",
    "        gc.collect()\n",
    "        \n",
    "    tt_df['prediction']  = predictions\n",
    "    \n",
    "    return tt_df\n",
    "## -------------------\n",
    "        "
   ]
  },
  {
   "cell_type": "code",
   "execution_count": null,
   "metadata": {},
   "outputs": [
    {
     "name": "stdout",
     "output_type": "stream",
     "text": [
      "Fold: 0\n",
      "531486 59054\n",
      "Training until validation scores don't improve for 100 rounds.\n",
      "[200]\ttraining's auc: 0.930402\tvalid_1's auc: 0.917912\n",
      "[400]\ttraining's auc: 0.95409\tvalid_1's auc: 0.935348\n",
      "[600]\ttraining's auc: 0.970257\tvalid_1's auc: 0.948443\n",
      "[800]\ttraining's auc: 0.980245\tvalid_1's auc: 0.957108\n"
     ]
    }
   ],
   "source": [
    "########################### Model Train\n",
    "if LOCAL_TEST:\n",
    "    test_predictions = make_predictions(train_df, test_df, features_columns, TARGET, lgb_params)\n",
    "    print(metrics.roc_auc_score(test_predictions[TARGET], test_predictions['prediction']))\n",
    "else:\n",
    "    lgb_params['learning_rate'] = 0.005\n",
    "    lgb_params['n_estimators'] = 2000\n",
    "    lgb_params['early_stopping_rounds'] = 100    \n",
    "    test_predictions = make_predictions(train_df, test_df, features_columns, TARGET, lgb_params, NFOLDS=10)"
   ]
  },
  {
   "cell_type": "code",
   "execution_count": null,
   "metadata": {},
   "outputs": [],
   "source": []
  }
 ],
 "metadata": {
  "kernelspec": {
   "display_name": "Python 3",
   "language": "python",
   "name": "python3"
  },
  "language_info": {
   "codemirror_mode": {
    "name": "ipython",
    "version": 3
   },
   "file_extension": ".py",
   "mimetype": "text/x-python",
   "name": "python",
   "nbconvert_exporter": "python",
   "pygments_lexer": "ipython3",
   "version": "3.6.8"
  }
 },
 "nbformat": 4,
 "nbformat_minor": 2
}
