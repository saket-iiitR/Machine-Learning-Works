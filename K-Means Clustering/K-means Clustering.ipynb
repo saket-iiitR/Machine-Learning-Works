{
 "cells": [
  {
   "cell_type": "markdown",
   "metadata": {},
   "source": [
    "<h1>Topic: K-Means Clustering</h1>\n",
    "<h6>Saket Tiwari</h6>\n",
    "Date: 30 Jun, 2019"
   ]
  },
  {
   "cell_type": "code",
   "execution_count": 1,
   "metadata": {},
   "outputs": [],
   "source": [
    "#K-means is unsupervised\n",
    "#no of clusters =k"
   ]
  },
  {
   "cell_type": "code",
   "execution_count": 81,
   "metadata": {},
   "outputs": [],
   "source": [
    "import numpy as np\n",
    "import matplotlib.pyplot as plt\n",
    "%matplotlib inline"
   ]
  },
  {
   "cell_type": "code",
   "execution_count": 82,
   "metadata": {},
   "outputs": [
    {
     "data": {
      "text/plain": [
       "array([20, 50, 10])"
      ]
     },
     "execution_count": 82,
     "metadata": {},
     "output_type": "execute_result"
    }
   ],
   "source": [
    "np.random.choice([10,20,30,409,50],3) #choses randomly from list"
   ]
  },
  {
   "cell_type": "code",
   "execution_count": 95,
   "metadata": {},
   "outputs": [],
   "source": [
    "def Kmeans(X,K,max_iters=1000): #K- starting me kitne centroids honge\n",
    "    \n",
    "    #X ki dimension ? (1000x2) 2columns radius,weight\n",
    "    \n",
    "    \n",
    "    centroids=X[np.random.choice(np.arange(len(X)),K), :]\n",
    "    print(centroids)\n",
    "    \n",
    "    for i in range(max_iters):\n",
    "        \n",
    "        C=[]\n",
    "        \n",
    "        for x in X:\n",
    "            \n",
    "            distances =[] \n",
    "            \n",
    "            for c in centroids:\n",
    "                \n",
    "                d=np.dot((x-c) , (x-c))\n",
    "                distances.append(np.array(d))\n",
    "                #print(distances)\n",
    "            #c.append(np.argmin(distances))\n",
    "            \n",
    "            centroid=np.argmin(distances)\n",
    "            C.append(centroid)\n",
    "        C=np.array(C) #because we are going to mask and mask is done only in numpy array\n",
    "        centroids= [X[C==k].mean(axis=0) for k in range (K)]\n",
    "        \n",
    "    #c=[([np.dot(x_i-y_k , x_i-y_k) for y_i in cendroids]np.argmin) for x_i in X]\n",
    "    #C=[np.argmin([np.dot])]\n",
    "    \n",
    "    return np.array(centroids), C"
   ]
  },
  {
   "cell_type": "code",
   "execution_count": 96,
   "metadata": {},
   "outputs": [
    {
     "name": "stderr",
     "output_type": "stream",
     "text": [
      "c:\\users\\professionally_saket\\appdata\\local\\programs\\python\\python36-32\\lib\\site-packages\\ipykernel_launcher.py:5: RuntimeWarning: covariance is not symmetric positive-semidefinite.\n",
      "  \"\"\"\n",
      "c:\\users\\professionally_saket\\appdata\\local\\programs\\python\\python36-32\\lib\\site-packages\\ipykernel_launcher.py:7: RuntimeWarning: covariance is not symmetric positive-semidefinite.\n",
      "  import sys\n"
     ]
    }
   ],
   "source": [
    "m1,cov1=[9,8],[[1.5,2],[1,2]] #1.5 ->horizontally kitan spread h 2&1->upar aur niche kitan spread h 2-> vertically kitna spread h\n",
    "m2,cov2=[5,13],[[2.5,-1.5],[-1.5,1.5]]\n",
    "m3,cov3=[3,7],[[0.25,0.5],[-0.1,0.5]]\n",
    "\n",
    "data1=np.random.multivariate_normal(m1,cov1,250)\n",
    "data2=np.random.multivariate_normal(m2,cov2,180)\n",
    "data3=np.random.multivariate_normal(m3,cov3,100)\n",
    "\n",
    "X=np.vstack((data3, np.vstack((data1,data2))))\n",
    "np.random.shuffle(X)"
   ]
  },
  {
   "cell_type": "code",
   "execution_count": 97,
   "metadata": {},
   "outputs": [
    {
     "name": "stdout",
     "output_type": "stream",
     "text": [
      "[[ 7.8215008   5.99466065]\n",
      " [ 7.60669249  6.23662934]\n",
      " [ 4.04428652 14.54532779]]\n"
     ]
    }
   ],
   "source": [
    "centroids,C=Kmeans(X,K=3)"
   ]
  },
  {
   "cell_type": "code",
   "execution_count": 98,
   "metadata": {},
   "outputs": [
    {
     "data": {
      "image/png": "[encoded data removed]",
      "text/plain": [
       "<Figure size 432x288 with 1 Axes>"
      ]
     },
     "metadata": {
      "needs_background": "light"
     },
     "output_type": "display_data"
    }
   ],
   "source": [
    "plt.scatter(X[:,0],X[:,-1])\n",
    "plt.plot(centroids[:,0],centroids[:,-1],'r*',markersize=20)\n",
    "plt.show()"
   ]
  }
 ],
 "metadata": {
  "kernelspec": {
   "display_name": "Python 3",
   "language": "python",
   "name": "python3"
  },
  "language_info": {
   "codemirror_mode": {
    "name": "ipython",
    "version": 3
   },
   "file_extension": ".py",
   "mimetype": "text/x-python",
   "name": "python",
   "nbconvert_exporter": "python",
   "pygments_lexer": "ipython3",
   "version": "3.6.8"
  }
 },
 "nbformat": 4,
 "nbformat_minor": 2
}
