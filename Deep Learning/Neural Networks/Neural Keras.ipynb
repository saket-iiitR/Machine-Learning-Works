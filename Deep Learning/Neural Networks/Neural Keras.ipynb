{
 "cells": [
  {
   "cell_type": "markdown",
   "metadata": {},
   "source": [
    "<h1>Neural Network : Keras</h1>\n",
    "<h6>Saket Tiwari</h6>\n",
    "Date: 28 June 2019"
   ]
  },
  {
   "cell_type": "code",
   "execution_count": 25,
   "metadata": {},
   "outputs": [],
   "source": [
    "import numpy as np\n",
    "import matplotlib.pyplot as plt\n",
    "%matplotlib inline"
   ]
  },
  {
   "cell_type": "code",
   "execution_count": 26,
   "metadata": {},
   "outputs": [],
   "source": [
    "import keras\n",
    "from keras.layers import Dense, Activation\n",
    "from keras.models import Sequential\n",
    "from keras.utils import np_utils"
   ]
  },
  {
   "cell_type": "code",
   "execution_count": 27,
   "metadata": {},
   "outputs": [
    {
     "name": "stdout",
     "output_type": "stream",
     "text": [
      "(2000, 2) (2000,)\n"
     ]
    },
    {
     "data": {
      "image/png": "[encoded data removed]",
      "text/plain": [
       "<Figure size 432x288 with 1 Axes>"
      ]
     },
     "metadata": {
      "needs_background": "light"
     },
     "output_type": "display_data"
    }
   ],
   "source": [
    "from sklearn.datasets import make_circles\n",
    "\n",
    "X,y = make_circles(n_samples=2000, factor=0.4)\n",
    "print(X.shape, y.shape)\n",
    "\n",
    "plt.scatter(X[:,0], X[:,1], c=y)\n",
    "plt.show()"
   ]
  },
  {
   "cell_type": "code",
   "execution_count": 28,
   "metadata": {},
   "outputs": [
    {
     "data": {
      "text/plain": [
       "(array([0, 1], dtype=int64), array([1000, 1000], dtype=int64))"
      ]
     },
     "execution_count": 28,
     "metadata": {},
     "output_type": "execute_result"
    }
   ],
   "source": [
    "np.unique(y , return_counts=True)"
   ]
  },
  {
   "cell_type": "code",
   "execution_count": 29,
   "metadata": {},
   "outputs": [
    {
     "name": "stdout",
     "output_type": "stream",
     "text": [
      "(2000, 2)\n",
      "[[0. 1.]\n",
      " [1. 0.]\n",
      " [0. 1.]\n",
      " [0. 1.]\n",
      " [1. 0.]\n",
      " [0. 1.]\n",
      " [1. 0.]\n",
      " [0. 1.]\n",
      " [0. 1.]\n",
      " [0. 1.]]\n"
     ]
    }
   ],
   "source": [
    "#One hot encoding of Y\n",
    "Y=np_utils.to_categorical(y)\n",
    "print(Y.shape)\n",
    "print(Y[:10])"
   ]
  },
  {
   "cell_type": "code",
   "execution_count": 30,
   "metadata": {},
   "outputs": [
    {
     "name": "stdout",
     "output_type": "stream",
     "text": [
      "(1500, 2) (500, 2)\n",
      "(1500, 2) (500, 2)\n"
     ]
    }
   ],
   "source": [
    "from sklearn.model_selection import train_test_split\n",
    "\n",
    "X_train,X_test,y_train,y_test = train_test_split(X,Y)\n",
    "print(X_train.shape, X_test.shape)\n",
    "print(y_train.shape, y_test.shape)"
   ]
  },
  {
   "cell_type": "code",
   "execution_count": 34,
   "metadata": {},
   "outputs": [
    {
     "name": "stdout",
     "output_type": "stream",
     "text": [
      "_________________________________________________________________\n",
      "Layer (type)                 Output Shape              Param #   \n",
      "=================================================================\n",
      "dense_13 (Dense)             (None, 5)                 15        \n",
      "_________________________________________________________________\n",
      "activation_13 (Activation)   (None, 5)                 0         \n",
      "_________________________________________________________________\n",
      "dense_14 (Dense)             (None, 2)                 12        \n",
      "_________________________________________________________________\n",
      "activation_14 (Activation)   (None, 2)                 0         \n",
      "=================================================================\n",
      "Total params: 27\n",
      "Trainable params: 27\n",
      "Non-trainable params: 0\n",
      "_________________________________________________________________\n"
     ]
    }
   ],
   "source": [
    "model= Sequential()\n",
    "model.add(Dense(5, input_shape=(2,)))\n",
    "model.add(Activation('relu'))\n",
    "\n",
    "model.add(Dense(2))\n",
    "model.add(Activation('softmax'))\n",
    "\n",
    "model.summary()"
   ]
  },
  {
   "cell_type": "code",
   "execution_count": 35,
   "metadata": {},
   "outputs": [],
   "source": [
    "model.compile(optimizer='adam', loss='binary_crossentropy', metrics= ['accuracy'])"
   ]
  },
  {
   "cell_type": "code",
   "execution_count": 36,
   "metadata": {},
   "outputs": [
    {
     "name": "stdout",
     "output_type": "stream",
     "text": [
      "Train on 1500 samples, validate on 500 samples\n",
      "Epoch 1/20\n",
      " - 1s - loss: 0.7155 - acc: 0.4907 - val_loss: 0.7058 - val_acc: 0.4740\n",
      "Epoch 2/20\n",
      " - 0s - loss: 0.6956 - acc: 0.4707 - val_loss: 0.6882 - val_acc: 0.4620\n",
      "Epoch 3/20\n",
      " - 0s - loss: 0.6774 - acc: 0.4967 - val_loss: 0.6691 - val_acc: 0.4860\n",
      "Epoch 4/20\n",
      " - 0s - loss: 0.6554 - acc: 0.5513 - val_loss: 0.6452 - val_acc: 0.5660\n",
      "Epoch 5/20\n",
      " - 0s - loss: 0.6286 - acc: 0.6233 - val_loss: 0.6176 - val_acc: 0.5840\n",
      "Epoch 6/20\n",
      " - 0s - loss: 0.5985 - acc: 0.6267 - val_loss: 0.5867 - val_acc: 0.7140\n",
      "Epoch 7/20\n",
      " - 0s - loss: 0.5657 - acc: 0.8193 - val_loss: 0.5531 - val_acc: 0.8800\n",
      "Epoch 8/20\n",
      " - 0s - loss: 0.5311 - acc: 0.9713 - val_loss: 0.5179 - val_acc: 1.0000\n",
      "Epoch 9/20\n",
      " - 0s - loss: 0.4951 - acc: 1.0000 - val_loss: 0.4813 - val_acc: 1.0000\n",
      "Epoch 10/20\n",
      " - 0s - loss: 0.4589 - acc: 1.0000 - val_loss: 0.4453 - val_acc: 1.0000\n",
      "Epoch 11/20\n",
      " - 0s - loss: 0.4233 - acc: 1.0000 - val_loss: 0.4100 - val_acc: 1.0000\n",
      "Epoch 12/20\n",
      " - 0s - loss: 0.3891 - acc: 1.0000 - val_loss: 0.3763 - val_acc: 1.0000\n",
      "Epoch 13/20\n",
      " - 0s - loss: 0.3568 - acc: 1.0000 - val_loss: 0.3445 - val_acc: 1.0000\n",
      "Epoch 14/20\n",
      " - 0s - loss: 0.3265 - acc: 1.0000 - val_loss: 0.3150 - val_acc: 1.0000\n",
      "Epoch 15/20\n",
      " - 0s - loss: 0.2983 - acc: 1.0000 - val_loss: 0.2877 - val_acc: 1.0000\n",
      "Epoch 16/20\n",
      " - 0s - loss: 0.2724 - acc: 1.0000 - val_loss: 0.2628 - val_acc: 1.0000\n",
      "Epoch 17/20\n",
      " - 0s - loss: 0.2489 - acc: 1.0000 - val_loss: 0.2401 - val_acc: 1.0000\n",
      "Epoch 18/20\n",
      " - 0s - loss: 0.2272 - acc: 1.0000 - val_loss: 0.2195 - val_acc: 1.0000\n",
      "Epoch 19/20\n",
      " - 0s - loss: 0.2076 - acc: 1.0000 - val_loss: 0.2006 - val_acc: 1.0000\n",
      "Epoch 20/20\n",
      " - 0s - loss: 0.1898 - acc: 1.0000 - val_loss: 0.1835 - val_acc: 1.0000\n"
     ]
    },
    {
     "data": {
      "text/plain": [
       "<keras.callbacks.History at 0x2a6119df668>"
      ]
     },
     "execution_count": 36,
     "metadata": {},
     "output_type": "execute_result"
    }
   ],
   "source": [
    "model.fit(X_train,y_train,batch_size= 16 ,epochs=20, verbose=2, validation_data = (X_test,y_test))\n",
    "# epoch is no of time we see the dataset\n",
    "# batch_size is no of training examples after which theta will be updated."
   ]
  }
 ],
 "metadata": {
  "kernelspec": {
   "display_name": "Python 3",
   "language": "python",
   "name": "python3"
  },
  "language_info": {
   "codemirror_mode": {
    "name": "ipython",
    "version": 3
   },
   "file_extension": ".py",
   "mimetype": "text/x-python",
   "name": "python",
   "nbconvert_exporter": "python",
   "pygments_lexer": "ipython3",
   "version": "3.6.8"
  }
 },
 "nbformat": 4,
 "nbformat_minor": 2
}
