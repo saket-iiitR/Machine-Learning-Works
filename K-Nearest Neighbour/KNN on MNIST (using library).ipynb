{
 "cells": [
  {
   "cell_type": "markdown",
   "metadata": {},
   "source": [
    "<h1>KNN MNIST</h1>\n",
    "<h6>Saket Tiwari</h6>\n",
    "Date: 15 July 2019"
   ]
  },
  {
   "cell_type": "code",
   "execution_count": 10,
   "metadata": {},
   "outputs": [],
   "source": [
    "import numpy as np\n",
    "import matplotlib.pyplot as plt"
   ]
  },
  {
   "cell_type": "code",
   "execution_count": 3,
   "metadata": {},
   "outputs": [],
   "source": [
    "from sklearn.datasets import load_digits"
   ]
  },
  {
   "cell_type": "code",
   "execution_count": 4,
   "metadata": {},
   "outputs": [
    {
     "data": {
      "text/plain": [
       "dict_keys(['data', 'target', 'target_names', 'images', 'DESCR'])"
      ]
     },
     "execution_count": 4,
     "metadata": {},
     "output_type": "execute_result"
    }
   ],
   "source": [
    "dataset=load_digits()\n",
    "dataset.keys()"
   ]
  },
  {
   "cell_type": "code",
   "execution_count": 5,
   "metadata": {},
   "outputs": [],
   "source": [
    "from sklearn.model_selection import train_test_split"
   ]
  },
  {
   "cell_type": "code",
   "execution_count": 6,
   "metadata": {},
   "outputs": [],
   "source": [
    "X_train,X_test,y_train,y_test= train_test_split(dataset['data'],dataset['target'])"
   ]
  },
  {
   "cell_type": "code",
   "execution_count": 7,
   "metadata": {},
   "outputs": [],
   "source": [
    "from sklearn.neighbors import KNeighborsClassifier"
   ]
  },
  {
   "cell_type": "code",
   "execution_count": 8,
   "metadata": {},
   "outputs": [
    {
     "name": "stdout",
     "output_type": "stream",
     "text": [
      "98.88888888888889\n",
      "98.22222222222223\n",
      "98.66666666666667\n",
      "98.66666666666667\n",
      "98.66666666666667\n",
      "98.44444444444444\n",
      "98.66666666666667\n",
      "98.66666666666667\n",
      "98.88888888888889\n",
      "98.44444444444444\n",
      "98.0\n",
      "97.77777777777777\n",
      "98.0\n",
      "97.77777777777777\n",
      "97.77777777777777\n",
      "97.55555555555556\n",
      "97.77777777777777\n",
      "97.55555555555556\n",
      "97.11111111111111\n",
      "97.33333333333334\n",
      "97.11111111111111\n",
      "97.11111111111111\n",
      "97.11111111111111\n",
      "97.11111111111111\n",
      "96.88888888888889\n",
      "96.66666666666667\n",
      "96.88888888888889\n",
      "96.66666666666667\n",
      "96.88888888888889\n",
      "96.66666666666667\n",
      "96.66666666666667\n",
      "96.88888888888889\n",
      "96.22222222222221\n",
      "95.55555555555556\n",
      "95.55555555555556\n",
      "95.33333333333334\n",
      "95.11111111111111\n",
      "95.11111111111111\n",
      "94.88888888888889\n",
      "94.66666666666667\n",
      "94.44444444444444\n",
      "94.22222222222221\n",
      "94.22222222222221\n",
      "94.22222222222221\n",
      "94.22222222222221\n",
      "94.0\n",
      "94.22222222222221\n",
      "94.22222222222221\n",
      "93.55555555555556\n"
     ]
    }
   ],
   "source": [
    "for k in range(1,50):\n",
    "    neigh=KNeighborsClassifier(n_neighbors=k)\n",
    "    neigh.fit(X_train,y_train)\n",
    "    print(neigh.score(X_test,y_test)*100)"
   ]
  },
  {
   "cell_type": "code",
   "execution_count": 17,
   "metadata": {},
   "outputs": [
    {
     "data": {
      "image/png": "[encoded data removed]",
      "text/plain": [
       "<Figure size 432x288 with 1 Axes>"
      ]
     },
     "metadata": {
      "needs_background": "light"
     },
     "output_type": "display_data"
    }
   ],
   "source": [
    "plt.imshow(X_test[50].reshape(8,8),cmap='gray')\n",
    "plt.show()"
   ]
  },
  {
   "cell_type": "code",
   "execution_count": 18,
   "metadata": {},
   "outputs": [
    {
     "data": {
      "text/plain": [
       "array([1])"
      ]
     },
     "execution_count": 18,
     "metadata": {},
     "output_type": "execute_result"
    }
   ],
   "source": [
    "neigh.predict(X_test[0].reshape(1,-1))"
   ]
  }
 ],
 "metadata": {
  "kernelspec": {
   "display_name": "Python 3",
   "language": "python",
   "name": "python3"
  },
  "language_info": {
   "codemirror_mode": {
    "name": "ipython",
    "version": 3
   },
   "file_extension": ".py",
   "mimetype": "text/x-python",
   "name": "python",
   "nbconvert_exporter": "python",
   "pygments_lexer": "ipython3",
   "version": "3.6.8"
  }
 },
 "nbformat": 4,
 "nbformat_minor": 2
}
