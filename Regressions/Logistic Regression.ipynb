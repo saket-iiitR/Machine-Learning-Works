{
 "cells": [
  {
   "cell_type": "markdown",
   "metadata": {},
   "source": [
    "<h1>Logistic Regression</h1>\n",
    "<h6>Saket Tiwari</h6>\n",
    "Date: 20 Jul, 2019"
   ]
  },
  {
   "cell_type": "code",
   "execution_count": 75,
   "metadata": {},
   "outputs": [],
   "source": [
    "import numpy as np\n",
    "import matplotlib.pyplot as plt\n",
    "%matplotlib inline"
   ]
  },
  {
   "cell_type": "code",
   "execution_count": 99,
   "metadata": {},
   "outputs": [
    {
     "name": "stdout",
     "output_type": "stream",
     "text": [
      "(500, 2) (500, 2)\n"
     ]
    }
   ],
   "source": [
    "np.random.seed(100)\n",
    "m1,cov1=np.array([1,5]),np.array([[1,0.1] , [0.1,1]])\n",
    "m2,cov2=np.array([4,5.2]),np.array([[1,0.1] , [0.1,1.2]])\n",
    "\n",
    "dist1=np.random.multivariate_normal(m1,cov1,500)\n",
    "dist2=np.random.multivariate_normal(m2,cov2,500)\n",
    "\n",
    "print(dist1.shape , dist2.shape)"
   ]
  },
  {
   "cell_type": "code",
   "execution_count": 100,
   "metadata": {},
   "outputs": [
    {
     "data": {
      "image/png": "[encoded data removed]",
      "text/plain": [
       "<Figure size 432x288 with 1 Axes>"
      ]
     },
     "metadata": {
      "needs_background": "light"
     },
     "output_type": "display_data"
    }
   ],
   "source": [
    "plt.scatter(dist1[:,0], dist2[:,1])\n",
    "plt.scatter(dist2[:,0], dist2[:,1])\n",
    "plt.show()"
   ]
  },
  {
   "cell_type": "code",
   "execution_count": 101,
   "metadata": {},
   "outputs": [
    {
     "name": "stdout",
     "output_type": "stream",
     "text": [
      "(1000, 3)\n"
     ]
    }
   ],
   "source": [
    "data= np.zeros((1000,3))\n",
    "data[:500, :2]=dist1\n",
    "data[500:, :2]=dist2\n",
    "data[500:, -1]=1\n",
    "print(data.shape)"
   ]
  },
  {
   "cell_type": "code",
   "execution_count": 102,
   "metadata": {},
   "outputs": [
    {
     "data": {
      "text/plain": [
       "array([[0.57375089, 4.56240398, 0.        ],\n",
       "       [1.12849051, 4.84729876, 0.        ],\n",
       "       [0.81452106, 4.83269835, 0.        ],\n",
       "       [4.11967319, 6.68878932, 1.        ],\n",
       "       [1.973647  , 5.64984367, 0.        ],\n",
       "       [0.80657628, 3.29056104, 0.        ],\n",
       "       [0.75789556, 5.26221408, 0.        ],\n",
       "       [0.60038341, 5.46620652, 0.        ],\n",
       "       [1.0968453 , 4.86815395, 0.        ],\n",
       "       [0.70545631, 4.77124696, 0.        ]])"
      ]
     },
     "execution_count": 102,
     "metadata": {},
     "output_type": "execute_result"
    }
   ],
   "source": [
    "np.random.shuffle(data)\n",
    "data[:10]"
   ]
  },
  {
   "cell_type": "code",
   "execution_count": 103,
   "metadata": {},
   "outputs": [],
   "source": [
    "split=int(0.7*1000)\n",
    "X_train=data[:split, :2]\n",
    "X_test= data[split:, :2]\n",
    "\n",
    "y_train=data[:split, -1]\n",
    "y_test=data[split :,-1]"
   ]
  },
  {
   "cell_type": "code",
   "execution_count": 104,
   "metadata": {},
   "outputs": [
    {
     "name": "stdout",
     "output_type": "stream",
     "text": [
      "(700, 2) (700,)\n",
      "(300, 2) (300,)\n"
     ]
    }
   ],
   "source": [
    "print(X_train.shape,y_train.shape)\n",
    "print(X_test.shape,y_test.shape)"
   ]
  },
  {
   "cell_type": "code",
   "execution_count": 105,
   "metadata": {},
   "outputs": [],
   "source": [
    "def sigmoid(z):\n",
    "    return 1.0/(1+np.exp(-1*z))"
   ]
  },
  {
   "cell_type": "code",
   "execution_count": 106,
   "metadata": {},
   "outputs": [],
   "source": [
    "def hypothesis(X,W,b):\n",
    "    h=(X*W).sum()+b\n",
    "    return sigmoid(h)"
   ]
  },
  {
   "cell_type": "code",
   "execution_count": 107,
   "metadata": {},
   "outputs": [],
   "source": [
    "#Binary Cross-Entropy\n",
    "def log_likelihood(X, W, y_true, b):\n",
    "    \n",
    "    total=0.0\n",
    "    m=X.shape[0]\n",
    "    for i in range(m):\n",
    "        if y_true[i] == 0:\n",
    "            total += np.log(1-hypothesis(X[i],W,b))\n",
    "        else:\n",
    "            total += np.log(hypothesis(X[i],W,b))\n",
    "    total /=m\n",
    "    return total"
   ]
  },
  {
   "cell_type": "code",
   "execution_count": 108,
   "metadata": {},
   "outputs": [],
   "source": [
    "def gradirent_ascent(X,W,b,y_true,learning_rate=0.1):\n",
    "    \n",
    "    gradW=np.zeros(2)\n",
    "    gradB=0.0    \n",
    "    m=X.shape[0]    \n",
    "    for i in range(m):\n",
    "        gradW += (y_true[i]-hypothesis(X[i],W,b))*(X[i])\n",
    "        gradB += (y_true[i]-hypothesis(X[i],W,b))\n",
    "    \n",
    "    gradW /=m\n",
    "    gradB /=m\n",
    "    \n",
    "    W+=learning_rate*gradW\n",
    "    b+=learning_rate*gradB\n",
    "    \n",
    "    log_like=log_likelihood(X,W,y_true,b)\n",
    "    return W,b,log_like"
   ]
  },
  {
   "cell_type": "code",
   "execution_count": 109,
   "metadata": {},
   "outputs": [
    {
     "name": "stdout",
     "output_type": "stream",
     "text": [
      "2.5751130142615204\n",
      "[ 2.47979009 -1.62793111]\n"
     ]
    }
   ],
   "source": [
    "W = np.array([0.5,0.5])\n",
    "b = 4.2\n",
    "log_likes=[]\n",
    "for i in range(400):\n",
    "    W,b,logs=gradirent_ascent(X_train,W,b,y_train,learning_rate=0.1)\n",
    "    log_likes.append(logs)\n",
    "    \n",
    "print(b)\n",
    "print(W)\n",
    "    "
   ]
  },
  {
   "cell_type": "code",
   "execution_count": 110,
   "metadata": {},
   "outputs": [
    {
     "name": "stdout",
     "output_type": "stream",
     "text": [
      "-0.27010681285263083\n"
     ]
    },
    {
     "data": {
      "image/png": "[encoded data removed]",
      "text/plain": [
       "<Figure size 432x288 with 1 Axes>"
      ]
     },
     "metadata": {
      "needs_background": "light"
     },
     "output_type": "display_data"
    }
   ],
   "source": [
    "print(log_likes[-1])\n",
    "plt.plot(log_likes)\n",
    "plt.show()"
   ]
  },
  {
   "cell_type": "code",
   "execution_count": null,
   "metadata": {},
   "outputs": [],
   "source": []
  },
  {
   "cell_type": "code",
   "execution_count": 111,
   "metadata": {},
   "outputs": [],
   "source": [
    "def predict(x_sample,W,b):\n",
    "    \n",
    "    conf = hypothesis(x_sample, W, b)\n",
    "    \n",
    "    if conf >0.5:\n",
    "        return 1\n",
    "    else:\n",
    "        return 0"
   ]
  },
  {
   "cell_type": "code",
   "execution_count": 112,
   "metadata": {},
   "outputs": [],
   "source": [
    "def score(X_test,y_test,W,b):\n",
    "    preds=[]\n",
    "    m=X_test.shape[0]\n",
    "    for i in range(m):\n",
    "        p=predict(X_test[i],W,b)\n",
    "        preds.append(p)\n",
    "    preds=np.asarray(preds)\n",
    "    \n",
    "    return 100* (preds==y_test).sum() /m"
   ]
  },
  {
   "cell_type": "code",
   "execution_count": 113,
   "metadata": {},
   "outputs": [
    {
     "data": {
      "text/plain": [
       "88.0"
      ]
     },
     "execution_count": 113,
     "metadata": {},
     "output_type": "execute_result"
    }
   ],
   "source": [
    "score(X_test,y_test,W,b)"
   ]
  },
  {
   "cell_type": "code",
   "execution_count": 114,
   "metadata": {},
   "outputs": [
    {
     "data": {
      "image/png": "[encoded data removed]",
      "text/plain": [
       "<Figure size 432x288 with 1 Axes>"
      ]
     },
     "metadata": {
      "needs_background": "light"
     },
     "output_type": "display_data"
    }
   ],
   "source": [
    "plt.scatter(dist1[:,0], dist2[:,1], color='r')\n",
    "plt.scatter(dist2[:,0], dist2[:,1], color='g')\n",
    "\n",
    "m=X_test.shape[0]\n",
    "\n",
    "for i in range(m):\n",
    "    x=X_test[i]\n",
    "    p=predict(x,W,b)\n",
    "    if p==0:\n",
    "        plt.plot(x[0],x[1],'b.')\n",
    "    else:\n",
    "        plt.plot(x[0],x[1],'y.')\n",
    "plt.show()\n"
   ]
  }
 ],
 "metadata": {
  "kernelspec": {
   "display_name": "Python 3",
   "language": "python",
   "name": "python3"
  },
  "language_info": {
   "codemirror_mode": {
    "name": "ipython",
    "version": 3
   },
   "file_extension": ".py",
   "mimetype": "text/x-python",
   "name": "python",
   "nbconvert_exporter": "python",
   "pygments_lexer": "ipython3",
   "version": "3.6.8"
  }
 },
 "nbformat": 4,
 "nbformat_minor": 2
}
