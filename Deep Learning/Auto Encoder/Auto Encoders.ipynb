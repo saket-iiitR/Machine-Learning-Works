{
 "cells": [
  {
   "cell_type": "markdown",
   "metadata": {},
   "source": [
    "<h1>Auto Encoder</h1>\n",
    "<h6>Saket Tiwari</h6>\n",
    "Date: 01 July 2019"
   ]
  },
  {
   "cell_type": "code",
   "execution_count": 33,
   "metadata": {},
   "outputs": [],
   "source": [
    "#in autoencoding we first encode the image to compress the image and then decoding or expanding image\n",
    "#since compression is dataset dependent therefore we will not use it to\n",
    "#it is actually used to clrear the noise \n",
    "#it is unsupervised\n",
    "#we use it for noise removal"
   ]
  },
  {
   "cell_type": "code",
   "execution_count": 34,
   "metadata": {},
   "outputs": [],
   "source": [
    "import numpy as np\n",
    "import matplotlib.pyplot as plt\n",
    "%matplotlib inline"
   ]
  },
  {
   "cell_type": "code",
   "execution_count": 35,
   "metadata": {},
   "outputs": [],
   "source": [
    "from keras.datasets import mnist"
   ]
  },
  {
   "cell_type": "code",
   "execution_count": 36,
   "metadata": {},
   "outputs": [],
   "source": [
    "(x_train, _ ), (x_test, _) = mnist.load_data() #we dont require y_train or y_test because unsupervised learning, model will learn itself"
   ]
  },
  {
   "cell_type": "code",
   "execution_count": 37,
   "metadata": {},
   "outputs": [],
   "source": [
    "x_train=x_train.astype('float32')/255 #Normalizing\n",
    "x_test=x_test.astype('float32')/255 #Normalizing"
   ]
  },
  {
   "cell_type": "code",
   "execution_count": 38,
   "metadata": {},
   "outputs": [
    {
     "name": "stdout",
     "output_type": "stream",
     "text": [
      "(10000, 28, 28, 1) (60000, 28, 28, 1)\n"
     ]
    }
   ],
   "source": [
    "x_train=x_train.reshape(-1,28,28,1)\n",
    "x_test=x_test.reshape(-1,28,28,1)\n",
    "print(x_test.shape,x_train.shape)"
   ]
  },
  {
   "cell_type": "code",
   "execution_count": 39,
   "metadata": {},
   "outputs": [],
   "source": [
    "#adding random noise\n",
    "noise_factor= 0.5\n",
    "x_train_noisy = x_train + noise_factor*np.random.normal(loc=0.0, scale=1.0, size= x_train.shape)\n",
    "x_test_noisy = x_test + noise_factor*np.random.normal(loc=0.0, scale=1.0, size= x_test.shape)\n",
    "\n",
    "x_train_noisy =np.clip(x_train_noisy,0.,1.) # value less than 0 becomes 0 and greatefr than 1 becomes 1\n",
    "x_test_noisy =np.clip(x_test_noisy,0.,1.) # value less than 0 becomes 0 and greatefr than 1 becomes 1"
   ]
  },
  {
   "cell_type": "code",
   "execution_count": 40,
   "metadata": {},
   "outputs": [
    {
     "data": {
      "image/png": "[encoded data removed]",
      "text/plain": [
       "<Figure size 1440x144 with 10 Axes>"
      ]
     },
     "metadata": {
      "needs_background": "light"
     },
     "output_type": "display_data"
    }
   ],
   "source": [
    "n=10\n",
    "plt.figure(figsize=(20,2))\n",
    "for i in range(1, n+1):\n",
    "    ax= plt.subplot(1,n,i)\n",
    "    plt.imshow(x_test_noisy[i].reshape(28,28))\n",
    "    plt.gray()\n",
    "plt.show()"
   ]
  },
  {
   "cell_type": "code",
   "execution_count": 41,
   "metadata": {},
   "outputs": [],
   "source": [
    "import keras\n",
    "from keras.layers import Input, Dense, Conv2D, MaxPooling2D, UpSampling2D\n",
    "from keras.models import Model\n"
   ]
  },
  {
   "cell_type": "code",
   "execution_count": 45,
   "metadata": {},
   "outputs": [],
   "source": [
    "#Encoder\n",
    "\n",
    "input_img= Input(shape=(28,28,1))\n",
    "x=Conv2D(32, (3,3), activation='relu', padding = 'same')(input_img)\n",
    "#here the dimension of the image remains same because we have used padding='same'\n",
    "x=MaxPooling2D((2,2), padding='same')(x)\n",
    "#here dimension becomes half\n",
    "\n",
    "x=Conv2D(32, (3,3), activation='relu', padding = 'same')(x)\n",
    "#here the dimension of the image remains same because we have used padding='same'\n",
    "encoded=MaxPooling2D((2,2), padding='same')(x)\n",
    "# 'same' gives us the matrix one greater dimension if the dimension is odd so that no data is lost\n",
    "# 'valid' removes one dimension therefore data is lost\n",
    "\n",
    "\n",
    "\n",
    "#decoder\n",
    "x=Conv2D(32, (3,3), activation='relu', padding = 'same')(encoded)\n",
    "x=UpSampling2D((2,2))(x)\n",
    "\n",
    "x=Conv2D(32, (3,3), activation='relu', padding = 'same')(x)\n",
    "x=UpSampling2D((2,2))(x)\n",
    "\n",
    "decoded= Conv2D(1, (3,3), activation='sigmoid', padding='same')(x)\n",
    "\n",
    "autoencoder = Model(input_img, decoded)\n",
    "autoencoder.compile(optimizer='adadelta', loss='binary_crossentropy')"
   ]
  },
  {
   "cell_type": "code",
   "execution_count": 46,
   "metadata": {},
   "outputs": [
    {
     "name": "stdout",
     "output_type": "stream",
     "text": [
      "_________________________________________________________________\n",
      "Layer (type)                 Output Shape              Param #   \n",
      "=================================================================\n",
      "input_4 (InputLayer)         (None, 28, 28, 1)         0         \n",
      "_________________________________________________________________\n",
      "conv2d_11 (Conv2D)           (None, 28, 28, 32)        320       \n",
      "_________________________________________________________________\n",
      "max_pooling2d_5 (MaxPooling2 (None, 14, 14, 32)        0         \n",
      "_________________________________________________________________\n",
      "conv2d_12 (Conv2D)           (None, 14, 14, 32)        9248      \n",
      "_________________________________________________________________\n",
      "max_pooling2d_6 (MaxPooling2 (None, 7, 7, 32)          0         \n",
      "_________________________________________________________________\n",
      "conv2d_13 (Conv2D)           (None, 7, 7, 32)          9248      \n",
      "_________________________________________________________________\n",
      "up_sampling2d_5 (UpSampling2 (None, 14, 14, 32)        0         \n",
      "_________________________________________________________________\n",
      "conv2d_14 (Conv2D)           (None, 14, 14, 32)        9248      \n",
      "_________________________________________________________________\n",
      "up_sampling2d_6 (UpSampling2 (None, 28, 28, 32)        0         \n",
      "_________________________________________________________________\n",
      "conv2d_15 (Conv2D)           (None, 28, 28, 1)         289       \n",
      "=================================================================\n",
      "Total params: 28,353\n",
      "Trainable params: 28,353\n",
      "Non-trainable params: 0\n",
      "_________________________________________________________________\n"
     ]
    }
   ],
   "source": [
    "autoencoder.summary()"
   ]
  },
  {
   "cell_type": "code",
   "execution_count": 47,
   "metadata": {},
   "outputs": [
    {
     "name": "stderr",
     "output_type": "stream",
     "text": [
      "W0701 13:03:12.873377 11080 deprecation_wrapper.py:119] From c:\\users\\professionally_saket\\appdata\\local\\programs\\python\\python36\\lib\\site-packages\\keras\\backend\\tensorflow_backend.py:986: The name tf.assign_add is deprecated. Please use tf.compat.v1.assign_add instead.\n",
      "\n"
     ]
    },
    {
     "name": "stdout",
     "output_type": "stream",
     "text": [
      "Train on 60000 samples, validate on 10000 samples\n",
      "Epoch 1/10\n",
      "60000/60000 [==============================] - 129s 2ms/step - loss: 0.1840 - val_loss: 0.1237\n",
      "Epoch 2/10\n",
      "60000/60000 [==============================] - 133s 2ms/step - loss: 0.1188 - val_loss: 0.1131\n",
      "Epoch 3/10\n",
      "60000/60000 [==============================] - 130s 2ms/step - loss: 0.1120 - val_loss: 0.1070\n",
      "Epoch 4/10\n",
      "60000/60000 [==============================] - 168s 3ms/step - loss: 0.1081 - val_loss: 0.1046\n",
      "Epoch 5/10\n",
      "60000/60000 [==============================] - 232s 4ms/step - loss: 0.1059 - val_loss: 0.1048\n",
      "Epoch 6/10\n",
      "60000/60000 [==============================] - 233s 4ms/step - loss: 0.1044 - val_loss: 0.1060\n",
      "Epoch 7/10\n",
      "60000/60000 [==============================] - 232s 4ms/step - loss: 0.1029 - val_loss: 0.1026\n",
      "Epoch 8/10\n",
      "60000/60000 [==============================] - 231s 4ms/step - loss: 0.1023 - val_loss: 0.1002\n",
      "Epoch 9/10\n",
      "60000/60000 [==============================] - 232s 4ms/step - loss: 0.1015 - val_loss: 0.1008\n",
      "Epoch 10/10\n",
      "60000/60000 [==============================] - 232s 4ms/step - loss: 0.1010 - val_loss: 0.1000\n"
     ]
    },
    {
     "data": {
      "text/plain": [
       "<keras.callbacks.History at 0x1ab89b608d0>"
      ]
     },
     "execution_count": 47,
     "metadata": {},
     "output_type": "execute_result"
    }
   ],
   "source": [
    "autoencoder.fit(x_train_noisy, x_train, epochs=10, batch_size=128, shuffle=True,validation_data=(x_test_noisy,x_test))"
   ]
  }
 ],
 "metadata": {
  "kernelspec": {
   "display_name": "Python 3",
   "language": "python",
   "name": "python3"
  },
  "language_info": {
   "codemirror_mode": {
    "name": "ipython",
    "version": 3
   },
   "file_extension": ".py",
   "mimetype": "text/x-python",
   "name": "python",
   "nbconvert_exporter": "python",
   "pygments_lexer": "ipython3",
   "version": "3.6.8"
  }
 },
 "nbformat": 4,
 "nbformat_minor": 2
}
